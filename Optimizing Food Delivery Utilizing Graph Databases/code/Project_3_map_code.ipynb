{
 "cells": [
  {
   "cell_type": "markdown",
   "id": "61926c07",
   "metadata": {},
   "source": [
    "# Project 3: Map displays of customers and population served by target BART lines\n",
    "\n",
    "University of California, Berkeley\n",
    "\n",
    "Master of Information and Data Science (MIDS) program\n",
    "\n",
    "w205 - Fundamentals of Data Engineering"
   ]
  },
  {
   "cell_type": "markdown",
   "id": "c506cafe",
   "metadata": {},
   "source": [
    "## imports"
   ]
  },
  {
   "cell_type": "code",
   "execution_count": 1,
   "id": "7706a6ae",
   "metadata": {},
   "outputs": [],
   "source": [
    "import math\n",
    "import numpy as np\n",
    "import pandas as pd\n",
    "\n",
    "import psycopg2\n",
    "\n",
    "import json\n",
    "\n",
    "import gmaps\n",
    "import gmaps.geojson_geometries\n",
    "\n",
    "from geographiclib.geodesic import Geodesic"
   ]
  },
  {
   "cell_type": "markdown",
   "id": "f5fa3e1e",
   "metadata": {},
   "source": [
    "## my_select_query_pandas() - function to run a select query and return rows in a Pandas dataframe"
   ]
  },
  {
   "cell_type": "code",
   "execution_count": 2,
   "id": "af975a59",
   "metadata": {},
   "outputs": [],
   "source": [
    "#\n",
    "# function to run a select query and return rows in a pandas dataframe\n",
    "# pandas puts all numeric values from postgres to float\n",
    "# if it will fit in an integer, change it to integer\n",
    "#\n",
    "\n",
    "def my_select_query_pandas(query, rollback_before_flag, rollback_after_flag):\n",
    "    \"function to run a select query and return rows in a pandas dataframe\"\n",
    "    \n",
    "    if rollback_before_flag:\n",
    "        connection.rollback()\n",
    "    \n",
    "    df = pd.read_sql_query(query, connection)\n",
    "    \n",
    "    if rollback_after_flag:\n",
    "        connection.rollback()\n",
    "    \n",
    "    # fix the float columns that really should be integers\n",
    "    \n",
    "    for column in df:\n",
    "    \n",
    "        if df[column].dtype == \"float64\":\n",
    "\n",
    "            fraction_flag = False\n",
    "\n",
    "            for value in df[column].values:\n",
    "                \n",
    "                if not np.isnan(value):\n",
    "                    if value - math.floor(value) != 0:\n",
    "                        fraction_flag = True\n",
    "\n",
    "            if not fraction_flag:\n",
    "                df[column] = df[column].astype('Int64')\n",
    "    \n",
    "    return(df)\n",
    "    "
   ]
  },
  {
   "cell_type": "markdown",
   "id": "73db24eb",
   "metadata": {},
   "source": [
    "## Connect to the Postgres database"
   ]
  },
  {
   "cell_type": "code",
   "execution_count": 3,
   "id": "24092101",
   "metadata": {},
   "outputs": [],
   "source": [
    "connection = psycopg2.connect(\n",
    "    user = \"postgres\",\n",
    "    password = \"ucb\",\n",
    "    host = \"postgres\",\n",
    "    port = \"5432\",\n",
    "    database = \"postgres\"\n",
    ")"
   ]
  },
  {
   "cell_type": "markdown",
   "id": "4b7d7090",
   "metadata": {},
   "source": [
    "## Create a cursor for the connection"
   ]
  },
  {
   "cell_type": "code",
   "execution_count": 4,
   "id": "f9a416eb",
   "metadata": {},
   "outputs": [],
   "source": [
    "cursor = connection.cursor()"
   ]
  },
  {
   "cell_type": "markdown",
   "id": "2cf448af",
   "metadata": {},
   "source": [
    "# Project 3: Google Maps of customers and population\n",
    "\n",
    "## Connect to Google Maps using your api key;  edit the file gmap_api_key.txt and put in your api key"
   ]
  },
  {
   "cell_type": "code",
   "execution_count": 5,
   "id": "3781379f",
   "metadata": {},
   "outputs": [],
   "source": [
    "f = open('gmap_api_key.txt', 'r')\n",
    "my_api_key = f.read()\n",
    "f.close()\n",
    "\n",
    "gmaps.configure(api_key=my_api_key)"
   ]
  },
  {
   "cell_type": "code",
   "execution_count": 6,
   "id": "67438c96",
   "metadata": {},
   "outputs": [
    {
     "data": {
      "application/vnd.jupyter.widget-view+json": {
       "model_id": "91e5d722ea8a421281d37d10928323bf",
       "version_major": 2,
       "version_minor": 0
      },
      "text/plain": [
       "Figure(layout=FigureLayout(height='420px'))"
      ]
     },
     "metadata": {},
     "output_type": "display_data"
    }
   ],
   "source": [
    "AGM_berkeley_store = (37.85616355778589, -122.25991778607198)\n",
    "\n",
    "gmaps.figure(center = AGM_berkeley_store, zoom_level=9)"
   ]
  },
  {
   "cell_type": "code",
   "execution_count": 7,
   "id": "ed350ebd",
   "metadata": {},
   "outputs": [],
   "source": [
    "lat_lon = {'latitude': [37.85616355778589], 'longitude': [-122.25991778607198]}\n",
    "df = pd.DataFrame(lat_lon)"
   ]
  },
  {
   "cell_type": "markdown",
   "id": "d8667d62",
   "metadata": {},
   "source": [
    "# Map with Marker for the Berkeley AGM store"
   ]
  },
  {
   "cell_type": "code",
   "execution_count": 8,
   "id": "c22b136c",
   "metadata": {},
   "outputs": [
    {
     "data": {
      "application/vnd.jupyter.widget-view+json": {
       "model_id": "15b3fba6266247a1ad324f06158e0a75",
       "version_major": 2,
       "version_minor": 0
      },
      "text/plain": [
       "Figure(layout=FigureLayout(height='420px'))"
      ]
     },
     "metadata": {},
     "output_type": "display_data"
    }
   ],
   "source": [
    "#Map with marker for Store\n",
    "fig = gmaps.figure(center = AGM_berkeley_store, zoom_level= 10)\n",
    "\n",
    "df_markers = df[['latitude','longitude']]\n",
    "\n",
    "marker_layer = gmaps.marker_layer(df_markers)\n",
    "\n",
    "fig.add_layer(marker_layer)\n",
    "\n",
    "fig"
   ]
  },
  {
   "cell_type": "markdown",
   "id": "efef8891",
   "metadata": {},
   "source": [
    "# Map centered at AGM store with closest BART station"
   ]
  },
  {
   "cell_type": "code",
   "execution_count": 9,
   "id": "b1f6c42a",
   "metadata": {},
   "outputs": [
    {
     "data": {
      "application/vnd.jupyter.widget-view+json": {
       "model_id": "cd47efeb7c3e4b48b0f8a13f90c41657",
       "version_major": 2,
       "version_minor": 0
      },
      "text/plain": [
       "Figure(layout=FigureLayout(height='420px'))"
      ]
     },
     "metadata": {},
     "output_type": "display_data"
    }
   ],
   "source": [
    "# Map with Marker for closest BART station\n",
    "lat_lon = {'latitude': [37.85616355778589, 37.85297402163031], 'longitude': [-122.25991778607198, -122.27012579956241]}\n",
    "\n",
    "df = pd.DataFrame(lat_lon)\n",
    "\n",
    "fig = gmaps.figure(center = AGM_berkeley_store, zoom_level= 12)\n",
    "\n",
    "df_markers = df[['latitude','longitude']]\n",
    "\n",
    "marker_layer = gmaps.marker_layer(df_markers)\n",
    "\n",
    "#Add transit layer: \n",
    "fig.add_layer(gmaps.transit_layer())\n",
    "\n",
    "fig.add_layer(marker_layer)\n",
    "\n",
    "fig"
   ]
  },
  {
   "cell_type": "markdown",
   "id": "04181a35",
   "metadata": {},
   "source": [
    "# Heatmap of AGM Customers relative to BART lines"
   ]
  },
  {
   "cell_type": "code",
   "execution_count": 10,
   "id": "712c7e55",
   "metadata": {},
   "outputs": [
    {
     "data": {
      "application/vnd.jupyter.widget-view+json": {
       "model_id": "10a4f8bceca04f95831f989eb82542f6",
       "version_major": 2,
       "version_minor": 0
      },
      "text/plain": [
       "Figure(layout=FigureLayout(height='420px'))"
      ]
     },
     "metadata": {},
     "output_type": "display_data"
    }
   ],
   "source": [
    "#Heat Map using Customer data for AGM store\n",
    "rollback_before_flag = True\n",
    "rollback_after_flag = True\n",
    "\n",
    "query = \"\"\"\n",
    "\n",
    "select z.latitude, z.longitude\n",
    "from customers as cu\n",
    "     join zip_codes as z\n",
    "         on cu.zip = z.zip\n",
    "where cu.closest_store_id = 1\n",
    "order by 1,2\n",
    "\n",
    "\"\"\"\n",
    "\n",
    "#Create customer data frame with lat & longitude\n",
    "df_customer = my_select_query_pandas(query, rollback_before_flag, rollback_after_flag)\n",
    "\n",
    "fig = gmaps.figure(center= AGM_berkeley_store, zoom_level= 10)\n",
    "\n",
    "#create Marker for the Berkeley Store location\n",
    "lat_lon = {'latitude': [37.85616355778589], 'longitude': [-122.25991778607198]}\n",
    "df_lat_lon = pd.DataFrame(lat_lon)\n",
    "df_markers = df_lat_lon[['latitude','longitude']]\n",
    "\n",
    "#Add Marker Layer\n",
    "marker_layer = gmaps.marker_layer(df_markers)\n",
    "fig.add_layer(marker_layer)\n",
    "\n",
    "#Add transit layer: \n",
    "fig.add_layer(gmaps.transit_layer())\n",
    "\n",
    "#Add heatmap layer\n",
    "heatmap_layer = gmaps.heatmap_layer(df_customer)\n",
    "\n",
    "fig.add_layer(heatmap_layer)\n",
    "\n",
    "fig\n"
   ]
  },
  {
   "cell_type": "markdown",
   "id": "aa3afa0d",
   "metadata": {},
   "source": [
    "# Heatmap of AGM Berkeley Store Customers within 1 mile of red/orange BART lines"
   ]
  },
  {
   "cell_type": "code",
   "execution_count": 11,
   "id": "1734c54b",
   "metadata": {},
   "outputs": [
    {
     "data": {
      "application/vnd.jupyter.widget-view+json": {
       "model_id": "783987d2b0434574935acaa3b03c785c",
       "version_major": 2,
       "version_minor": 0
      },
      "text/plain": [
       "Figure(layout=FigureLayout(height='420px'))"
      ]
     },
     "metadata": {},
     "output_type": "display_data"
    }
   ],
   "source": [
    "#Heatmap of customers within 1 mile of red/orange lines\n",
    "\n",
    "#Read the Station_zips_customers csv from Chris's work: \n",
    "red_orange_customer_df = pd.read_csv('data/station_zips_customers.csv')\n",
    "\n",
    "#Create dataframe with customer data, join on customer id to get lat/long\n",
    "rollback_before_flag = True\n",
    "rollback_after_flag = True\n",
    "\n",
    "query = \"\"\"\n",
    "\n",
    "select z.latitude, z.longitude, cu.customer_id\n",
    "from customers as cu\n",
    "     join zip_codes as z\n",
    "         on cu.zip = z.zip\n",
    "where cu.closest_store_id = 1\n",
    "order by 1,2, 3\n",
    "\n",
    "\"\"\"\n",
    "\n",
    "#Create customer data frame with lat & longitude\n",
    "df_customer_id_lat_lon = my_select_query_pandas(query, rollback_before_flag, rollback_after_flag)\n",
    "\n",
    "#Join customer red_orange_customer dataframe with customer lat and lon in the dataframe\n",
    "df_red_orange_custid = pd.merge(red_orange_customer_df, df_customer_id_lat_lon, on = 'customer_id')\n",
    "df_red_orange_custid_lat_lon = df_red_orange_custid.drop(columns = ['station', 'zip', 'customer_id', 'street'])\n",
    "\n",
    "#Heat Map of customers within 1 mile of red/orange line stations\n",
    "fig = gmaps.figure(center= AGM_berkeley_store, zoom_level= 10)\n",
    "\n",
    "#create Marker for the Berkeley Store location\n",
    "lat_lon = {'latitude': [37.85616355778589], 'longitude': [-122.25991778607198]}\n",
    "df_lat_lon = pd.DataFrame(lat_lon)\n",
    "df_markers = df_lat_lon[['latitude','longitude']]\n",
    "\n",
    "#Add Marker Layer for Berkeley Store\n",
    "marker_layer = gmaps.marker_layer(df_markers)\n",
    "fig.add_layer(marker_layer)\n",
    "\n",
    "#Add heatmap layer for Customers within 1 mi of \n",
    "heatmap_layer = gmaps.heatmap_layer(df_red_orange_custid_lat_lon)\n",
    "\n",
    "fig.add_layer(heatmap_layer)\n",
    "\n",
    "fig"
   ]
  },
  {
   "cell_type": "markdown",
   "id": "6cbdbda5",
   "metadata": {},
   "source": [
    "# Heatmap of general population within 1 mile of red/orange lines"
   ]
  },
  {
   "cell_type": "code",
   "execution_count": 12,
   "id": "1f9c2f99",
   "metadata": {},
   "outputs": [
    {
     "data": {
      "application/vnd.jupyter.widget-view+json": {
       "model_id": "f267ad419c8b456b9913ba2418531b1c",
       "version_major": 2,
       "version_minor": 0
      },
      "text/plain": [
       "Figure(layout=FigureLayout(height='420px'))"
      ]
     },
     "metadata": {},
     "output_type": "display_data"
    }
   ],
   "source": [
    "#Create dataframe from zip\n",
    "rollback_before_flag = True\n",
    "rollback_after_flag = True\n",
    "\n",
    "query = \"\"\"\n",
    "\n",
    "select *\n",
    "from zip_codes\n",
    "\n",
    "\"\"\"\n",
    "\n",
    "df_zip_codes = my_select_query_pandas(query, rollback_before_flag, rollback_after_flag)\n",
    "#Convert zip codes to int data type for join\n",
    "df_zip_codes['zip'] = pd.to_numeric(df_zip_codes['zip'])\n",
    "\n",
    "#Read the Station_zips csv from Chris's work, join zip data for lat/long \n",
    "df_red_orange_stations_zip = pd.read_csv('data/station_zips.csv')\n",
    "\n",
    "#Join customer red_orange_customer dataframe with customer lat and lon in the dataframe\n",
    "df_red_orange_stations_zip_lat_lon = pd.merge(df_red_orange_stations_zip, df_zip_codes, on = 'zip')\n",
    "\n",
    "#drop duplicate lat long to get a dataframe with unique lat lon for population heatmap purposes\n",
    "df_red_orange_stations_zip_lat_lon = df_red_orange_stations_zip_lat_lon.drop_duplicates(subset =\\\n",
    "                                                                    ['latitude', 'longitude'], keep = 'last')\n",
    "#drop columns to just keep lat, long, population_x\n",
    "df_red_orange_stations_zip_lat_lon = df_red_orange_stations_zip_lat_lon.drop(columns =\\\n",
    "                        ['id','station', 'zip', 'city', 'state', 'population_y', 'area', 'density', 'time_zone'])\n",
    "\n",
    "#From the population within 1 mile of a red/orange station, repeat the row x population count\\\n",
    "#to create heat map dataframe\n",
    "\n",
    "#First, create empty lists for each latitude and longitude to append to n times the population\n",
    "lat = []\n",
    "lon = []\n",
    "\n",
    "for index, row in df_red_orange_stations_zip_lat_lon.iterrows():\n",
    "    lat.append([(row['latitude'])] * int(row['population_x']))\n",
    "    lon.append([(row['longitude'])] * int(row['population_x']))\n",
    "    \n",
    "#Flatten lat and lon lists for appending to dataframe\n",
    "flat_lat = [item for sublist in lat for item in sublist]\n",
    "flat_lon = [item for sublist in lon for item in sublist]\n",
    "\n",
    "#Convert lists to dataframe and merge on index\n",
    "df_lat = pd.DataFrame (flat_lat, columns = ['latitude'])\n",
    "df_lon = pd.DataFrame(flat_lon, columns = ['longitude'])\n",
    "df_population_heatmap_lat_lon = df_lat.join(df_lon)\n",
    "\n",
    "#Heat Map of population density within 1 mile of red/orange line stations\n",
    "fig = gmaps.figure(center= AGM_berkeley_store, zoom_level= 10)\n",
    "\n",
    "#create Marker for the AGM Berkeley Store location\n",
    "lat_lon = {'latitude': [37.85616355778589], 'longitude': [-122.25991778607198]}\n",
    "df_lat_lon = pd.DataFrame(lat_lon)\n",
    "df_markers = df_lat_lon[['latitude','longitude']]\n",
    "\n",
    "#Add Marker Layer for Berkeley Store\n",
    "marker_layer = gmaps.marker_layer(df_markers)\n",
    "fig.add_layer(marker_layer)\n",
    "\n",
    "#Add heatmap layer for Customers within 1 mi of \n",
    "heatmap_layer = gmaps.heatmap_layer(df_population_heatmap_lat_lon)\n",
    "\n",
    "fig.add_layer(heatmap_layer)\n",
    "\n",
    "fig"
   ]
  },
  {
   "cell_type": "code",
   "execution_count": 13,
   "id": "5e1150bb",
   "metadata": {},
   "outputs": [],
   "source": [
    "#Drop stations table if exists\n",
    "connection.rollback()\n",
    "\n",
    "query = \"\"\"\n",
    "\n",
    "drop table if exists stations;\n",
    "\n",
    "\"\"\"\n",
    "\n",
    "cursor.execute(query)\n",
    "\n",
    "connection.commit()"
   ]
  },
  {
   "cell_type": "code",
   "execution_count": 14,
   "id": "8e13c40b",
   "metadata": {},
   "outputs": [],
   "source": [
    "#Create stations table\n",
    "connection.rollback()\n",
    "\n",
    "query = \"\"\"\n",
    "\n",
    "create table stations (\n",
    "    station varchar(32),\n",
    "    latitude numeric(9,6),\n",
    "    longitude numeric(9,6),\n",
    "    transfer_time numeric(3),\n",
    "    primary key (station))\n",
    "\n",
    "\"\"\"\n",
    "\n",
    "cursor.execute(query)\n",
    "\n",
    "connection.commit()"
   ]
  },
  {
   "cell_type": "code",
   "execution_count": 15,
   "id": "7a57f2c6",
   "metadata": {},
   "outputs": [],
   "source": [
    "#Load stations csv into table\n",
    "connection.rollback()\n",
    "\n",
    "query = \"\"\"\n",
    "\n",
    "copy stations\n",
    "from '/user/projects/project-3-mmartin131/exercise/stations.csv' delimiter ',' NULL '' csv header;\n",
    "\n",
    "\"\"\"\n",
    "\n",
    "cursor.execute(query)\n",
    "\n",
    "connection.commit()"
   ]
  },
  {
   "cell_type": "code",
   "execution_count": 16,
   "id": "c6952c91",
   "metadata": {},
   "outputs": [
    {
     "data": {
      "text/html": [
       "<div>\n",
       "<style scoped>\n",
       "    .dataframe tbody tr th:only-of-type {\n",
       "        vertical-align: middle;\n",
       "    }\n",
       "\n",
       "    .dataframe tbody tr th {\n",
       "        vertical-align: top;\n",
       "    }\n",
       "\n",
       "    .dataframe thead th {\n",
       "        text-align: right;\n",
       "    }\n",
       "</style>\n",
       "<table border=\"1\" class=\"dataframe\">\n",
       "  <thead>\n",
       "    <tr style=\"text-align: right;\">\n",
       "      <th></th>\n",
       "      <th>station</th>\n",
       "      <th>latitude</th>\n",
       "      <th>longitude</th>\n",
       "      <th>transfer_time</th>\n",
       "    </tr>\n",
       "  </thead>\n",
       "  <tbody>\n",
       "    <tr>\n",
       "      <th>0</th>\n",
       "      <td>Downtown Berkeley</td>\n",
       "      <td>37.869799</td>\n",
       "      <td>-122.268197</td>\n",
       "      <td>323</td>\n",
       "    </tr>\n",
       "    <tr>\n",
       "      <th>1</th>\n",
       "      <td>North Berkeley</td>\n",
       "      <td>37.873915</td>\n",
       "      <td>-122.282552</td>\n",
       "      <td>289</td>\n",
       "    </tr>\n",
       "    <tr>\n",
       "      <th>2</th>\n",
       "      <td>Powell Street</td>\n",
       "      <td>37.784000</td>\n",
       "      <td>-122.408000</td>\n",
       "      <td>286</td>\n",
       "    </tr>\n",
       "    <tr>\n",
       "      <th>3</th>\n",
       "      <td>West Oakland</td>\n",
       "      <td>37.804900</td>\n",
       "      <td>-122.295100</td>\n",
       "      <td>283</td>\n",
       "    </tr>\n",
       "  </tbody>\n",
       "</table>\n",
       "</div>"
      ],
      "text/plain": [
       "             station   latitude   longitude  transfer_time\n",
       "0  Downtown Berkeley  37.869799 -122.268197            323\n",
       "1     North Berkeley  37.873915 -122.282552            289\n",
       "2      Powell Street  37.784000 -122.408000            286\n",
       "3       West Oakland  37.804900 -122.295100            283"
      ]
     },
     "execution_count": 16,
     "metadata": {},
     "output_type": "execute_result"
    }
   ],
   "source": [
    "#Todo: create dataframe of 4 selected stations lat/lon\n",
    "\n",
    "\n",
    "\n",
    "rollback_before_flag = True\n",
    "rollback_after_flag = True\n",
    "\n",
    "query = \"\"\"\n",
    "\n",
    "select *\n",
    "from stations\n",
    "where station in ('Downtown Berkeley', 'North Berkeley', 'Powell Street', 'West Oakland')\n",
    "\n",
    "\n",
    "\"\"\"\n",
    "df_pilot_stations = my_select_query_pandas(query, rollback_before_flag, rollback_after_flag)\n",
    "df_pilot_stations"
   ]
  },
  {
   "cell_type": "code",
   "execution_count": 17,
   "id": "ebb7cde9",
   "metadata": {},
   "outputs": [
    {
     "data": {
      "application/vnd.jupyter.widget-view+json": {
       "model_id": "7fe0f8f8e83746c7bb27054246a87acb",
       "version_major": 2,
       "version_minor": 0
      },
      "text/plain": [
       "Figure(layout=FigureLayout(height='420px'))"
      ]
     },
     "metadata": {},
     "output_type": "display_data"
    }
   ],
   "source": [
    "# Map with selected 4 stations for pilot and the population density heatmap \n",
    "\n",
    "#Heat Map of population density within 1 mile of red/orange line stations\n",
    "fig = gmaps.figure(center= AGM_berkeley_store, zoom_level= 10)\n",
    "\n",
    "#create Marker for 4 pilot BART stations\n",
    "df_markers = df_pilot_stations[['latitude','longitude']]\n",
    "\n",
    "#Add Marker Layer for Berkeley Store\n",
    "marker_layer = gmaps.marker_layer(df_markers)\n",
    "fig.add_layer(marker_layer)\n",
    "\n",
    "#Add heatmap layer for Customers within 1 mi of stations\n",
    "heatmap_layer = gmaps.heatmap_layer(df_population_heatmap_lat_lon)\n",
    "\n",
    "fig.add_layer(heatmap_layer)\n",
    "\n",
    "fig"
   ]
  },
  {
   "cell_type": "code",
   "execution_count": 19,
   "id": "34a5bf34",
   "metadata": {},
   "outputs": [
    {
     "data": {
      "text/plain": [
       "(4415, 4)"
      ]
     },
     "execution_count": 19,
     "metadata": {},
     "output_type": "execute_result"
    }
   ],
   "source": [
    "#Calculate number of customers within 1 mi of red/orange lines\n",
    "red_orange_customer_df.shape"
   ]
  },
  {
   "cell_type": "code",
   "execution_count": 24,
   "id": "c12ef173",
   "metadata": {},
   "outputs": [
    {
     "name": "stdout",
     "output_type": "stream",
     "text": [
      "1664536\n"
     ]
    }
   ],
   "source": [
    "#Calculate population within 1 mile of red/orange lines: \n",
    "df_red_orange_stations_population = pd.merge(df_red_orange_stations_zip, df_zip_codes, on = 'zip')\n",
    "df_red_orange_stations_population = df_red_orange_stations_population.drop_duplicates()\n",
    "red_orange_population_total = df_red_orange_stations_population['population_x'].sum()\n",
    "print(red_orange_population_total)"
   ]
  },
  {
   "cell_type": "code",
   "execution_count": 20,
   "id": "f67c6c4c",
   "metadata": {},
   "outputs": [
    {
     "data": {
      "text/plain": [
       "(1613, 4)"
      ]
     },
     "execution_count": 20,
     "metadata": {},
     "output_type": "execute_result"
    }
   ],
   "source": [
    "#Calculate number of customers within 1 mi 4 pilot stations\n",
    "pilots = ['Downtown Berkeley', 'North Berkeley', 'Powell Street', 'West Oakland']\n",
    "red_orange_customer_df[red_orange_customer_df.station.isin(pilots)].shape"
   ]
  },
  {
   "cell_type": "code",
   "execution_count": 26,
   "id": "c597e8ec",
   "metadata": {
    "scrolled": true
   },
   "outputs": [
    {
     "name": "stdout",
     "output_type": "stream",
     "text": [
      "300683\n"
     ]
    }
   ],
   "source": [
    "#Calculate population reached within 1 mi of 4 pilot stations\n",
    "pilot_population = df_red_orange_stations_population[df_red_orange_stations_population.station.isin(pilots)]\n",
    "\n",
    "pilot_population_sum = pilot_population['population_x'].sum()\n",
    "print(pilot_population_sum)"
   ]
  },
  {
   "cell_type": "code",
   "execution_count": 27,
   "id": "6d1fb370",
   "metadata": {},
   "outputs": [
    {
     "data": {
      "text/plain": [
       "(5232, 4)"
      ]
     },
     "execution_count": 27,
     "metadata": {},
     "output_type": "execute_result"
    }
   ],
   "source": [
    "#Calculate customers reached when expanded to yellow line\n",
    "#Read the Station_zips_customersYellow expansion csv from Chris's work: \n",
    "yellow_expansion_customer_df = pd.read_csv('data/station_zips_customers_yellowexpansion.csv')\n",
    "yellow_expansion_customer_df.shape"
   ]
  },
  {
   "cell_type": "code",
   "execution_count": 28,
   "id": "6198c218",
   "metadata": {},
   "outputs": [
    {
     "name": "stdout",
     "output_type": "stream",
     "text": [
      "1933485\n"
     ]
    }
   ],
   "source": [
    "#Calculate population reached when expanded to yellow line\n",
    "#Read the station zips Yellow expansion csv from Chris's work: \n",
    "df_yellow_expansion_staion_zip = pd.read_csv('data/station_zips_yellowexpansion.csv')\n",
    "df_yellow_expansion_population = pd.merge(df_yellow_expansion_staion_zip, df_zip_codes, on = 'zip')\n",
    "df_yellow_expansion_population = df_yellow_expansion_population.drop_duplicates()\n",
    "yellow_expansion_population_total = df_yellow_expansion_population['population_x'].sum()\n",
    "print(yellow_expansion_population_total)"
   ]
  },
  {
   "cell_type": "code",
   "execution_count": null,
   "id": "5b63a43a",
   "metadata": {},
   "outputs": [],
   "source": []
  }
 ],
 "metadata": {
  "kernelspec": {
   "display_name": "Python 3",
   "language": "python",
   "name": "python3"
  },
  "language_info": {
   "codemirror_mode": {
    "name": "ipython",
    "version": 3
   },
   "file_extension": ".py",
   "mimetype": "text/x-python",
   "name": "python",
   "nbconvert_exporter": "python",
   "pygments_lexer": "ipython3",
   "version": "3.8.8"
  }
 },
 "nbformat": 4,
 "nbformat_minor": 5
}
