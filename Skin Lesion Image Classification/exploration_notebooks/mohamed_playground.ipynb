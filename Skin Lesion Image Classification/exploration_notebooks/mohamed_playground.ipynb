{
 "cells": [
  {
   "cell_type": "code",
   "execution_count": 35,
   "id": "84e94086-d946-433f-b475-4ecfe9dbf840",
   "metadata": {},
   "outputs": [],
   "source": [
    "import tensorflow as tf\n",
    "from tensorflow import keras\n",
    "from tensorflow.keras import layers\n",
    "from tensorflow.keras.models import Sequential\n",
    "\n",
    "from importlib import reload\n",
    "import pathlib\n",
    "import utils\n",
    "import data\n",
    "import shutil\n",
    "import lesion_data\n",
    "\n",
    "reload(utils);\n",
    "reload(data);\n",
    "reload(lesion_data);"
   ]
  },
  {
   "cell_type": "code",
   "execution_count": 2,
   "id": "841dd711-98b5-4c26-936e-c5fbedcfeade",
   "metadata": {},
   "outputs": [
    {
     "name": "stdout",
     "output_type": "stream",
     "text": [
      "\n",
      "Unzipping isic_data/ISIC_2019_Training_Input.zip\n",
      "Unzipping isic_data/ISIC_2019_Test_Input.zip\n",
      "\n",
      "Done unzipping file isic_data/ISIC_2019_Test_Input.zip\n",
      "Done unzipping file isic_data/ISIC_2019_Training_Input.zip\n"
     ]
    }
   ],
   "source": [
    "import lesion_data\n",
    "from lesion_data import LesionData\n",
    "from importlib import reload\n",
    "reload(lesion_data);\n",
    "\n",
    "\n",
    "data = LesionData()\n",
    "#data.download()\n",
    "data.unzip(100)"
   ]
  },
  {
   "cell_type": "code",
   "execution_count": 43,
   "id": "590729cd-52f5-459d-802e-c07c67aeaf00",
   "metadata": {},
   "outputs": [
    {
     "ename": "AttributeError",
     "evalue": "'LesionData' object has no attribute 'dir_name'",
     "output_type": "error",
     "traceback": [
      "\u001b[0;31m---------------------------------------------------------------------------\u001b[0m",
      "\u001b[0;31mAttributeError\u001b[0m                            Traceback (most recent call last)",
      "\u001b[0;32m<ipython-input-43-90454170991a>\u001b[0m in \u001b[0;36m<module>\u001b[0;34m\u001b[0m\n\u001b[1;32m      1\u001b[0m \u001b[0;31m# Loading data the keras way\u001b[0m\u001b[0;34m\u001b[0m\u001b[0;34m\u001b[0m\u001b[0;34m\u001b[0m\u001b[0m\n\u001b[0;32m----> 2\u001b[0;31m \u001b[0mdata_dir\u001b[0m \u001b[0;34m=\u001b[0m \u001b[0mpathlib\u001b[0m\u001b[0;34m.\u001b[0m\u001b[0mPath\u001b[0m\u001b[0;34m(\u001b[0m\u001b[0;34m\"/\"\u001b[0m\u001b[0;34m.\u001b[0m\u001b[0mjoin\u001b[0m\u001b[0;34m(\u001b[0m\u001b[0;34m[\u001b[0m\u001b[0mdata\u001b[0m\u001b[0;34m.\u001b[0m\u001b[0mdir_name\u001b[0m\u001b[0;34m,\u001b[0m \u001b[0;34m'ISIC_2019_Training_Input_'\u001b[0m\u001b[0;34m]\u001b[0m\u001b[0;34m)\u001b[0m\u001b[0;34m)\u001b[0m\u001b[0;34m\u001b[0m\u001b[0;34m\u001b[0m\u001b[0m\n\u001b[0m\u001b[1;32m      3\u001b[0m \u001b[0;34m\u001b[0m\u001b[0m\n\u001b[1;32m      4\u001b[0m \u001b[0;31m# nit clean up\u001b[0m\u001b[0;34m\u001b[0m\u001b[0;34m\u001b[0m\u001b[0;34m\u001b[0m\u001b[0m\n\u001b[1;32m      5\u001b[0m \u001b[0;32mtry\u001b[0m\u001b[0;34m:\u001b[0m\u001b[0;34m\u001b[0m\u001b[0;34m\u001b[0m\u001b[0m\n",
      "\u001b[0;31mAttributeError\u001b[0m: 'LesionData' object has no attribute 'dir_name'"
     ]
    }
   ],
   "source": [
    "# Loading data the keras way\n",
    "data_dir = pathlib.Path(\"/\".join([data.dir_name, 'ISIC_2019_Training_Input_']))\n",
    "\n",
    "# nit clean up\n",
    "try:\n",
    "    shutil.rmtree(data.dir_name + \"/ISIC_2019_Training_Input_/\" + \".ipynb_checkpoints\")\n",
    "except OSError as e:\n",
    "    pass\n",
    "\n",
    "batch_size = 32\n",
    "img_height = 244\n",
    "img_width = 244\n",
    "random_seed=123\n",
    "\n",
    "train_ds = tf.keras.utils.image_dataset_from_directory(\n",
    "    data_dir,\n",
    "    validation_split=0.2,\n",
    "    subset=\"training\",\n",
    "    seed=random_seed,\n",
    "    image_size=(img_height, img_width),  # default 256x256\n",
    "    batch_size=batch_size,\n",
    "    shuffle=False,\n",
    ")\n"
   ]
  },
  {
   "cell_type": "code",
   "execution_count": null,
   "id": "427c50ee-be6b-4228-9b6a-1a05e3fe24c2",
   "metadata": {},
   "outputs": [],
   "source": [
    "train_ds"
   ]
  },
  {
   "cell_type": "code",
   "execution_count": null,
   "id": "b5103104-7ec0-45e2-a6db-25add3c0051c",
   "metadata": {},
   "outputs": [],
   "source": [
    "# Print all classes found \n",
    "class_names = train_ds.class_names\n",
    "print(class_names)"
   ]
  },
  {
   "cell_type": "code",
   "execution_count": null,
   "id": "c34fdf91-eb39-4324-9f65-7428ac528d37",
   "metadata": {},
   "outputs": [],
   "source": [
    "# Caching \n",
    "AUTOTUNE = tf.data.AUTOTUNE\n",
    "train_ds = train_ds.cache().shuffle(1000).prefetch(buffer_size=AUTOTUNE)"
   ]
  },
  {
   "cell_type": "code",
   "execution_count": null,
   "id": "8d38959d-5752-4e90-bde7-9c374d034edf",
   "metadata": {},
   "outputs": [],
   "source": [
    "# Layers \n",
    "num_classes = len(class_names)\n",
    "learning_rate = 0.01\n",
    "\n",
    "model = Sequential([\n",
    "    layers.Rescaling(1./255, input_shape=(img_height, img_width, 3)),\n",
    "    tf.keras.layers.Flatten(),\n",
    "    tf.keras.layers.Dense(\n",
    "        units=num_classes,\n",
    "        activation='softmax',\n",
    "        use_bias=True,\n",
    "        kernel_initializer=tf.ones_initializer\n",
    "    ),\n",
    "])\n",
    "\n",
    "optimizer = tf.keras.optimizers.Adam(learning_rate=learning_rate)\n",
    "    \n",
    "model.compile(optimizer=optimizer,\n",
    "              loss=tf.keras.losses.SparseCategoricalCrossentropy,\n",
    "              metrics=['accuracy'])"
   ]
  },
  {
   "cell_type": "code",
   "execution_count": null,
   "id": "908cf1b6-b001-4335-be08-0ae790ee1c36",
   "metadata": {},
   "outputs": [],
   "source": [
    "history = model.fit(\n",
    "    train_ds,\n",
    "    epochs=30,\n",
    "    batch_size=10\n",
    ")"
   ]
  },
  {
   "cell_type": "code",
   "execution_count": null,
   "id": "c7a65399-ca55-4c5c-a986-1116720b4fc8",
   "metadata": {},
   "outputs": [],
   "source": []
  }
 ],
 "metadata": {
  "instance_type": "ml.g4dn.xlarge",
  "kernelspec": {
   "display_name": "Python 3 (TensorFlow 2.6 Python 3.8 GPU Optimized)",
   "language": "python",
   "name": "python3__SAGEMAKER_INTERNAL__arn:aws:sagemaker:us-east-1:081325390199:image/tensorflow-2.6-gpu-py38-cu112-ubuntu20.04-v1"
  },
  "language_info": {
   "codemirror_mode": {
    "name": "ipython",
    "version": 3
   },
   "file_extension": ".py",
   "mimetype": "text/x-python",
   "name": "python",
   "nbconvert_exporter": "python",
   "pygments_lexer": "ipython3",
   "version": "3.8.2"
  }
 },
 "nbformat": 4,
 "nbformat_minor": 5
}
