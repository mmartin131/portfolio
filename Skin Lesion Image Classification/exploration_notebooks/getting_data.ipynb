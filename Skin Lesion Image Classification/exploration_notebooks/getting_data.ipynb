{
 "cells": [
  {
   "cell_type": "code",
   "execution_count": 2,
   "id": "0a36ca2a",
   "metadata": {},
   "outputs": [],
   "source": [
    "import getting_data"
   ]
  },
  {
   "cell_type": "code",
   "execution_count": 2,
   "id": "264a1a33",
   "metadata": {},
   "outputs": [
    {
     "name": "stdout",
     "output_type": "stream",
     "text": [
      "200\n",
      "200\n",
      "200\n",
      "200\n",
      "200\n"
     ]
    }
   ],
   "source": [
    "# This cell will take a long time. Downloads files in chunks to not kill memory.\n",
    "getting_data.download_all_files()"
   ]
  },
  {
   "cell_type": "code",
   "execution_count": 3,
   "id": "ae505530",
   "metadata": {},
   "outputs": [],
   "source": [
    "# Unzipping two folders\n",
    "getting_data.unzip_files()"
   ]
  },
  {
   "cell_type": "code",
   "execution_count": 10,
   "id": "1578e994-70d2-46f2-99ee-098a8601ea1b",
   "metadata": {},
   "outputs": [],
   "source": [
    "# For training images only, move images into labeled subdirectories\n",
    "getting_data.move_train_images_into_subdir()"
   ]
  },
  {
   "cell_type": "code",
   "execution_count": null,
   "id": "a2ed40b9",
   "metadata": {},
   "outputs": [],
   "source": [
    "# Delete large zip files once done\n",
    "# getting_data.delete_zip_files()  # Lets leave it in for now"
   ]
  },
  {
   "cell_type": "code",
   "execution_count": null,
   "id": "fe5c8c25-e205-4451-aba8-b97a5e9b2d5d",
   "metadata": {},
   "outputs": [],
   "source": [
    "# Visualize how much we have of each skin class in training data\n",
    "import data\n",
    "train_image_count = data.y_train[[c for c in data.y_train.columns if c != \"image\"]].sum()\n",
    "train_image_count.plot(kind=\"bar\")\n",
    "\n",
    "train_image_count = train_image_count.drop(\"UNK\")  # drop empty UNK"
   ]
  },
  {
   "cell_type": "code",
   "execution_count": null,
   "id": "8deecd02-6c07-40e6-a485-6103cc693716",
   "metadata": {},
   "outputs": [],
   "source": [
    "train_image_count.sort_values(ascending=False)"
   ]
  },
  {
   "cell_type": "code",
   "execution_count": null,
   "id": "70ba9d73-0be1-49bf-adcf-eebb61f211ec",
   "metadata": {},
   "outputs": [],
   "source": [
    "print(f\"{train_image_count.idxmin()} has the fewest images in class {int(train_image_count.min())}\")\n",
    "print(f\"{train_image_count.idxmax()} has the most images in class {int(train_image_count.max())}\")"
   ]
  },
  {
   "cell_type": "code",
   "execution_count": null,
   "id": "15c316db-7c3d-4b7a-89a3-db9329e6f025",
   "metadata": {},
   "outputs": [],
   "source": [
    "3500 * 2 + 3323 + 2624 + 867 + 628 + 253 + 239"
   ]
  },
  {
   "cell_type": "markdown",
   "id": "1707bb49-dd99-479b-bb01-a7f60def45c6",
   "metadata": {},
   "source": [
    "Mike: I think some strategies are:\n",
    "- [Undersample]() NV and MEL classes to almost match BCC's counts, say 3500.\n",
    "  - Undersampling has the down-side of removing some valuable data, and slightly higher risk of poor generalizability, BUT we have so many images anyways, this will help us get trainable models.\n",
    "- Use [class weights](https://www.tensorflow.org/tutorials/structured_data/imbalanced_data#train_a_model_with_class_weights), which applies only during fitting, not preprocessing.\n",
    "\n",
    "Total images after under-sampling: 14934 -- still a lot, but slightly more manageable? We can still focus on getting a playground for setting up models."
   ]
  },
  {
   "cell_type": "code",
   "execution_count": null,
   "id": "f4070868-f783-4e6e-b7f6-95abb07bc344",
   "metadata": {},
   "outputs": [],
   "source": [
    "# Undersampling NV and MEL\n",
    "import copy\n",
    "import numpy as np\n",
    "np.random.seed(0)\n",
    "\n",
    "y_train_undersampled = copy.copy(data.metadata_train)\n",
    "for class_to_undersample in [\"NV\", \"MEL\"]:\n",
    "    all_img_ids_in_class = y_train_undersampled[y_train_undersampled[class_to_undersample] == 1][\"image\"].to_list()\n",
    "    sampled_img_ids_in_class = np.random.choice(all_img_ids_in_class, 3500, replace=False)\n",
    "    \n",
    "    img_ids_to_get_rid = set(all_img_ids_in_class) - set(sampled_img_ids_in_class)\n",
    "    \n",
    "    y_train_undersampled.drop(\n",
    "        index=[i for i, row in y_train_undersampled.iterrows() if row[\"image\"] in img_ids_to_get_rid],\n",
    "        inplace=True,\n",
    "    )\n",
    "\n",
    "y_train_undersampled.to_csv(\"isic_data/ISIC_2019_Training_GroundTruth_undersampled.csv\", index=False)\n",
    "\n",
    "print(\"Shape of new undersampled dataframe:\", y_train_undersampled.shape)\n",
    "y_train_undersampled.head()"
   ]
  },
  {
   "cell_type": "code",
   "execution_count": null,
   "id": "e95d4856-fa8d-41dd-adc2-d84ef59b1a8d",
   "metadata": {},
   "outputs": [],
   "source": [
    "# Copying undersampled set into a new folder\n",
    "import os\n",
    "import shutil\n",
    "\n",
    "original_dir = \"isic_data/ISIC_2019_Training_Input\"\n",
    "undersampled_dir = \"isic_data/undersampled\"\n",
    "\n",
    "dirs_to_create = [\n",
    "    undersampled_dir,\n",
    "    *[undersampled_dir + \"/\" + skin_class for skin_class in y_train_undersampled.columns if skin_class != \"image\"]\n",
    "]\n",
    "\n",
    "for dirpath in dirs_to_create:\n",
    "    if not os.path.exists(dirpath):\n",
    "        os.mkdir(dirpath)\n",
    "\n",
    "for _, row in y_train_undersampled.iterrows():\n",
    "    img_id = row.image\n",
    "    label = row.index[row == 1][0]\n",
    "    shutil.copyfile(\n",
    "        original_dir + \"/\" + label + \"/\" + img_id + \".jpg\",\n",
    "        undersampled_dir + \"/\" + label + \"/\" + img_id + \".jpg\",\n",
    "    )"
   ]
  },
  {
   "cell_type": "code",
   "execution_count": null,
   "id": "f06d612d-f382-4817-b7f3-43b7880c04b4",
   "metadata": {},
   "outputs": [],
   "source": []
  }
 ],
 "metadata": {
  "instance_type": "ml.g4dn.xlarge",
  "kernelspec": {
   "display_name": "Python 3 (TensorFlow 2.6 Python 3.8 GPU Optimized)",
   "language": "python",
   "name": "python3__SAGEMAKER_INTERNAL__arn:aws:sagemaker:us-east-1:081325390199:image/tensorflow-2.6-gpu-py38-cu112-ubuntu20.04-v1"
  },
  "language_info": {
   "codemirror_mode": {
    "name": "ipython",
    "version": 3
   },
   "file_extension": ".py",
   "mimetype": "text/x-python",
   "name": "python",
   "nbconvert_exporter": "python",
   "pygments_lexer": "ipython3",
   "version": "3.8.2"
  }
 },
 "nbformat": 4,
 "nbformat_minor": 5
}
