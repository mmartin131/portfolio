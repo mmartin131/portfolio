{
 "cells": [
  {
   "cell_type": "markdown",
   "id": "e5cbfe1a",
   "metadata": {},
   "source": [
    "# Preprocessing\n",
    "\n",
    "Two things to accomplish: (unsure of order, but this is the order we're doing for now)\n",
    "1. Scaling/downsampling to 224x224\n",
    "2. Standardizing pixels (per image, standard deviation of 1 and mean of 0)\n",
    "3. Grayscaling (maybe toss out in the future)"
   ]
  },
  {
   "cell_type": "code",
   "execution_count": 11,
   "id": "17922492",
   "metadata": {},
   "outputs": [],
   "source": [
    "import os\n",
    "import copy\n",
    "import shutil\n",
    "from importlib import reload\n",
    "import pathlib\n",
    "import pandas as pd\n",
    "import numpy as np\n",
    "from matplotlib import pyplot as plt\n",
    "from keras.preprocessing.image import ImageDataGenerator\n",
    "import tensorflow as tf\n",
    "\n",
    "import utils\n",
    "import data\n",
    "reload(utils);\n",
    "reload(data);"
   ]
  },
  {
   "cell_type": "code",
   "execution_count": 12,
   "id": "3c03bc70",
   "metadata": {},
   "outputs": [
    {
     "ename": "FileNotFoundError",
     "evalue": "[Errno 2] No such file or directory: 'isic_data/ISIC_2019_Training_Input/ISIC_0013425_downsampled.jpg'",
     "output_type": "error",
     "traceback": [
      "\u001b[0;31m---------------------------------------------------------------------------\u001b[0m",
      "\u001b[0;31mFileNotFoundError\u001b[0m                         Traceback (most recent call last)",
      "\u001b[0;32m<ipython-input-12-5fdadfb060b0>\u001b[0m in \u001b[0;36m<module>\u001b[0;34m\u001b[0m\n\u001b[1;32m     10\u001b[0m \u001b[0;34m\u001b[0m\u001b[0m\n\u001b[1;32m     11\u001b[0m \u001b[0;32mfor\u001b[0m \u001b[0mimg_idx\u001b[0m \u001b[0;32min\u001b[0m \u001b[0mimg_idxs\u001b[0m\u001b[0;34m:\u001b[0m\u001b[0;34m\u001b[0m\u001b[0;34m\u001b[0m\u001b[0m\n\u001b[0;32m---> 12\u001b[0;31m     shutil.copyfile(\n\u001b[0m\u001b[1;32m     13\u001b[0m         \u001b[0mutils\u001b[0m\u001b[0;34m.\u001b[0m\u001b[0mdir_name\u001b[0m \u001b[0;34m+\u001b[0m \u001b[0;34m'/ISIC_2019_Training_Input/'\u001b[0m \u001b[0;34m+\u001b[0m \u001b[0mimg_idx\u001b[0m \u001b[0;34m+\u001b[0m \u001b[0;34m'.'\u001b[0m \u001b[0;34m+\u001b[0m \u001b[0mutils\u001b[0m\u001b[0;34m.\u001b[0m\u001b[0mimage_format\u001b[0m\u001b[0;34m,\u001b[0m\u001b[0;34m\u001b[0m\u001b[0;34m\u001b[0m\u001b[0m\n\u001b[1;32m     14\u001b[0m         \u001b[0;34m\"/\"\u001b[0m\u001b[0;34m.\u001b[0m\u001b[0mjoin\u001b[0m\u001b[0;34m(\u001b[0m\u001b[0;34m[\u001b[0m\u001b[0mplayground_images_dir\u001b[0m\u001b[0;34m,\u001b[0m \u001b[0mimg_idx\u001b[0m \u001b[0;34m+\u001b[0m \u001b[0;34m'.'\u001b[0m \u001b[0;34m+\u001b[0m \u001b[0mutils\u001b[0m\u001b[0;34m.\u001b[0m\u001b[0mimage_format\u001b[0m\u001b[0;34m]\u001b[0m\u001b[0;34m)\u001b[0m\u001b[0;34m,\u001b[0m\u001b[0;34m\u001b[0m\u001b[0;34m\u001b[0m\u001b[0m\n",
      "\u001b[0;32m/usr/local/lib/python3.8/shutil.py\u001b[0m in \u001b[0;36mcopyfile\u001b[0;34m(src, dst, follow_symlinks)\u001b[0m\n\u001b[1;32m    259\u001b[0m         \u001b[0mos\u001b[0m\u001b[0;34m.\u001b[0m\u001b[0msymlink\u001b[0m\u001b[0;34m(\u001b[0m\u001b[0mos\u001b[0m\u001b[0;34m.\u001b[0m\u001b[0mreadlink\u001b[0m\u001b[0;34m(\u001b[0m\u001b[0msrc\u001b[0m\u001b[0;34m)\u001b[0m\u001b[0;34m,\u001b[0m \u001b[0mdst\u001b[0m\u001b[0;34m)\u001b[0m\u001b[0;34m\u001b[0m\u001b[0;34m\u001b[0m\u001b[0m\n\u001b[1;32m    260\u001b[0m     \u001b[0;32melse\u001b[0m\u001b[0;34m:\u001b[0m\u001b[0;34m\u001b[0m\u001b[0;34m\u001b[0m\u001b[0m\n\u001b[0;32m--> 261\u001b[0;31m         \u001b[0;32mwith\u001b[0m \u001b[0mopen\u001b[0m\u001b[0;34m(\u001b[0m\u001b[0msrc\u001b[0m\u001b[0;34m,\u001b[0m \u001b[0;34m'rb'\u001b[0m\u001b[0;34m)\u001b[0m \u001b[0;32mas\u001b[0m \u001b[0mfsrc\u001b[0m\u001b[0;34m,\u001b[0m \u001b[0mopen\u001b[0m\u001b[0;34m(\u001b[0m\u001b[0mdst\u001b[0m\u001b[0;34m,\u001b[0m \u001b[0;34m'wb'\u001b[0m\u001b[0;34m)\u001b[0m \u001b[0;32mas\u001b[0m \u001b[0mfdst\u001b[0m\u001b[0;34m:\u001b[0m\u001b[0;34m\u001b[0m\u001b[0;34m\u001b[0m\u001b[0m\n\u001b[0m\u001b[1;32m    262\u001b[0m             \u001b[0;31m# macOS\u001b[0m\u001b[0;34m\u001b[0m\u001b[0;34m\u001b[0m\u001b[0;34m\u001b[0m\u001b[0m\n\u001b[1;32m    263\u001b[0m             \u001b[0;32mif\u001b[0m \u001b[0m_HAS_FCOPYFILE\u001b[0m\u001b[0;34m:\u001b[0m\u001b[0;34m\u001b[0m\u001b[0;34m\u001b[0m\u001b[0m\n",
      "\u001b[0;31mFileNotFoundError\u001b[0m: [Errno 2] No such file or directory: 'isic_data/ISIC_2019_Training_Input/ISIC_0013425_downsampled.jpg'"
     ]
    }
   ],
   "source": [
    "# Set aside small set for playground\n",
    "img_idxs = utils.get_random_image_ids(20, random_seed=0)\n",
    "\n",
    "if not os.path.exists(playground_dir := (\"/\".join([utils.dir_name, 'playground']))):\n",
    "    os.mkdir(playground_dir)\n",
    "\n",
    "# Subdirectory needed -- ideally subdir name is class name -- punt it to a different time\n",
    "if not os.path.exists(playground_images_dir := (\"/\".join([utils.dir_name, 'playground', 'images']))):\n",
    "    os.mkdir(playground_images_dir)\n",
    "\n",
    "for img_idx in img_idxs:\n",
    "    shutil.copyfile(\n",
    "        utils.dir_name + '/ISIC_2019_Training_Input/' + img_idx + '.' + utils.image_format,\n",
    "        \"/\".join([playground_images_dir, img_idx + '.' + utils.image_format]),\n",
    "    )\n",
    "    \n",
    "train_labels = utils.get_label_of_image_id(img_idxs)\n",
    "print(train_labels.head())"
   ]
  },
  {
   "cell_type": "markdown",
   "id": "7aa8b388",
   "metadata": {},
   "source": [
    "## 1 - Scaling (included when loading into keras layer)"
   ]
  },
  {
   "cell_type": "code",
   "execution_count": null,
   "id": "37b1c2bc",
   "metadata": {},
   "outputs": [],
   "source": [
    "# Loading data the keras way\n",
    "data_dir = pathlib.Path(\"/\".join([utils.dir_name, 'playground']))\n",
    "\n",
    "image_count = len(list(data_dir.glob('*/*.jpg')))\n",
    "print(f\"{image_count=}\")\n",
    "\n",
    "batch_size = 1\n",
    "img_height = 244\n",
    "img_width = 244\n",
    "random_seed=123\n",
    "\n",
    "train_ds = tf.keras.utils.image_dataset_from_directory(\n",
    "    data_dir,\n",
    "    labels=train_labels.tolist(),\n",
    "    validation_split=0.2,\n",
    "    subset=\"training\",\n",
    "    seed=random_seed,\n",
    "    image_size=(img_height, img_width),  # default 256x256\n",
    "    batch_size=batch_size,\n",
    "    shuffle=False,\n",
    ")\n",
    "\n",
    "# Performance configurations\n",
    "AUTOTUNE = tf.data.AUTOTUNE\n",
    "train_ds = train_ds.cache(str(data_dir) + '/cache').prefetch(buffer_size=AUTOTUNE)"
   ]
  },
  {
   "cell_type": "code",
   "execution_count": null,
   "id": "9d42f193",
   "metadata": {},
   "outputs": [],
   "source": [
    "# Visualize scaled data\n",
    "plt.figure(figsize=(10, 10))\n",
    "for i, (images, labels) in enumerate(train_ds.take(9)):\n",
    "    ax = plt.subplot(3, 3, i + 1)\n",
    "    plt.imshow(images[0].numpy().astype(\"uint8\"))\n",
    "    plt.title(data.SkinClass(labels.numpy()[0]).name)\n",
    "    plt.axis(\"off\")\n",
    "    \n",
    "print(\"Image shape:\", images[0].numpy().shape)"
   ]
  },
  {
   "cell_type": "markdown",
   "id": "68dd79ed",
   "metadata": {},
   "source": [
    "## 2 - Standardize data\n",
    "Unsure yet if we should use (-1 to 1) or (0 to 1). Help?"
   ]
  },
  {
   "cell_type": "code",
   "execution_count": null,
   "id": "8f57c8e0",
   "metadata": {},
   "outputs": [],
   "source": [
    "normalization_layer = tf.keras.layers.Rescaling(1./255)  # RGB goes up to 255; for 0 to 1\n",
    "# normalization_layer = tf.keras.layers.Rescaling(1./127.5, offset=-1)  # For -1 to 1"
   ]
  },
  {
   "cell_type": "code",
   "execution_count": null,
   "id": "f511d7af",
   "metadata": {},
   "outputs": [],
   "source": [
    "normalized_ds = train_ds.map(lambda x, y: (normalization_layer(x), y))\n",
    "\n",
    "# Visualize standardized data\n",
    "plt.figure(figsize=(10, 10))\n",
    "for i, (images, labels) in enumerate(normalized_ds.take(9)):\n",
    "    ax = plt.subplot(3, 3, i + 1)\n",
    "    plt.imshow(images[0].numpy())\n",
    "    plt.title(data.SkinClass(labels.numpy()[0]).name)\n",
    "    plt.axis(\"off\")\n",
    "\n",
    "normalized_images = [images for images, _ in normalized_ds.take(1)]\n",
    "first_image = normalized_images[0]\n",
    "# Notice the pixel values are now in `[0,1]`.\n",
    "print(\"min:\", np.min(first_image), \"max:\", np.max(first_image))"
   ]
  },
  {
   "cell_type": "markdown",
   "id": "9c57e7d9",
   "metadata": {},
   "source": [
    "## 3 - Grayscale"
   ]
  },
  {
   "cell_type": "code",
   "execution_count": null,
   "id": "2db5c853",
   "metadata": {},
   "outputs": [],
   "source": [
    "grayscaled_ds = normalized_ds.map(lambda x, y: (tf.image.rgb_to_grayscale(x), y))\n",
    "\n",
    "# Visualize grayscale data\n",
    "plt.figure(figsize=(10, 10))\n",
    "for i, (images, labels) in enumerate(grayscaled_ds.take(9)):\n",
    "    ax = plt.subplot(3, 3, i + 1)\n",
    "    plt.imshow(images[0].numpy(), cmap='gray')\n",
    "    plt.title(data.SkinClass(labels.numpy()[0]).name)\n",
    "    plt.axis(\"off\")\n",
    "\n",
    "print(\"Image shape:\", images[0].numpy().shape)"
   ]
  },
  {
   "cell_type": "markdown",
   "id": "66a84ad8",
   "metadata": {},
   "source": [
    "## Putting it altogether\n",
    "These are theoretically, the only code we need."
   ]
  },
  {
   "cell_type": "code",
   "execution_count": 13,
   "id": "733521f4",
   "metadata": {},
   "outputs": [
    {
     "ename": "FileNotFoundError",
     "evalue": "[Errno 2] No such file or directory: 'isic_data/undersampled/MEL'",
     "output_type": "error",
     "traceback": [
      "\u001b[0;31m---------------------------------------------------------------------------\u001b[0m",
      "\u001b[0;31mFileNotFoundError\u001b[0m                         Traceback (most recent call last)",
      "\u001b[0;32m<ipython-input-13-0fef1a95c16b>\u001b[0m in \u001b[0;36m<module>\u001b[0;34m\u001b[0m\n\u001b[1;32m      1\u001b[0m \u001b[0mreload\u001b[0m\u001b[0;34m(\u001b[0m\u001b[0mutils\u001b[0m\u001b[0;34m)\u001b[0m\u001b[0;34m\u001b[0m\u001b[0;34m\u001b[0m\u001b[0m\n\u001b[0;32m----> 2\u001b[0;31m \u001b[0mutils\u001b[0m\u001b[0;34m.\u001b[0m\u001b[0mselect_subset_for_playground\u001b[0m\u001b[0;34m(\u001b[0m\u001b[0;36m1000\u001b[0m\u001b[0;34m)\u001b[0m  \u001b[0;31m# bumping up to 1000 images\u001b[0m\u001b[0;34m\u001b[0m\u001b[0;34m\u001b[0m\u001b[0m\n\u001b[0m",
      "\u001b[0;32m~/team-skin-lesions/utils.py\u001b[0m in \u001b[0;36mselect_subset_for_playground\u001b[0;34m(n, random_seed, subset_from_dataset)\u001b[0m\n\u001b[1;32m    154\u001b[0m     \u001b[0;34m\"\"\"Set aside small set of images for playground.\"\"\"\u001b[0m\u001b[0;34m\u001b[0m\u001b[0;34m\u001b[0m\u001b[0m\n\u001b[1;32m    155\u001b[0m     \u001b[0msource_dir\u001b[0m \u001b[0;34m=\u001b[0m \u001b[0m_get_subdir_name\u001b[0m\u001b[0;34m(\u001b[0m\u001b[0msubset_from_dataset\u001b[0m\u001b[0;34m)\u001b[0m\u001b[0;34m\u001b[0m\u001b[0;34m\u001b[0m\u001b[0m\n\u001b[0;32m--> 156\u001b[0;31m     \u001b[0mimg_idxs\u001b[0m \u001b[0;34m=\u001b[0m \u001b[0mget_random_image_ids\u001b[0m\u001b[0;34m(\u001b[0m\u001b[0mn\u001b[0m\u001b[0;34m,\u001b[0m \u001b[0mrandom_seed\u001b[0m\u001b[0;34m=\u001b[0m\u001b[0mrandom_seed\u001b[0m\u001b[0;34m,\u001b[0m \u001b[0mdataset\u001b[0m\u001b[0;34m=\u001b[0m\u001b[0msubset_from_dataset\u001b[0m\u001b[0;34m)\u001b[0m\u001b[0;34m\u001b[0m\u001b[0;34m\u001b[0m\u001b[0m\n\u001b[0m\u001b[1;32m    157\u001b[0m \u001b[0;34m\u001b[0m\u001b[0m\n\u001b[1;32m    158\u001b[0m     \u001b[0;32mif\u001b[0m \u001b[0;32mnot\u001b[0m \u001b[0mos\u001b[0m\u001b[0;34m.\u001b[0m\u001b[0mpath\u001b[0m\u001b[0;34m.\u001b[0m\u001b[0mexists\u001b[0m\u001b[0;34m(\u001b[0m\u001b[0mplayground_dir\u001b[0m \u001b[0;34m:=\u001b[0m \u001b[0;34m(\u001b[0m\u001b[0;34m\"/\"\u001b[0m\u001b[0;34m.\u001b[0m\u001b[0mjoin\u001b[0m\u001b[0;34m(\u001b[0m\u001b[0;34m[\u001b[0m\u001b[0mdir_name\u001b[0m\u001b[0;34m,\u001b[0m \u001b[0;34m'playground'\u001b[0m\u001b[0;34m]\u001b[0m\u001b[0;34m)\u001b[0m\u001b[0;34m)\u001b[0m\u001b[0;34m)\u001b[0m\u001b[0;34m:\u001b[0m\u001b[0;34m\u001b[0m\u001b[0;34m\u001b[0m\u001b[0m\n",
      "\u001b[0;32m~/team-skin-lesions/utils.py\u001b[0m in \u001b[0;36mget_random_image_ids\u001b[0;34m(size, random_seed, dataset)\u001b[0m\n\u001b[1;32m     89\u001b[0m     \u001b[0;32mfor\u001b[0m \u001b[0mclass_dir\u001b[0m \u001b[0;32min\u001b[0m \u001b[0mdata\u001b[0m\u001b[0;34m.\u001b[0m\u001b[0mSkinClass\u001b[0m\u001b[0;34m.\u001b[0m\u001b[0m__members__\u001b[0m\u001b[0;34m.\u001b[0m\u001b[0mkeys\u001b[0m\u001b[0;34m(\u001b[0m\u001b[0;34m)\u001b[0m\u001b[0;34m:\u001b[0m\u001b[0;34m\u001b[0m\u001b[0;34m\u001b[0m\u001b[0m\n\u001b[1;32m     90\u001b[0m         all_imagefile_paths = all_imagefile_paths + [\n\u001b[0;32m---> 91\u001b[0;31m             \u001b[0mf\u001b[0m \u001b[0;32mfor\u001b[0m \u001b[0mf\u001b[0m \u001b[0;32min\u001b[0m \u001b[0mos\u001b[0m\u001b[0;34m.\u001b[0m\u001b[0mlistdir\u001b[0m\u001b[0;34m(\u001b[0m\u001b[0mos\u001b[0m\u001b[0;34m.\u001b[0m\u001b[0mpath\u001b[0m\u001b[0;34m.\u001b[0m\u001b[0mjoin\u001b[0m\u001b[0;34m(\u001b[0m\u001b[0msubdir\u001b[0m\u001b[0;34m,\u001b[0m \u001b[0mclass_dir\u001b[0m\u001b[0;34m)\u001b[0m\u001b[0;34m)\u001b[0m\u001b[0;34m\u001b[0m\u001b[0;34m\u001b[0m\u001b[0m\n\u001b[0m\u001b[1;32m     92\u001b[0m             \u001b[0;32mif\u001b[0m \u001b[0mos\u001b[0m\u001b[0;34m.\u001b[0m\u001b[0mpath\u001b[0m\u001b[0;34m.\u001b[0m\u001b[0misfile\u001b[0m\u001b[0;34m(\u001b[0m\u001b[0mos\u001b[0m\u001b[0;34m.\u001b[0m\u001b[0mpath\u001b[0m\u001b[0;34m.\u001b[0m\u001b[0mjoin\u001b[0m\u001b[0;34m(\u001b[0m\u001b[0msubdir\u001b[0m\u001b[0;34m,\u001b[0m \u001b[0mclass_dir\u001b[0m\u001b[0;34m,\u001b[0m \u001b[0mf\u001b[0m\u001b[0;34m)\u001b[0m\u001b[0;34m)\u001b[0m\u001b[0;34m\u001b[0m\u001b[0;34m\u001b[0m\u001b[0m\n\u001b[1;32m     93\u001b[0m             \u001b[0;32mand\u001b[0m \u001b[0mf\u001b[0m\u001b[0;34m.\u001b[0m\u001b[0mendswith\u001b[0m\u001b[0;34m(\u001b[0m\u001b[0;34m\".\"\u001b[0m \u001b[0;34m+\u001b[0m \u001b[0mimage_format\u001b[0m\u001b[0;34m)\u001b[0m\u001b[0;34m\u001b[0m\u001b[0;34m\u001b[0m\u001b[0m\n",
      "\u001b[0;31mFileNotFoundError\u001b[0m: [Errno 2] No such file or directory: 'isic_data/undersampled/MEL'"
     ]
    }
   ],
   "source": [
    "reload(utils)\n",
    "utils.select_subset_for_playground(1000)  # bumping up to 1000 images"
   ]
  },
  {
   "cell_type": "code",
   "execution_count": null,
   "id": "1aba09bb",
   "metadata": {},
   "outputs": [],
   "source": [
    "batch_size = 1\n",
    "img_height = 244\n",
    "img_width = 244\n",
    "random_seed=123\n",
    "\n",
    "train_ds = tf.keras.utils.image_dataset_from_directory(\n",
    "    'isic_data/playground/',  # switch to 'training' when ready\n",
    "    class_names=sorted(data.SkinClass.__members__.keys()),\n",
    "    validation_split=0.2,\n",
    "    subset=\"training\",  # switch to 'validation' for the 20%\n",
    "#     seed=random_seed,\n",
    "    image_size=(img_height, img_width),  # default 256x256\n",
    "    batch_size=batch_size,\n",
    "    shuffle=False,\n",
    ")\n",
    "\n",
    "# train_ds = train_ds.cache('isic_data/playground/cache').prefetch(buffer_size=tf.data.AUTOTUNE)"
   ]
  },
  {
   "cell_type": "code",
   "execution_count": null,
   "id": "99fe46ff",
   "metadata": {},
   "outputs": [],
   "source": [
    "preprocessed_ds = copy.copy(train_ds)\n",
    "for layer in [\n",
    "    tf.keras.layers.Rescaling(1./255),\n",
    "    tf.image.rgb_to_grayscale,\n",
    "]:\n",
    "    preprocessed_ds = preprocessed_ds.map(lambda x, y: (layer(x), y))"
   ]
  },
  {
   "cell_type": "code",
   "execution_count": null,
   "id": "cb318b63",
   "metadata": {},
   "outputs": [],
   "source": [
    "# Visualize grayscale data\n",
    "plt.figure(figsize=(10, 10))\n",
    "total_images_taken = 0\n",
    "for i, (images, labels) in enumerate(preprocessed_ds.take(9)):\n",
    "    skin_class = train_ds.class_names[labels[0]]\n",
    "    ax = plt.subplot(3, 3, i + 1)\n",
    "    plt.imshow(images[0].numpy(), cmap='gray')\n",
    "    plt.title(skin_class)\n",
    "    plt.axis(\"off\")\n",
    "\n",
    "\n",
    "print(\"Image shape:\", images[0].numpy().shape)"
   ]
  },
  {
   "cell_type": "code",
   "execution_count": null,
   "id": "121e6249",
   "metadata": {},
   "outputs": [],
   "source": [
    "# Describe dataset\n",
    "print(f\"{len(preprocessed_ds)=}\")\n",
    "preprocessed_ds.element_spec"
   ]
  }
 ],
 "metadata": {
  "instance_type": "ml.t3.medium",
  "kernelspec": {
   "display_name": "Python 3 (TensorFlow 2.6 Python 3.8 CPU Optimized)",
   "language": "python",
   "name": "python3__SAGEMAKER_INTERNAL__arn:aws:sagemaker:us-east-1:081325390199:image/tensorflow-2.6-cpu-py38-ubuntu20.04-v1"
  },
  "language_info": {
   "codemirror_mode": {
    "name": "ipython",
    "version": 3
   },
   "file_extension": ".py",
   "mimetype": "text/x-python",
   "name": "python",
   "nbconvert_exporter": "python",
   "pygments_lexer": "ipython3",
   "version": "3.8.2"
  }
 },
 "nbformat": 4,
 "nbformat_minor": 5
}
