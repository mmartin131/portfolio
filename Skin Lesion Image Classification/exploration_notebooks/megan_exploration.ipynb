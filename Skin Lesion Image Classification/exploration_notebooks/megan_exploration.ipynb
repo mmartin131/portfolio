{
 "cells": [
  {
   "cell_type": "code",
   "execution_count": 2,
   "id": "2efbe47f-1f1d-40a6-973f-004154f9fd06",
   "metadata": {},
   "outputs": [],
   "source": [
    "# import sagemaker\n",
    "# from sagemaker import get_execution_role\n",
    "\n",
    "# sagemaker_session = sagemaker.Session()\n",
    "\n",
    "# role = get_execution_role()\n",
    "# region = sagemaker_session.boto_region_name"
   ]
  },
  {
   "cell_type": "code",
   "execution_count": 3,
   "id": "0c189271",
   "metadata": {
    "tags": []
   },
   "outputs": [
    {
     "data": {
      "text/plain": [
       "<module 'utils' from '/root/team-skin-lesions/exploration_notebooks/utils.py'>"
      ]
     },
     "execution_count": 3,
     "metadata": {},
     "output_type": "execute_result"
    }
   ],
   "source": [
    "from importlib import reload\n",
    "import pandas as pd\n",
    "import numpy as np\n",
    "from matplotlib import pyplot as plt\n",
    "import tensorflow as tf\n",
    "from tensorflow import keras\n",
    "from keras import metrics\n",
    "import utils\n",
    "import data\n",
    "import os\n",
    "reload(utils)"
   ]
  },
  {
   "cell_type": "code",
   "execution_count": 11,
   "id": "ec72f2ed",
   "metadata": {},
   "outputs": [
    {
     "data": {
      "text/html": [
       "<div>\n",
       "<style scoped>\n",
       "    .dataframe tbody tr th:only-of-type {\n",
       "        vertical-align: middle;\n",
       "    }\n",
       "\n",
       "    .dataframe tbody tr th {\n",
       "        vertical-align: top;\n",
       "    }\n",
       "\n",
       "    .dataframe thead th {\n",
       "        text-align: right;\n",
       "    }\n",
       "</style>\n",
       "<table border=\"1\" class=\"dataframe\">\n",
       "  <thead>\n",
       "    <tr style=\"text-align: right;\">\n",
       "      <th></th>\n",
       "      <th>image</th>\n",
       "      <th>age_approx</th>\n",
       "      <th>anatom_site_general</th>\n",
       "      <th>lesion_id</th>\n",
       "      <th>sex</th>\n",
       "    </tr>\n",
       "  </thead>\n",
       "  <tbody>\n",
       "    <tr>\n",
       "      <th>0</th>\n",
       "      <td>ISIC_0000000</td>\n",
       "      <td>55.0</td>\n",
       "      <td>anterior torso</td>\n",
       "      <td>NaN</td>\n",
       "      <td>female</td>\n",
       "    </tr>\n",
       "    <tr>\n",
       "      <th>1</th>\n",
       "      <td>ISIC_0000001</td>\n",
       "      <td>30.0</td>\n",
       "      <td>anterior torso</td>\n",
       "      <td>NaN</td>\n",
       "      <td>female</td>\n",
       "    </tr>\n",
       "    <tr>\n",
       "      <th>2</th>\n",
       "      <td>ISIC_0000002</td>\n",
       "      <td>60.0</td>\n",
       "      <td>upper extremity</td>\n",
       "      <td>NaN</td>\n",
       "      <td>female</td>\n",
       "    </tr>\n",
       "    <tr>\n",
       "      <th>3</th>\n",
       "      <td>ISIC_0000003</td>\n",
       "      <td>30.0</td>\n",
       "      <td>upper extremity</td>\n",
       "      <td>NaN</td>\n",
       "      <td>male</td>\n",
       "    </tr>\n",
       "    <tr>\n",
       "      <th>4</th>\n",
       "      <td>ISIC_0000004</td>\n",
       "      <td>80.0</td>\n",
       "      <td>posterior torso</td>\n",
       "      <td>NaN</td>\n",
       "      <td>male</td>\n",
       "    </tr>\n",
       "    <tr>\n",
       "      <th>...</th>\n",
       "      <td>...</td>\n",
       "      <td>...</td>\n",
       "      <td>...</td>\n",
       "      <td>...</td>\n",
       "      <td>...</td>\n",
       "    </tr>\n",
       "    <tr>\n",
       "      <th>25326</th>\n",
       "      <td>ISIC_0073247</td>\n",
       "      <td>85.0</td>\n",
       "      <td>head/neck</td>\n",
       "      <td>BCN_0003925</td>\n",
       "      <td>female</td>\n",
       "    </tr>\n",
       "    <tr>\n",
       "      <th>25327</th>\n",
       "      <td>ISIC_0073248</td>\n",
       "      <td>65.0</td>\n",
       "      <td>anterior torso</td>\n",
       "      <td>BCN_0001819</td>\n",
       "      <td>male</td>\n",
       "    </tr>\n",
       "    <tr>\n",
       "      <th>25328</th>\n",
       "      <td>ISIC_0073249</td>\n",
       "      <td>70.0</td>\n",
       "      <td>lower extremity</td>\n",
       "      <td>BCN_0001085</td>\n",
       "      <td>male</td>\n",
       "    </tr>\n",
       "    <tr>\n",
       "      <th>25329</th>\n",
       "      <td>ISIC_0073251</td>\n",
       "      <td>55.0</td>\n",
       "      <td>palms/soles</td>\n",
       "      <td>BCN_0002083</td>\n",
       "      <td>female</td>\n",
       "    </tr>\n",
       "    <tr>\n",
       "      <th>25330</th>\n",
       "      <td>ISIC_0073254</td>\n",
       "      <td>50.0</td>\n",
       "      <td>upper extremity</td>\n",
       "      <td>BCN_0001079</td>\n",
       "      <td>male</td>\n",
       "    </tr>\n",
       "  </tbody>\n",
       "</table>\n",
       "<p>25331 rows × 5 columns</p>\n",
       "</div>"
      ],
      "text/plain": [
       "              image  age_approx anatom_site_general    lesion_id     sex\n",
       "0      ISIC_0000000        55.0      anterior torso          NaN  female\n",
       "1      ISIC_0000001        30.0      anterior torso          NaN  female\n",
       "2      ISIC_0000002        60.0     upper extremity          NaN  female\n",
       "3      ISIC_0000003        30.0     upper extremity          NaN    male\n",
       "4      ISIC_0000004        80.0     posterior torso          NaN    male\n",
       "...             ...         ...                 ...          ...     ...\n",
       "25326  ISIC_0073247        85.0           head/neck  BCN_0003925  female\n",
       "25327  ISIC_0073248        65.0      anterior torso  BCN_0001819    male\n",
       "25328  ISIC_0073249        70.0     lower extremity  BCN_0001085    male\n",
       "25329  ISIC_0073251        55.0         palms/soles  BCN_0002083  female\n",
       "25330  ISIC_0073254        50.0     upper extremity  BCN_0001079    male\n",
       "\n",
       "[25331 rows x 5 columns]"
      ]
     },
     "execution_count": 11,
     "metadata": {},
     "output_type": "execute_result"
    }
   ],
   "source": [
    "data.metadata_train"
   ]
  },
  {
   "cell_type": "code",
   "execution_count": 12,
   "id": "7b63b38c",
   "metadata": {},
   "outputs": [
    {
     "data": {
      "text/html": [
       "<div>\n",
       "<style scoped>\n",
       "    .dataframe tbody tr th:only-of-type {\n",
       "        vertical-align: middle;\n",
       "    }\n",
       "\n",
       "    .dataframe tbody tr th {\n",
       "        vertical-align: top;\n",
       "    }\n",
       "\n",
       "    .dataframe thead th {\n",
       "        text-align: right;\n",
       "    }\n",
       "</style>\n",
       "<table border=\"1\" class=\"dataframe\">\n",
       "  <thead>\n",
       "    <tr style=\"text-align: right;\">\n",
       "      <th></th>\n",
       "      <th>age_approx</th>\n",
       "    </tr>\n",
       "  </thead>\n",
       "  <tbody>\n",
       "    <tr>\n",
       "      <th>count</th>\n",
       "      <td>24894.000000</td>\n",
       "    </tr>\n",
       "    <tr>\n",
       "      <th>mean</th>\n",
       "      <td>54.028481</td>\n",
       "    </tr>\n",
       "    <tr>\n",
       "      <th>std</th>\n",
       "      <td>18.130971</td>\n",
       "    </tr>\n",
       "    <tr>\n",
       "      <th>min</th>\n",
       "      <td>0.000000</td>\n",
       "    </tr>\n",
       "    <tr>\n",
       "      <th>25%</th>\n",
       "      <td>40.000000</td>\n",
       "    </tr>\n",
       "    <tr>\n",
       "      <th>50%</th>\n",
       "      <td>55.000000</td>\n",
       "    </tr>\n",
       "    <tr>\n",
       "      <th>75%</th>\n",
       "      <td>70.000000</td>\n",
       "    </tr>\n",
       "    <tr>\n",
       "      <th>max</th>\n",
       "      <td>85.000000</td>\n",
       "    </tr>\n",
       "  </tbody>\n",
       "</table>\n",
       "</div>"
      ],
      "text/plain": [
       "         age_approx\n",
       "count  24894.000000\n",
       "mean      54.028481\n",
       "std       18.130971\n",
       "min        0.000000\n",
       "25%       40.000000\n",
       "50%       55.000000\n",
       "75%       70.000000\n",
       "max       85.000000"
      ]
     },
     "execution_count": 12,
     "metadata": {},
     "output_type": "execute_result"
    }
   ],
   "source": [
    "data.metadata_train.describe()"
   ]
  },
  {
   "cell_type": "code",
   "execution_count": 45,
   "id": "a6e592bd",
   "metadata": {},
   "outputs": [
    {
     "data": {
      "text/plain": [
       "image                     0\n",
       "age_approx              437\n",
       "anatom_site_general    2631\n",
       "lesion_id              2084\n",
       "sex                     384\n",
       "dtype: int64"
      ]
     },
     "execution_count": 45,
     "metadata": {},
     "output_type": "execute_result"
    }
   ],
   "source": [
    "data.metadata_train.isna().sum(axis=0)"
   ]
  },
  {
   "cell_type": "code",
   "execution_count": 14,
   "id": "9a3f2777",
   "metadata": {},
   "outputs": [
    {
     "data": {
      "text/plain": [
       "21311"
      ]
     },
     "execution_count": 14,
     "metadata": {},
     "output_type": "execute_result"
    }
   ],
   "source": [
    "# Rows with no NAs at all\n",
    "(data.metadata_train.isna().sum(axis=1) == 0).sum()"
   ]
  },
  {
   "cell_type": "code",
   "execution_count": 46,
   "id": "853ad323-a767-4212-b983-5fe8b746b49e",
   "metadata": {
    "tags": []
   },
   "outputs": [
    {
     "data": {
      "text/plain": [
       "4020"
      ]
     },
     "execution_count": 46,
     "metadata": {},
     "output_type": "execute_result"
    }
   ],
   "source": [
    "#rows with any missing data\n",
    "data.metadata_train.isna().any(axis=1).sum()\n"
   ]
  },
  {
   "cell_type": "code",
   "execution_count": 15,
   "id": "f3faf0af",
   "metadata": {},
   "outputs": [
    {
     "data": {
      "text/plain": [
       "array([[<AxesSubplot:title={'center':'age_approx'}>]], dtype=object)"
      ]
     },
     "execution_count": 15,
     "metadata": {},
     "output_type": "execute_result"
    },
    {
     "data": {
      "image/png": "[encoded data removed]",
      "text/plain": [
       "<Figure size 432x288 with 1 Axes>"
      ]
     },
     "metadata": {
      "needs_background": "light"
     },
     "output_type": "display_data"
    }
   ],
   "source": [
    "data.metadata_train.hist()"
   ]
  },
  {
   "cell_type": "code",
   "execution_count": 16,
   "id": "813c6751",
   "metadata": {},
   "outputs": [
    {
     "data": {
      "text/html": [
       "<div>\n",
       "<style scoped>\n",
       "    .dataframe tbody tr th:only-of-type {\n",
       "        vertical-align: middle;\n",
       "    }\n",
       "\n",
       "    .dataframe tbody tr th {\n",
       "        vertical-align: top;\n",
       "    }\n",
       "\n",
       "    .dataframe thead th {\n",
       "        text-align: right;\n",
       "    }\n",
       "</style>\n",
       "<table border=\"1\" class=\"dataframe\">\n",
       "  <thead>\n",
       "    <tr style=\"text-align: right;\">\n",
       "      <th></th>\n",
       "      <th>image</th>\n",
       "      <th>age_approx</th>\n",
       "      <th>anatom_site_general</th>\n",
       "      <th>lesion_id</th>\n",
       "    </tr>\n",
       "    <tr>\n",
       "      <th>sex</th>\n",
       "      <th></th>\n",
       "      <th></th>\n",
       "      <th></th>\n",
       "      <th></th>\n",
       "    </tr>\n",
       "  </thead>\n",
       "  <tbody>\n",
       "    <tr>\n",
       "      <th>female</th>\n",
       "      <td>11661</td>\n",
       "      <td>11635</td>\n",
       "      <td>10554</td>\n",
       "      <td>10810</td>\n",
       "    </tr>\n",
       "    <tr>\n",
       "      <th>male</th>\n",
       "      <td>13286</td>\n",
       "      <td>13259</td>\n",
       "      <td>11977</td>\n",
       "      <td>12316</td>\n",
       "    </tr>\n",
       "  </tbody>\n",
       "</table>\n",
       "</div>"
      ],
      "text/plain": [
       "        image  age_approx  anatom_site_general  lesion_id\n",
       "sex                                                      \n",
       "female  11661       11635                10554      10810\n",
       "male    13286       13259                11977      12316"
      ]
     },
     "execution_count": 16,
     "metadata": {},
     "output_type": "execute_result"
    }
   ],
   "source": [
    "data.metadata_train.groupby(\"sex\").count()"
   ]
  },
  {
   "cell_type": "code",
   "execution_count": 30,
   "id": "0f7215c0-709c-4dd6-9118-1f5e73cf6592",
   "metadata": {},
   "outputs": [
    {
     "data": {
      "text/html": [
       "<div>\n",
       "<style scoped>\n",
       "    .dataframe tbody tr th:only-of-type {\n",
       "        vertical-align: middle;\n",
       "    }\n",
       "\n",
       "    .dataframe tbody tr th {\n",
       "        vertical-align: top;\n",
       "    }\n",
       "\n",
       "    .dataframe thead th {\n",
       "        text-align: right;\n",
       "    }\n",
       "</style>\n",
       "<table border=\"1\" class=\"dataframe\">\n",
       "  <thead>\n",
       "    <tr style=\"text-align: right;\">\n",
       "      <th></th>\n",
       "      <th>MEL</th>\n",
       "      <th>NV</th>\n",
       "      <th>BCC</th>\n",
       "      <th>AK</th>\n",
       "      <th>BKL</th>\n",
       "      <th>DF</th>\n",
       "      <th>VASC</th>\n",
       "      <th>SCC</th>\n",
       "    </tr>\n",
       "  </thead>\n",
       "  <tbody>\n",
       "    <tr>\n",
       "      <th>0</th>\n",
       "      <td>4522.0</td>\n",
       "      <td>12875.0</td>\n",
       "      <td>3323.0</td>\n",
       "      <td>867.0</td>\n",
       "      <td>2624.0</td>\n",
       "      <td>239.0</td>\n",
       "      <td>253.0</td>\n",
       "      <td>628.0</td>\n",
       "    </tr>\n",
       "  </tbody>\n",
       "</table>\n",
       "</div>"
      ],
      "text/plain": [
       "      MEL       NV     BCC     AK     BKL     DF   VASC    SCC\n",
       "0  4522.0  12875.0  3323.0  867.0  2624.0  239.0  253.0  628.0"
      ]
     },
     "execution_count": 30,
     "metadata": {},
     "output_type": "execute_result"
    }
   ],
   "source": [
    "class_sum = data.y_train.sum(axis=0)\n",
    "class_sum_df = pd.DataFrame(class_sum)\n",
    "class_sum_df = class_sum_df.transpose()\n",
    "class_sum_df = class_sum_df.iloc[: , 1:]\n",
    "class_sum_df = class_sum_df.iloc[: , :-1]\n",
    "class_sum_df"
   ]
  },
  {
   "cell_type": "code",
   "execution_count": 41,
   "id": "ac0c02c5-f9e3-4738-9872-a0bac7b98d59",
   "metadata": {},
   "outputs": [
    {
     "data": {
      "image/png": "[encoded data removed]",
      "text/plain": [
       "<Figure size 432x288 with 1 Axes>"
      ]
     },
     "metadata": {
      "needs_background": "light"
     },
     "output_type": "display_data"
    }
   ],
   "source": [
    "#Create class bar graph \n",
    "ax = class_sum_df.plot(kind = \"bar\")\n",
    "plt.title(\"Class Counts\")\n",
    "plt.xlabel(\"Class\")\n",
    "plt.ylabel(\"Count\");"
   ]
  },
  {
   "cell_type": "code",
   "execution_count": 25,
   "id": "0d88cede-9641-43de-9496-81935522c047",
   "metadata": {},
   "outputs": [
    {
     "data": {
      "text/html": [
       "<div>\n",
       "<style scoped>\n",
       "    .dataframe tbody tr th:only-of-type {\n",
       "        vertical-align: middle;\n",
       "    }\n",
       "\n",
       "    .dataframe tbody tr th {\n",
       "        vertical-align: top;\n",
       "    }\n",
       "\n",
       "    .dataframe thead th {\n",
       "        text-align: right;\n",
       "    }\n",
       "</style>\n",
       "<table border=\"1\" class=\"dataframe\">\n",
       "  <thead>\n",
       "    <tr style=\"text-align: right;\">\n",
       "      <th></th>\n",
       "      <th>Model</th>\n",
       "      <th>Accuracy</th>\n",
       "      <th>Precision</th>\n",
       "      <th>Recall</th>\n",
       "      <th>ROC AUC</th>\n",
       "    </tr>\n",
       "  </thead>\n",
       "  <tbody>\n",
       "    <tr>\n",
       "      <th>0</th>\n",
       "      <td>Log Regression</td>\n",
       "      <td>0.459</td>\n",
       "      <td>0.247</td>\n",
       "      <td>0.243</td>\n",
       "      <td>0.576</td>\n",
       "    </tr>\n",
       "    <tr>\n",
       "      <th>1</th>\n",
       "      <td>KNN</td>\n",
       "      <td>0.210</td>\n",
       "      <td>0.282</td>\n",
       "      <td>0.241</td>\n",
       "      <td>0.593</td>\n",
       "    </tr>\n",
       "    <tr>\n",
       "      <th>2</th>\n",
       "      <td>Random Forest</td>\n",
       "      <td>0.207</td>\n",
       "      <td>0.243</td>\n",
       "      <td>0.181</td>\n",
       "      <td>0.567</td>\n",
       "    </tr>\n",
       "    <tr>\n",
       "      <th>3</th>\n",
       "      <td>CNN</td>\n",
       "      <td>0.189</td>\n",
       "      <td>0.123</td>\n",
       "      <td>0.114</td>\n",
       "      <td>0.476</td>\n",
       "    </tr>\n",
       "    <tr>\n",
       "      <th>4</th>\n",
       "      <td>CNN+Optuna</td>\n",
       "      <td>0.329</td>\n",
       "      <td>0.125</td>\n",
       "      <td>0.124</td>\n",
       "      <td>0.492</td>\n",
       "    </tr>\n",
       "    <tr>\n",
       "      <th>5</th>\n",
       "      <td>CNN+EfficientNet</td>\n",
       "      <td>0.283</td>\n",
       "      <td>0.125</td>\n",
       "      <td>0.121</td>\n",
       "      <td>0.489</td>\n",
       "    </tr>\n",
       "    <tr>\n",
       "      <th>6</th>\n",
       "      <td>CNN+Optuna+EfficienNet</td>\n",
       "      <td>0.260</td>\n",
       "      <td>0.120</td>\n",
       "      <td>0.118</td>\n",
       "      <td>0.494</td>\n",
       "    </tr>\n",
       "    <tr>\n",
       "      <th>7</th>\n",
       "      <td>CNN+EfficientNet+Metadata</td>\n",
       "      <td>0.100</td>\n",
       "      <td>0.108</td>\n",
       "      <td>0.113</td>\n",
       "      <td>0.522</td>\n",
       "    </tr>\n",
       "    <tr>\n",
       "      <th>8</th>\n",
       "      <td>CNN+XGBoost</td>\n",
       "      <td>0.203</td>\n",
       "      <td>0.138</td>\n",
       "      <td>0.138</td>\n",
       "      <td>0.506</td>\n",
       "    </tr>\n",
       "  </tbody>\n",
       "</table>\n",
       "</div>"
      ],
      "text/plain": [
       "                       Model  Accuracy  Precision  Recall  ROC AUC\n",
       "0             Log Regression     0.459      0.247   0.243    0.576\n",
       "1                        KNN     0.210      0.282   0.241    0.593\n",
       "2              Random Forest     0.207      0.243   0.181    0.567\n",
       "3                        CNN     0.189      0.123   0.114    0.476\n",
       "4                 CNN+Optuna     0.329      0.125   0.124    0.492\n",
       "5           CNN+EfficientNet     0.283      0.125   0.121    0.489\n",
       "6     CNN+Optuna+EfficienNet     0.260      0.120   0.118    0.494\n",
       "7  CNN+EfficientNet+Metadata     0.100      0.108   0.113    0.522\n",
       "8                CNN+XGBoost     0.203      0.138   0.138    0.506"
      ]
     },
     "execution_count": 25,
     "metadata": {},
     "output_type": "execute_result"
    }
   ],
   "source": [
    "#creating display of performance metrics across all models\n",
    "data = {'Model': ['Log Regression', 'KNN', 'Random Forest', 'CNN', 'CNN+Optuna', 'CNN+EfficientNet', 'CNN+Optuna+EfficienNet', 'CNN+EfficientNet+Metadata', 'CNN+XGBoost'],\n",
    "        'Accuracy': [0.459, 0.21, 0.207, 0.189, 0.329, 0.283, 0.26, 0.1, 0.203],\n",
    "        'Precision': [0.247, 0.282, 0.243, 0.123, 0.125, 0.125, 0.12, 0.108, 0.138],\n",
    "        'Recall': [0.243, 0.241, 0.181, 0.114, 0.124, 0.121, 0.118, 0.113, 0.138],\n",
    "        'ROC AUC': [0.576, 0.593, 0.567, 0.476, 0.492, 0.489, 0.494, 0.522, 0.506]}  \n",
    "df = pd.DataFrame(data)  \n",
    "df"
   ]
  },
  {
   "cell_type": "code",
   "execution_count": 26,
   "id": "5666bf2f-5483-4623-879d-cc003e3b63fe",
   "metadata": {
    "tags": []
   },
   "outputs": [
    {
     "data": {
      "image/png": "[encoded data removed]",
      "text/plain": [
       "<Figure size 1152x576 with 1 Axes>"
      ]
     },
     "metadata": {
      "needs_background": "light"
     },
     "output_type": "display_data"
    }
   ],
   "source": [
    "#creating bar chart for perfomrance\n",
    "colors = ['palegreen', 'cornflowerblue', 'mediumseagreen', 'lightblue']\n",
    "fig, ax = plt.subplots()\n",
    "df.plot.bar(x = 'Model', y = ['ROC AUC', 'Accuracy', 'Precision', 'Recall'], rot = 40, ax = ax, color =  colors, width = .85)\n",
    "for p in ax.patches: \n",
    "    ax.annotate(np.round(p.get_height(),decimals=2), (p.get_x()+p.get_width()/2., p.get_height()))\n",
    "ax.set_ylabel('Scores', fontsize = 14)\n",
    "ax.set_title('Model Performance Metrics Comparison', fontsize = 20)\n",
    "plt.legend(loc='upper right')\n",
    "fig.set_size_inches(16, 8)\n",
    "# plt.grid()"
   ]
  },
  {
   "cell_type": "code",
   "execution_count": 51,
   "id": "8b2c1b1d-836f-461b-b821-869e1c3eb6cd",
   "metadata": {},
   "outputs": [
    {
     "data": {
      "text/html": [
       "<div>\n",
       "<style scoped>\n",
       "    .dataframe tbody tr th:only-of-type {\n",
       "        vertical-align: middle;\n",
       "    }\n",
       "\n",
       "    .dataframe tbody tr th {\n",
       "        vertical-align: top;\n",
       "    }\n",
       "\n",
       "    .dataframe thead th {\n",
       "        text-align: right;\n",
       "    }\n",
       "</style>\n",
       "<table border=\"1\" class=\"dataframe\">\n",
       "  <thead>\n",
       "    <tr style=\"text-align: right;\">\n",
       "      <th></th>\n",
       "      <th>Model</th>\n",
       "      <th>ROC AUC</th>\n",
       "    </tr>\n",
       "  </thead>\n",
       "  <tbody>\n",
       "    <tr>\n",
       "      <th>0</th>\n",
       "      <td>Log Regression</td>\n",
       "      <td>58.6</td>\n",
       "    </tr>\n",
       "    <tr>\n",
       "      <th>1</th>\n",
       "      <td>KNN</td>\n",
       "      <td>59.3</td>\n",
       "    </tr>\n",
       "    <tr>\n",
       "      <th>2</th>\n",
       "      <td>Random Forest</td>\n",
       "      <td>56.7</td>\n",
       "    </tr>\n",
       "    <tr>\n",
       "      <th>3</th>\n",
       "      <td>CNN</td>\n",
       "      <td>47.6</td>\n",
       "    </tr>\n",
       "    <tr>\n",
       "      <th>4</th>\n",
       "      <td>CNN+Optuna</td>\n",
       "      <td>49.2</td>\n",
       "    </tr>\n",
       "    <tr>\n",
       "      <th>5</th>\n",
       "      <td>CNN+EfficientNet</td>\n",
       "      <td>48.9</td>\n",
       "    </tr>\n",
       "    <tr>\n",
       "      <th>6</th>\n",
       "      <td>CNN+Optuna+EfficienNet</td>\n",
       "      <td>49.4</td>\n",
       "    </tr>\n",
       "    <tr>\n",
       "      <th>7</th>\n",
       "      <td>CNN+EfficientNet+Metadata</td>\n",
       "      <td>52.3</td>\n",
       "    </tr>\n",
       "    <tr>\n",
       "      <th>8</th>\n",
       "      <td>CNN+XGBoost</td>\n",
       "      <td>50.6</td>\n",
       "    </tr>\n",
       "  </tbody>\n",
       "</table>\n",
       "</div>"
      ],
      "text/plain": [
       "                       Model  ROC AUC\n",
       "0             Log Regression     58.6\n",
       "1                        KNN     59.3\n",
       "2              Random Forest     56.7\n",
       "3                        CNN     47.6\n",
       "4                 CNN+Optuna     49.2\n",
       "5           CNN+EfficientNet     48.9\n",
       "6     CNN+Optuna+EfficienNet     49.4\n",
       "7  CNN+EfficientNet+Metadata     52.3\n",
       "8                CNN+XGBoost     50.6"
      ]
     },
     "execution_count": 51,
     "metadata": {},
     "output_type": "execute_result"
    }
   ],
   "source": [
    "#creating display of ROC AUC all models\n",
    "data2 = {'Model': ['Log Regression', 'KNN', 'Random Forest', 'CNN', 'CNN+Optuna', 'CNN+EfficientNet', 'CNN+Optuna+EfficienNet', 'CNN+EfficientNet+Metadata', 'CNN+XGBoost'],\n",
    "        'ROC AUC': [58.6, 59.3, 56.7, 47.6, 49.2, 48.9, 49.4, 52.3, 50.6] }\n",
    "df2 = pd.DataFrame(data2)  \n",
    "df2"
   ]
  },
  {
   "cell_type": "code",
   "execution_count": 54,
   "id": "729b9e00-0fd6-4335-ab3d-926919c26332",
   "metadata": {
    "tags": []
   },
   "outputs": [
    {
     "data": {
      "image/png": "[encoded data removed]",
      "text/plain": [
       "<Figure size 1080x432 with 1 Axes>"
      ]
     },
     "metadata": {
      "needs_background": "light"
     },
     "output_type": "display_data"
    }
   ],
   "source": [
    "#creating bar chart for perfomrance\n",
    "colors = ['skyblue']\n",
    "fig, ax = plt.subplots()\n",
    "df2.plot.bar(x = 'Model', y = ['ROC AUC'], rot = 40, ax = ax, color =  colors)\n",
    "for p in ax.patches: \n",
    "    ax.annotate(np.round(p.get_height(),decimals=2), (p.get_x()+p.get_width()/2., p.get_height()))\n",
    "ax.set_ylabel('Scores (%)')\n",
    "ax.set_title('Model ROC AUC Comparison')\n",
    "fig.set_size_inches(15, 6)"
   ]
  },
  {
   "cell_type": "code",
   "execution_count": null,
   "id": "9cdedf80-67fc-4637-baaa-73a5e5877d6e",
   "metadata": {},
   "outputs": [],
   "source": []
  }
 ],
 "metadata": {
  "instance_type": "ml.t3.medium",
  "kernelspec": {
   "display_name": "Python 3 (TensorFlow 2.6 Python 3.8 CPU Optimized)",
   "language": "python",
   "name": "python3__SAGEMAKER_INTERNAL__arn:aws:sagemaker:us-east-1:081325390199:image/tensorflow-2.6-cpu-py38-ubuntu20.04-v1"
  },
  "language_info": {
   "codemirror_mode": {
    "name": "ipython",
    "version": 3
   },
   "file_extension": ".py",
   "mimetype": "text/x-python",
   "name": "python",
   "nbconvert_exporter": "python",
   "pygments_lexer": "ipython3",
   "version": "3.8.2"
  }
 },
 "nbformat": 4,
 "nbformat_minor": 5
}
