{
 "cells": [
  {
   "cell_type": "markdown",
   "id": "ae34c46a-cd7c-4393-9e0c-8b9d6b47b215",
   "metadata": {},
   "source": [
    "# XGBoost"
   ]
  },
  {
   "cell_type": "code",
   "execution_count": null,
   "id": "af4449b5-6e29-4fe3-a248-76cb0363f6f3",
   "metadata": {},
   "outputs": [],
   "source": [
    "!pip install xgboost\n",
    "!pip install tensorflow-addons\n",
    "!pip install optuna"
   ]
  },
  {
   "cell_type": "code",
   "execution_count": 4,
   "id": "29af18cb-c195-46a1-8557-25051401a560",
   "metadata": {},
   "outputs": [],
   "source": [
    "import pandas as pd\n",
    "import numpy as np\n",
    "import xgboost as xgb\n",
    "import tensorflow as tf\n",
    "import tensorflow_addons as tfa\n",
    "import optuna\n",
    "from sklearn.preprocessing import LabelEncoder, OneHotEncoder\n",
    "import sklearn\n",
    "from sklearn import metrics as sklearn_metrics\n",
    "from sklearn.metrics import (\n",
    "    confusion_matrix, precision_score, recall_score, f1_score, accuracy_score,\n",
    "    roc_auc_score, average_precision_score, log_loss\n",
    ")\n",
    "import matplotlib.pyplot as plt\n",
    "\n",
    "import constants"
   ]
  },
  {
   "cell_type": "code",
   "execution_count": 5,
   "id": "e39276b2-20b0-491a-9ebd-e8f13c4c3d7f",
   "metadata": {},
   "outputs": [
    {
     "name": "stdout",
     "output_type": "stream",
     "text": [
      "Found 16005 files belonging to 8 classes.\n",
      "Found 2028 files belonging to 8 classes.\n",
      "Found 5066 files belonging to 8 classes.\n"
     ]
    }
   ],
   "source": [
    "# Load training data then pass through CNN as a \"feature extraction\"\n",
    "random_seed = 21\n",
    "\n",
    "train_ds = tf.keras.utils.image_dataset_from_directory(\n",
    "    constants.get_training_augmented_path(),\n",
    "    seed=random_seed,\n",
    "    image_size=(224, 224),  # chosen size based on what's common in industry\n",
    "    batch_size=32,  # default\n",
    "    label_mode='categorical',\n",
    "    shuffle=True,  # default\n",
    ")\n",
    "\n",
    "validation_ds = tf.keras.utils.image_dataset_from_directory(\n",
    "    constants.get_validation_split_class_path(),\n",
    "    seed=random_seed,\n",
    "    image_size=(224, 224),  # chosen size based on what's common in industry\n",
    "    batch_size=32,  # default\n",
    "    label_mode='categorical',\n",
    "    shuffle=True,  # default\n",
    ")\n",
    "\n",
    "test_ds = tf.keras.utils.image_dataset_from_directory(\n",
    "    constants.get_testing_split_class_path(),\n",
    "    seed=random_seed,\n",
    "    image_size=(224, 224),  # chosen size based on what's common in industry\n",
    "    batch_size=32,  # default\n",
    "    label_mode='categorical',\n",
    "    shuffle=True,  # default\n",
    ")"
   ]
  },
  {
   "cell_type": "code",
   "execution_count": 8,
   "id": "6de37195-4b5a-457c-b139-faf11af11ed5",
   "metadata": {},
   "outputs": [],
   "source": [
    "model = tf.keras.models.load_model(\"saved_models/cnn_efficientnet/best_en_16k_tuned_2x_model.h5\")\n",
    "only_cnn = tf.keras.Sequential(model.layers[:3])"
   ]
  },
  {
   "cell_type": "code",
   "execution_count": 9,
   "id": "aed6d1d1-cb8b-49b9-96cc-8a3245ccdc09",
   "metadata": {},
   "outputs": [
    {
     "name": "stdout",
     "output_type": "stream",
     "text": [
      "Model: \"sequential_1\"\n",
      "_________________________________________________________________\n",
      "Layer (type)                 Output Shape              Param #   \n",
      "=================================================================\n",
      "efficientnetb3 (Functional)  (None, 1536)              10783535  \n",
      "_________________________________________________________________\n",
      "dense_layers (Sequential)    (None, 25)                38525     \n",
      "=================================================================\n",
      "Total params: 10,822,060\n",
      "Trainable params: 3,411,627\n",
      "Non-trainable params: 7,410,433\n",
      "_________________________________________________________________\n"
     ]
    }
   ],
   "source": [
    "only_cnn.summary()"
   ]
  },
  {
   "cell_type": "code",
   "execution_count": 12,
   "id": "ed827ce2-ea83-4584-9a42-8f8e54a67b4a",
   "metadata": {},
   "outputs": [
    {
     "name": "stdout",
     "output_type": "stream",
     "text": [
      "train_cnn_output.shape=(16005, 25)\n",
      "train_y.shape=(16005, 8)\n",
      "validation_cnn_output.shape=(2028, 25)\n",
      "validation_y.shape=(2028, 8)\n",
      "test_cnn_output.shape=(5066, 25)\n",
      "test_y.shape=(5066, 8)\n"
     ]
    }
   ],
   "source": [
    "# Get \"extracted\" features using CNN\n",
    "\n",
    "# Training data\n",
    "train_cnn_output = only_cnn.predict(train_ds)\n",
    "train_y = np.array(list(train_ds.unbatch().map(lambda x, y: y).as_numpy_iterator()))\n",
    "print(f\"{train_cnn_output.shape=}\")\n",
    "print(f\"{train_y.shape=}\")\n",
    "\n",
    "# Validation data\n",
    "validation_cnn_output = only_cnn.predict(validation_ds)\n",
    "validation_y = np.array(list(validation_ds.unbatch().map(lambda x, y: y).as_numpy_iterator()))\n",
    "print(f\"{validation_cnn_output.shape=}\")\n",
    "print(f\"{validation_y.shape=}\")\n",
    "\n",
    "# Testing data\n",
    "test_cnn_output = only_cnn.predict(test_ds)\n",
    "test_y = np.array(list(test_ds.unbatch().map(lambda x, y: y).as_numpy_iterator()))\n",
    "print(f\"{test_cnn_output.shape=}\")\n",
    "print(f\"{test_y.shape=}\")"
   ]
  },
  {
   "cell_type": "code",
   "execution_count": 11,
   "id": "833ce7a3-0bd3-426b-8564-15f2539b9019",
   "metadata": {},
   "outputs": [
    {
     "name": "stdout",
     "output_type": "stream",
     "text": [
      "subset_cnn_output.shape=(2000, 20)\n",
      "subset_y.shape=(2000, 8)\n"
     ]
    }
   ],
   "source": [
    "# Subset for seeing if code works\n",
    "import sklearn\n",
    "\n",
    "subset_idx = sklearn.utils.random.sample_without_replacement(train_cnn_output.shape[0], 2000)\n",
    "subset_cnn_output = train_cnn_output[subset_idx]\n",
    "subset_y = train_y[subset_idx]\n",
    "print(f\"{subset_cnn_output.shape=}\")\n",
    "print(f\"{subset_y.shape=}\")"
   ]
  },
  {
   "cell_type": "code",
   "execution_count": 27,
   "id": "7b4559c9-687f-4b71-866c-4052f11ac41f",
   "metadata": {},
   "outputs": [
    {
     "data": {
      "text/plain": [
       "XGBClassifier(base_score=0.5, booster='gbtree', callbacks=None,\n",
       "              colsample_bylevel=1, colsample_bynode=1, colsample_bytree=1,\n",
       "              early_stopping_rounds=None, enable_categorical=False,\n",
       "              eval_metric=None, feature_types=None, gamma=0, gpu_id=-1,\n",
       "              grow_policy='depthwise', importance_type=None,\n",
       "              interaction_constraints='', learning_rate=0.300000012,\n",
       "              max_bin=256, max_cat_threshold=64, max_cat_to_onehot=4,\n",
       "              max_delta_step=0, max_depth=6, max_leaves=0, min_child_weight=1,\n",
       "              missing=nan, monotone_constraints='()', n_estimators=100,\n",
       "              n_jobs=0, num_class=8, num_parallel_tree=1,\n",
       "              objective='multi:softmax', ...)"
      ]
     },
     "execution_count": 27,
     "metadata": {},
     "output_type": "execute_result"
    }
   ],
   "source": [
    "# Testing out on small subset\n",
    "my_model = xgb.XGBClassifier(\n",
    "    objective=\"multi:softmax\",\n",
    "    num_class=8,\n",
    ")\n",
    "# Test on small subset\n",
    "my_model.fit(subset_cnn_output, np.argmax(subset_y, axis=1))\n",
    "# my_model.fit(train_cnn_output, train_y)"
   ]
  },
  {
   "cell_type": "code",
   "execution_count": 13,
   "id": "8b5f25db-7eca-424c-adff-4803290426a9",
   "metadata": {},
   "outputs": [],
   "source": [
    "class CustomCallback(xgb.callback.TrainingCallback):\n",
    "    def after_iteration(self, model, epoch, evals_log):\n",
    "        print(f\"Epoch {epoch}: {evals_log}\")\n",
    "        print(type(model))\n",
    "        super().after_iteration(model, epoch, evals_log)"
   ]
  },
  {
   "cell_type": "code",
   "execution_count": 14,
   "id": "35663c58-d57c-4565-870e-9bc75ccb8ce7",
   "metadata": {},
   "outputs": [
    {
     "name": "stdout",
     "output_type": "stream",
     "text": [
      "[0]\tvalidation_0-mlogloss:2.06860\tvalidation_1-mlogloss:2.08239\n",
      "[1]\tvalidation_0-mlogloss:2.06012\tvalidation_1-mlogloss:2.08680\n",
      "[2]\tvalidation_0-mlogloss:2.04815\tvalidation_1-mlogloss:2.08170\n",
      "[3]\tvalidation_0-mlogloss:2.04002\tvalidation_1-mlogloss:2.08228\n",
      "[4]\tvalidation_0-mlogloss:2.02993\tvalidation_1-mlogloss:2.08539\n",
      "[5]\tvalidation_0-mlogloss:2.02164\tvalidation_1-mlogloss:2.08666\n",
      "[6]\tvalidation_0-mlogloss:2.01042\tvalidation_1-mlogloss:2.09399\n",
      "[7]\tvalidation_0-mlogloss:2.00048\tvalidation_1-mlogloss:2.09215\n",
      "[8]\tvalidation_0-mlogloss:1.99359\tvalidation_1-mlogloss:2.09492\n",
      "[9]\tvalidation_0-mlogloss:1.98577\tvalidation_1-mlogloss:2.09800\n",
      "[10]\tvalidation_0-mlogloss:1.97626\tvalidation_1-mlogloss:2.09551\n",
      "[11]\tvalidation_0-mlogloss:1.96837\tvalidation_1-mlogloss:2.09480\n",
      "[12]\tvalidation_0-mlogloss:1.96089\tvalidation_1-mlogloss:2.09799\n",
      "[13]\tvalidation_0-mlogloss:1.95301\tvalidation_1-mlogloss:2.09438\n",
      "[14]\tvalidation_0-mlogloss:1.94519\tvalidation_1-mlogloss:2.09035\n",
      "[15]\tvalidation_0-mlogloss:1.93499\tvalidation_1-mlogloss:2.09077\n",
      "[16]\tvalidation_0-mlogloss:1.92820\tvalidation_1-mlogloss:2.09053\n",
      "[17]\tvalidation_0-mlogloss:1.91945\tvalidation_1-mlogloss:2.08676\n",
      "[18]\tvalidation_0-mlogloss:1.91206\tvalidation_1-mlogloss:2.08651\n",
      "[19]\tvalidation_0-mlogloss:1.90506\tvalidation_1-mlogloss:2.08472\n"
     ]
    },
    {
     "data": {
      "text/plain": [
       "XGBClassifier(base_score=0.5, booster='gbtree', callbacks=[],\n",
       "              colsample_bylevel=1, colsample_bynode=1, colsample_bytree=0.5,\n",
       "              early_stopping_rounds=None, enable_categorical=False,\n",
       "              eval_metric=None, feature_types=None, gamma=0, gpu_id=-1,\n",
       "              grow_policy='depthwise', importance_type=None,\n",
       "              interaction_constraints='', learning_rate=0.300000012,\n",
       "              max_bin=256, max_cat_threshold=64, max_cat_to_onehot=4,\n",
       "              max_delta_step=0, max_depth=6, max_leaves=0, min_child_weight=1,\n",
       "              missing=nan, monotone_constraints='()', n_estimators=20, n_jobs=0,\n",
       "              num_class=8, num_parallel_tree=1, objective='multi:softmax', ...)"
      ]
     },
     "execution_count": 14,
     "metadata": {},
     "output_type": "execute_result"
    }
   ],
   "source": [
    "# Real training -- method 1\n",
    "my_model = xgb.XGBClassifier(\n",
    "    objective=\"multi:softmax\",\n",
    "    num_class=8,\n",
    "    max_depth=6, # default\n",
    "    callbacks=[\n",
    "        # CustomCallback(),\n",
    "        # xgb.callback.EarlyStopping(rounds=5),\n",
    "    ],\n",
    "    n_estimators=20,\n",
    "    subsample=0.5,\n",
    "    colsample_bytree=0.5,\n",
    "    # num_parallel_tree=20,  # for random forests, otherwise default = 1\n",
    ")\n",
    "\n",
    "my_model.fit(\n",
    "    train_cnn_output, np.argmax(train_y, axis=1), \n",
    "    eval_set=[\n",
    "        (train_cnn_output, np.argmax(train_y, axis=1)),\n",
    "        (validation_cnn_output, np.argmax(validation_y, axis=1)),\n",
    "    ],\n",
    "    # num_boost_round=1,  # set to 1 for unboosted random forests\n",
    ")"
   ]
  },
  {
   "cell_type": "code",
   "execution_count": 15,
   "id": "3588d96d-a0c4-41bc-9ea2-dc527236155c",
   "metadata": {
    "collapsed": true,
    "jupyter": {
     "outputs_hidden": true
    },
    "tags": []
   },
   "outputs": [
    {
     "name": "stdout",
     "output_type": "stream",
     "text": [
      "[07:31:24] WARNING: ../src/learner.cc:767: \n",
      "Parameters: { \"silent\" } are not used.\n",
      "\n",
      "[0]\ttrain-mlogloss:2.07161\tvalidation-mlogloss:2.07929\n",
      "[1]\ttrain-mlogloss:2.06452\tvalidation-mlogloss:2.07906\n",
      "[2]\ttrain-mlogloss:2.05812\tvalidation-mlogloss:2.07951\n",
      "[3]\ttrain-mlogloss:2.05229\tvalidation-mlogloss:2.07947\n",
      "[4]\ttrain-mlogloss:2.04631\tvalidation-mlogloss:2.07931\n",
      "[5]\ttrain-mlogloss:2.03982\tvalidation-mlogloss:2.08083\n",
      "[6]\ttrain-mlogloss:2.03461\tvalidation-mlogloss:2.08060\n",
      "[7]\ttrain-mlogloss:2.03047\tvalidation-mlogloss:2.08196\n",
      "[8]\ttrain-mlogloss:2.02546\tvalidation-mlogloss:2.08258\n",
      "[9]\ttrain-mlogloss:2.02147\tvalidation-mlogloss:2.08346\n",
      "[10]\ttrain-mlogloss:2.01719\tvalidation-mlogloss:2.08340\n",
      "[11]\ttrain-mlogloss:2.01307\tvalidation-mlogloss:2.08307\n",
      "[12]\ttrain-mlogloss:2.00746\tvalidation-mlogloss:2.08345\n",
      "[13]\ttrain-mlogloss:2.00337\tvalidation-mlogloss:2.08326\n",
      "[14]\ttrain-mlogloss:1.99862\tvalidation-mlogloss:2.08311\n",
      "[15]\ttrain-mlogloss:1.99529\tvalidation-mlogloss:2.08336\n",
      "[16]\ttrain-mlogloss:1.99155\tvalidation-mlogloss:2.08394\n",
      "[17]\ttrain-mlogloss:1.98770\tvalidation-mlogloss:2.08391\n",
      "[18]\ttrain-mlogloss:1.98397\tvalidation-mlogloss:2.08366\n",
      "[19]\ttrain-mlogloss:1.98040\tvalidation-mlogloss:2.08395\n",
      "[20]\ttrain-mlogloss:1.97760\tvalidation-mlogloss:2.08436\n",
      "[21]\ttrain-mlogloss:1.97325\tvalidation-mlogloss:2.08496\n",
      "[22]\ttrain-mlogloss:1.96979\tvalidation-mlogloss:2.08451\n",
      "[23]\ttrain-mlogloss:1.96655\tvalidation-mlogloss:2.08424\n",
      "[24]\ttrain-mlogloss:1.96370\tvalidation-mlogloss:2.08419\n",
      "[25]\ttrain-mlogloss:1.96129\tvalidation-mlogloss:2.08439\n",
      "[26]\ttrain-mlogloss:1.95845\tvalidation-mlogloss:2.08498\n",
      "[27]\ttrain-mlogloss:1.95444\tvalidation-mlogloss:2.08533\n",
      "[28]\ttrain-mlogloss:1.95041\tvalidation-mlogloss:2.08520\n",
      "[29]\ttrain-mlogloss:1.94810\tvalidation-mlogloss:2.08571\n",
      "[30]\ttrain-mlogloss:1.94539\tvalidation-mlogloss:2.08622\n",
      "[31]\ttrain-mlogloss:1.94197\tvalidation-mlogloss:2.08682\n",
      "[32]\ttrain-mlogloss:1.93969\tvalidation-mlogloss:2.08713\n",
      "[33]\ttrain-mlogloss:1.93768\tvalidation-mlogloss:2.08731\n",
      "[34]\ttrain-mlogloss:1.93467\tvalidation-mlogloss:2.08702\n",
      "[35]\ttrain-mlogloss:1.93100\tvalidation-mlogloss:2.08757\n",
      "[36]\ttrain-mlogloss:1.92866\tvalidation-mlogloss:2.08790\n",
      "[37]\ttrain-mlogloss:1.92541\tvalidation-mlogloss:2.08847\n",
      "[38]\ttrain-mlogloss:1.92263\tvalidation-mlogloss:2.08863\n",
      "[39]\ttrain-mlogloss:1.91969\tvalidation-mlogloss:2.08914\n",
      "[40]\ttrain-mlogloss:1.91741\tvalidation-mlogloss:2.08956\n",
      "[41]\ttrain-mlogloss:1.91556\tvalidation-mlogloss:2.08952\n",
      "[42]\ttrain-mlogloss:1.91392\tvalidation-mlogloss:2.08929\n",
      "[43]\ttrain-mlogloss:1.91052\tvalidation-mlogloss:2.08927\n",
      "[44]\ttrain-mlogloss:1.90773\tvalidation-mlogloss:2.08998\n",
      "[45]\ttrain-mlogloss:1.90568\tvalidation-mlogloss:2.09001\n",
      "[46]\ttrain-mlogloss:1.90224\tvalidation-mlogloss:2.08971\n",
      "[47]\ttrain-mlogloss:1.90048\tvalidation-mlogloss:2.08970\n",
      "[48]\ttrain-mlogloss:1.89799\tvalidation-mlogloss:2.08971\n",
      "[49]\ttrain-mlogloss:1.89472\tvalidation-mlogloss:2.08990\n",
      "[50]\ttrain-mlogloss:1.89277\tvalidation-mlogloss:2.09043\n",
      "[51]\ttrain-mlogloss:1.88996\tvalidation-mlogloss:2.09045\n",
      "[52]\ttrain-mlogloss:1.88688\tvalidation-mlogloss:2.09044\n",
      "[53]\ttrain-mlogloss:1.88431\tvalidation-mlogloss:2.09018\n",
      "[54]\ttrain-mlogloss:1.88201\tvalidation-mlogloss:2.09042\n",
      "[55]\ttrain-mlogloss:1.87873\tvalidation-mlogloss:2.09089\n",
      "[56]\ttrain-mlogloss:1.87686\tvalidation-mlogloss:2.09120\n",
      "[57]\ttrain-mlogloss:1.87538\tvalidation-mlogloss:2.09143\n",
      "[58]\ttrain-mlogloss:1.87312\tvalidation-mlogloss:2.09138\n",
      "[59]\ttrain-mlogloss:1.87109\tvalidation-mlogloss:2.09174\n",
      "[60]\ttrain-mlogloss:1.86751\tvalidation-mlogloss:2.09217\n",
      "[61]\ttrain-mlogloss:1.86522\tvalidation-mlogloss:2.09245\n",
      "[62]\ttrain-mlogloss:1.86216\tvalidation-mlogloss:2.09223\n",
      "[63]\ttrain-mlogloss:1.85938\tvalidation-mlogloss:2.09218\n",
      "[64]\ttrain-mlogloss:1.85728\tvalidation-mlogloss:2.09246\n",
      "[65]\ttrain-mlogloss:1.85532\tvalidation-mlogloss:2.09268\n",
      "[66]\ttrain-mlogloss:1.85155\tvalidation-mlogloss:2.09267\n",
      "[67]\ttrain-mlogloss:1.84969\tvalidation-mlogloss:2.09313\n",
      "[68]\ttrain-mlogloss:1.84628\tvalidation-mlogloss:2.09252\n",
      "[69]\ttrain-mlogloss:1.84411\tvalidation-mlogloss:2.09269\n",
      "[70]\ttrain-mlogloss:1.84106\tvalidation-mlogloss:2.09289\n",
      "[71]\ttrain-mlogloss:1.83839\tvalidation-mlogloss:2.09361\n",
      "[72]\ttrain-mlogloss:1.83648\tvalidation-mlogloss:2.09372\n",
      "[73]\ttrain-mlogloss:1.83432\tvalidation-mlogloss:2.09350\n",
      "[74]\ttrain-mlogloss:1.83190\tvalidation-mlogloss:2.09389\n",
      "[75]\ttrain-mlogloss:1.82807\tvalidation-mlogloss:2.09408\n",
      "[76]\ttrain-mlogloss:1.82598\tvalidation-mlogloss:2.09470\n",
      "[77]\ttrain-mlogloss:1.82378\tvalidation-mlogloss:2.09509\n",
      "[78]\ttrain-mlogloss:1.82161\tvalidation-mlogloss:2.09513\n",
      "[79]\ttrain-mlogloss:1.81982\tvalidation-mlogloss:2.09506\n",
      "[80]\ttrain-mlogloss:1.81784\tvalidation-mlogloss:2.09535\n",
      "[81]\ttrain-mlogloss:1.81609\tvalidation-mlogloss:2.09557\n",
      "[82]\ttrain-mlogloss:1.81408\tvalidation-mlogloss:2.09529\n",
      "[83]\ttrain-mlogloss:1.81221\tvalidation-mlogloss:2.09555\n",
      "[84]\ttrain-mlogloss:1.80990\tvalidation-mlogloss:2.09596\n",
      "[85]\ttrain-mlogloss:1.80733\tvalidation-mlogloss:2.09598\n",
      "[86]\ttrain-mlogloss:1.80465\tvalidation-mlogloss:2.09586\n",
      "[87]\ttrain-mlogloss:1.80161\tvalidation-mlogloss:2.09549\n",
      "[88]\ttrain-mlogloss:1.79871\tvalidation-mlogloss:2.09330\n",
      "[89]\ttrain-mlogloss:1.79617\tvalidation-mlogloss:2.09352\n",
      "[90]\ttrain-mlogloss:1.79356\tvalidation-mlogloss:2.09382\n",
      "[91]\ttrain-mlogloss:1.79112\tvalidation-mlogloss:2.09360\n",
      "[92]\ttrain-mlogloss:1.78939\tvalidation-mlogloss:2.09380\n",
      "[93]\ttrain-mlogloss:1.78674\tvalidation-mlogloss:2.09408\n",
      "[94]\ttrain-mlogloss:1.78506\tvalidation-mlogloss:2.09489\n",
      "[95]\ttrain-mlogloss:1.78217\tvalidation-mlogloss:2.09453\n",
      "[96]\ttrain-mlogloss:1.77918\tvalidation-mlogloss:2.09316\n",
      "[97]\ttrain-mlogloss:1.77772\tvalidation-mlogloss:2.09361\n",
      "[98]\ttrain-mlogloss:1.77584\tvalidation-mlogloss:2.09323\n",
      "[99]\ttrain-mlogloss:1.77339\tvalidation-mlogloss:2.09350\n",
      "[100]\ttrain-mlogloss:1.77138\tvalidation-mlogloss:2.09335\n",
      "[101]\ttrain-mlogloss:1.76922\tvalidation-mlogloss:2.09365\n",
      "[102]\ttrain-mlogloss:1.76742\tvalidation-mlogloss:2.09351\n",
      "[103]\ttrain-mlogloss:1.76590\tvalidation-mlogloss:2.09369\n",
      "[104]\ttrain-mlogloss:1.76361\tvalidation-mlogloss:2.09380\n",
      "[105]\ttrain-mlogloss:1.76002\tvalidation-mlogloss:2.09413\n",
      "[106]\ttrain-mlogloss:1.75847\tvalidation-mlogloss:2.09425\n",
      "[107]\ttrain-mlogloss:1.75572\tvalidation-mlogloss:2.09315\n",
      "[108]\ttrain-mlogloss:1.75339\tvalidation-mlogloss:2.09359\n",
      "[109]\ttrain-mlogloss:1.75115\tvalidation-mlogloss:2.09377\n",
      "[110]\ttrain-mlogloss:1.74976\tvalidation-mlogloss:2.09384\n",
      "[111]\ttrain-mlogloss:1.74689\tvalidation-mlogloss:2.09451\n",
      "[112]\ttrain-mlogloss:1.74369\tvalidation-mlogloss:2.09487\n",
      "[113]\ttrain-mlogloss:1.74127\tvalidation-mlogloss:2.09533\n",
      "[114]\ttrain-mlogloss:1.73921\tvalidation-mlogloss:2.09568\n",
      "[115]\ttrain-mlogloss:1.73739\tvalidation-mlogloss:2.09610\n",
      "[116]\ttrain-mlogloss:1.73549\tvalidation-mlogloss:2.09619\n",
      "[117]\ttrain-mlogloss:1.73327\tvalidation-mlogloss:2.09636\n",
      "[118]\ttrain-mlogloss:1.73226\tvalidation-mlogloss:2.09646\n",
      "[119]\ttrain-mlogloss:1.72999\tvalidation-mlogloss:2.09664\n",
      "[120]\ttrain-mlogloss:1.72790\tvalidation-mlogloss:2.09705\n",
      "[121]\ttrain-mlogloss:1.72528\tvalidation-mlogloss:2.09754\n",
      "[122]\ttrain-mlogloss:1.72265\tvalidation-mlogloss:2.09837\n",
      "[123]\ttrain-mlogloss:1.71912\tvalidation-mlogloss:2.09934\n",
      "[124]\ttrain-mlogloss:1.71701\tvalidation-mlogloss:2.09981\n",
      "[125]\ttrain-mlogloss:1.71562\tvalidation-mlogloss:2.10009\n",
      "[126]\ttrain-mlogloss:1.71410\tvalidation-mlogloss:2.10028\n",
      "[127]\ttrain-mlogloss:1.71186\tvalidation-mlogloss:2.10030\n",
      "[128]\ttrain-mlogloss:1.70833\tvalidation-mlogloss:2.09932\n",
      "[129]\ttrain-mlogloss:1.70539\tvalidation-mlogloss:2.09996\n",
      "[130]\ttrain-mlogloss:1.70207\tvalidation-mlogloss:2.10008\n",
      "[131]\ttrain-mlogloss:1.69960\tvalidation-mlogloss:2.10017\n",
      "[132]\ttrain-mlogloss:1.69752\tvalidation-mlogloss:2.10051\n",
      "[133]\ttrain-mlogloss:1.69517\tvalidation-mlogloss:2.10047\n",
      "[134]\ttrain-mlogloss:1.69330\tvalidation-mlogloss:2.10086\n",
      "[135]\ttrain-mlogloss:1.69172\tvalidation-mlogloss:2.10142\n",
      "[136]\ttrain-mlogloss:1.68845\tvalidation-mlogloss:2.10178\n",
      "[137]\ttrain-mlogloss:1.68670\tvalidation-mlogloss:2.10177\n",
      "[138]\ttrain-mlogloss:1.68456\tvalidation-mlogloss:2.10310\n",
      "[139]\ttrain-mlogloss:1.68160\tvalidation-mlogloss:2.10375\n",
      "[140]\ttrain-mlogloss:1.67937\tvalidation-mlogloss:2.10346\n",
      "[141]\ttrain-mlogloss:1.67664\tvalidation-mlogloss:2.10387\n",
      "[142]\ttrain-mlogloss:1.67456\tvalidation-mlogloss:2.10416\n",
      "[143]\ttrain-mlogloss:1.67233\tvalidation-mlogloss:2.10407\n",
      "[144]\ttrain-mlogloss:1.66951\tvalidation-mlogloss:2.10427\n",
      "[145]\ttrain-mlogloss:1.66717\tvalidation-mlogloss:2.10501\n",
      "[146]\ttrain-mlogloss:1.66597\tvalidation-mlogloss:2.10469\n",
      "[147]\ttrain-mlogloss:1.66273\tvalidation-mlogloss:2.10469\n",
      "[148]\ttrain-mlogloss:1.66051\tvalidation-mlogloss:2.10487\n",
      "[149]\ttrain-mlogloss:1.65870\tvalidation-mlogloss:2.10500\n"
     ]
    }
   ],
   "source": [
    "# Real training - method 2 as borrowed from this article: https://www.kaggle.com/code/mrleritaite/cnn-xgboost/notebook\n",
    "dataset_train = xgb.DMatrix(train_cnn_output, label=np.argmax(train_y, axis=1))\n",
    "dataset_val = xgb.DMatrix(validation_cnn_output, label=np.argmax(validation_y, axis=1))\n",
    "watchlist = [(dataset_train, 'train'), (dataset_val, 'validation')]\n",
    "params = {'max_depth':7, 'eta':0.1, 'silent':1, 'num_class':8,'objective':'multi:softmax' } \n",
    "my_model = xgb.train(params, dataset_train, num_boost_round=150, evals=watchlist)"
   ]
  },
  {
   "cell_type": "markdown",
   "id": "d6885417-4c21-4ad6-a534-36c2144772d1",
   "metadata": {},
   "source": [
    "Analysis: while the loss function is decreasing (great!), the validation loss function barely decreased, and in fact increased back up towards the end (not great). This shows some level of overfitting."
   ]
  },
  {
   "cell_type": "code",
   "execution_count": 26,
   "id": "9b1e34f6-7dd9-414f-af08-dd2d1a75782d",
   "metadata": {},
   "outputs": [
    {
     "data": {
      "image/png": "[encoded data removed]",
      "text/plain": [
       "<Figure size 432x288 with 1 Axes>"
      ]
     },
     "metadata": {
      "needs_background": "light"
     },
     "output_type": "display_data"
    }
   ],
   "source": [
    "train_loss = [2.07161, 2.06452, 2.05812, 2.05229, 2.04631, 2.03982, 2.03461, 2.03047, 2.02546, 2.02147, 2.01719, 2.01307, 2.00746, 2.00337, 1.99862, 1.99529, 1.99155, 1.98770, 1.98397, 1.98040, 1.97760, 1.97325, 1.96979, 1.96655, 1.96370, 1.96129, 1.95845, 1.95444, 1.95041, 1.94810, 1.94539, 1.94197, 1.93969, 1.93768, 1.93467, 1.93100, 1.92866, 1.92541, 1.92263, 1.91969, 1.91741, 1.91556, 1.91392, 1.91052, 1.90773, 1.90568, 1.90224, 1.90048, 1.89799, 1.89472, 1.89277, 1.88996, 1.88688, 1.88431, 1.88201, 1.87873, 1.87686, 1.87538, 1.87312, 1.87109, 1.86751, 1.86522, 1.86216, 1.85938, 1.85728, 1.85532, 1.85155, 1.84969, 1.84628, 1.84411, 1.84106, 1.83839, 1.83648, 1.83432, 1.83190, 1.82807, 1.82598, 1.82378, 1.82161, 1.81982, 1.81784, 1.81609, 1.81408, 1.81221, 1.80990, 1.80733, 1.80465, 1.80161, 1.79871, 1.79617, 1.79356, 1.79112, 1.78939, 1.78674, 1.78506, 1.78217, 1.77918, 1.77772, 1.77584, 1.77339, 1.77138, 1.76922, 1.76742, 1.76590, 1.76361, 1.76002, 1.75847, 1.75572, 1.75339, 1.75115, 1.74976, 1.74689, 1.74369, 1.74127, 1.73921, 1.73739, 1.73549, 1.73327, 1.73226, 1.72999, 1.72790, 1.72528, 1.72265, 1.71912, 1.71701, 1.71562, 1.71410, 1.71186, 1.70833, 1.70539, 1.70207, 1.69960, 1.69752, 1.69517, 1.69330, 1.69172, 1.68845, 1.68670, 1.68456, 1.68160, 1.67937, 1.67664, 1.67456, 1.67233, 1.66951, 1.66717, 1.66597, 1.66273, 1.66051, 1.65870]\n",
    "val_loss = [2.07929, 2.07906, 2.07951, 2.07947, 2.07931, 2.08083, 2.08060, 2.08196, 2.08258, 2.08346, 2.08340, 2.08307, 2.08345, 2.08326, 2.08311, 2.08336, 2.08394, 2.08391, 2.08366, 2.08395, 2.08436, 2.08496, 2.08451, 2.08424, 2.08419, 2.08439, 2.08498, 2.08533, 2.08520, 2.08571, 2.08622, 2.08682, 2.08713, 2.08731, 2.08702, 2.08757, 2.08790, 2.08847, 2.08863, 2.08914, 2.08956, 2.08952, 2.08929, 2.08927, 2.08998, 2.09001, 2.08971, 2.08970, 2.08971, 2.08990, 2.09043, 2.09045, 2.09044, 2.09018, 2.09042, 2.09089, 2.09120, 2.09143, 2.09138, 2.09174, 2.09217, 2.09245, 2.09223, 2.09218, 2.09246, 2.09268, 2.09267, 2.09313, 2.09252, 2.09269, 2.09289, 2.09361, 2.09372, 2.09350, 2.09389, 2.09408, 2.09470, 2.09509, 2.09513, 2.09506, 2.09535, 2.09557, 2.09529, 2.09555, 2.09596, 2.09598, 2.09586, 2.09549, 2.09330, 2.09352, 2.09382, 2.09360, 2.09380, 2.09408, 2.09489, 2.09453, 2.09316, 2.09361, 2.09323, 2.09350, 2.09335, 2.09365, 2.09351, 2.09369, 2.09380, 2.09413, 2.09425, 2.09315, 2.09359, 2.09377, 2.09384, 2.09451, 2.09487, 2.09533, 2.09568, 2.09610, 2.09619, 2.09636, 2.09646, 2.09664, 2.09705, 2.09754, 2.09837, 2.09934, 2.09981, 2.10009, 2.10028, 2.10030, 2.09932, 2.09996, 2.10008, 2.10017, 2.10051, 2.10047, 2.10086, 2.10142, 2.10178, 2.10177, 2.10310, 2.10375, 2.10346, 2.10387, 2.10416, 2.10407, 2.10427, 2.10501, 2.10469, 2.10469, 2.10487, 2.10500]\n",
    "\n",
    "plt.plot(train_loss, \"b-\", label=\"training\")\n",
    "plt.plot(val_loss, \"b--\", label=\"validation\")\n",
    "plt.xlabel(\"Boost rounds\")\n",
    "plt.ylabel(\"Multiclass log loss\")\n",
    "plt.legend();"
   ]
  },
  {
   "cell_type": "code",
   "execution_count": 16,
   "id": "14fce474-ab16-4fcb-b755-b4aea6639dfd",
   "metadata": {},
   "outputs": [
    {
     "data": {
      "text/html": [
       "<div>\n",
       "<style scoped>\n",
       "    .dataframe tbody tr th:only-of-type {\n",
       "        vertical-align: middle;\n",
       "    }\n",
       "\n",
       "    .dataframe tbody tr th {\n",
       "        vertical-align: top;\n",
       "    }\n",
       "\n",
       "    .dataframe thead th {\n",
       "        text-align: right;\n",
       "    }\n",
       "</style>\n",
       "<table border=\"1\" class=\"dataframe\">\n",
       "  <thead>\n",
       "    <tr style=\"text-align: right;\">\n",
       "      <th></th>\n",
       "      <th>Tree</th>\n",
       "      <th>Node</th>\n",
       "      <th>ID</th>\n",
       "      <th>Feature</th>\n",
       "      <th>Split</th>\n",
       "      <th>Yes</th>\n",
       "      <th>No</th>\n",
       "      <th>Missing</th>\n",
       "      <th>Gain</th>\n",
       "      <th>Cover</th>\n",
       "      <th>Category</th>\n",
       "    </tr>\n",
       "  </thead>\n",
       "  <tbody>\n",
       "    <tr>\n",
       "      <th>0</th>\n",
       "      <td>0</td>\n",
       "      <td>0</td>\n",
       "      <td>0-0</td>\n",
       "      <td>f23</td>\n",
       "      <td>1.774662</td>\n",
       "      <td>0-1</td>\n",
       "      <td>0-2</td>\n",
       "      <td>0-1</td>\n",
       "      <td>3.063034</td>\n",
       "      <td>3501.093750</td>\n",
       "      <td>NaN</td>\n",
       "    </tr>\n",
       "    <tr>\n",
       "      <th>1</th>\n",
       "      <td>0</td>\n",
       "      <td>1</td>\n",
       "      <td>0-1</td>\n",
       "      <td>f2</td>\n",
       "      <td>3.778466</td>\n",
       "      <td>0-3</td>\n",
       "      <td>0-4</td>\n",
       "      <td>0-3</td>\n",
       "      <td>3.202192</td>\n",
       "      <td>2850.312500</td>\n",
       "      <td>NaN</td>\n",
       "    </tr>\n",
       "    <tr>\n",
       "      <th>2</th>\n",
       "      <td>0</td>\n",
       "      <td>2</td>\n",
       "      <td>0-2</td>\n",
       "      <td>f2</td>\n",
       "      <td>-0.259797</td>\n",
       "      <td>0-5</td>\n",
       "      <td>0-6</td>\n",
       "      <td>0-5</td>\n",
       "      <td>4.990823</td>\n",
       "      <td>650.781250</td>\n",
       "      <td>NaN</td>\n",
       "    </tr>\n",
       "    <tr>\n",
       "      <th>3</th>\n",
       "      <td>0</td>\n",
       "      <td>3</td>\n",
       "      <td>0-3</td>\n",
       "      <td>f3</td>\n",
       "      <td>4.657824</td>\n",
       "      <td>0-7</td>\n",
       "      <td>0-8</td>\n",
       "      <td>0-7</td>\n",
       "      <td>3.069252</td>\n",
       "      <td>2647.312500</td>\n",
       "      <td>NaN</td>\n",
       "    </tr>\n",
       "    <tr>\n",
       "      <th>4</th>\n",
       "      <td>0</td>\n",
       "      <td>4</td>\n",
       "      <td>0-4</td>\n",
       "      <td>f2</td>\n",
       "      <td>3.913094</td>\n",
       "      <td>0-9</td>\n",
       "      <td>0-10</td>\n",
       "      <td>0-9</td>\n",
       "      <td>3.266931</td>\n",
       "      <td>203.000000</td>\n",
       "      <td>NaN</td>\n",
       "    </tr>\n",
       "    <tr>\n",
       "      <th>...</th>\n",
       "      <td>...</td>\n",
       "      <td>...</td>\n",
       "      <td>...</td>\n",
       "      <td>...</td>\n",
       "      <td>...</td>\n",
       "      <td>...</td>\n",
       "      <td>...</td>\n",
       "      <td>...</td>\n",
       "      <td>...</td>\n",
       "      <td>...</td>\n",
       "      <td>...</td>\n",
       "    </tr>\n",
       "    <tr>\n",
       "      <th>87399</th>\n",
       "      <td>1199</td>\n",
       "      <td>104</td>\n",
       "      <td>1199-104</td>\n",
       "      <td>Leaf</td>\n",
       "      <td>NaN</td>\n",
       "      <td>NaN</td>\n",
       "      <td>NaN</td>\n",
       "      <td>NaN</td>\n",
       "      <td>-0.009865</td>\n",
       "      <td>1.924719</td>\n",
       "      <td>NaN</td>\n",
       "    </tr>\n",
       "    <tr>\n",
       "      <th>87400</th>\n",
       "      <td>1199</td>\n",
       "      <td>105</td>\n",
       "      <td>1199-105</td>\n",
       "      <td>Leaf</td>\n",
       "      <td>NaN</td>\n",
       "      <td>NaN</td>\n",
       "      <td>NaN</td>\n",
       "      <td>NaN</td>\n",
       "      <td>0.029424</td>\n",
       "      <td>1.856762</td>\n",
       "      <td>NaN</td>\n",
       "    </tr>\n",
       "    <tr>\n",
       "      <th>87401</th>\n",
       "      <td>1199</td>\n",
       "      <td>106</td>\n",
       "      <td>1199-106</td>\n",
       "      <td>Leaf</td>\n",
       "      <td>NaN</td>\n",
       "      <td>NaN</td>\n",
       "      <td>NaN</td>\n",
       "      <td>NaN</td>\n",
       "      <td>-0.034133</td>\n",
       "      <td>22.860502</td>\n",
       "      <td>NaN</td>\n",
       "    </tr>\n",
       "    <tr>\n",
       "      <th>87402</th>\n",
       "      <td>1199</td>\n",
       "      <td>107</td>\n",
       "      <td>1199-107</td>\n",
       "      <td>Leaf</td>\n",
       "      <td>NaN</td>\n",
       "      <td>NaN</td>\n",
       "      <td>NaN</td>\n",
       "      <td>NaN</td>\n",
       "      <td>0.046002</td>\n",
       "      <td>7.923193</td>\n",
       "      <td>NaN</td>\n",
       "    </tr>\n",
       "    <tr>\n",
       "      <th>87403</th>\n",
       "      <td>1199</td>\n",
       "      <td>108</td>\n",
       "      <td>1199-108</td>\n",
       "      <td>Leaf</td>\n",
       "      <td>NaN</td>\n",
       "      <td>NaN</td>\n",
       "      <td>NaN</td>\n",
       "      <td>NaN</td>\n",
       "      <td>-0.028933</td>\n",
       "      <td>3.549633</td>\n",
       "      <td>NaN</td>\n",
       "    </tr>\n",
       "  </tbody>\n",
       "</table>\n",
       "<p>87404 rows × 11 columns</p>\n",
       "</div>"
      ],
      "text/plain": [
       "       Tree  Node        ID Feature     Split  Yes    No Missing      Gain  \\\n",
       "0         0     0       0-0     f23  1.774662  0-1   0-2     0-1  3.063034   \n",
       "1         0     1       0-1      f2  3.778466  0-3   0-4     0-3  3.202192   \n",
       "2         0     2       0-2      f2 -0.259797  0-5   0-6     0-5  4.990823   \n",
       "3         0     3       0-3      f3  4.657824  0-7   0-8     0-7  3.069252   \n",
       "4         0     4       0-4      f2  3.913094  0-9  0-10     0-9  3.266931   \n",
       "...     ...   ...       ...     ...       ...  ...   ...     ...       ...   \n",
       "87399  1199   104  1199-104    Leaf       NaN  NaN   NaN     NaN -0.009865   \n",
       "87400  1199   105  1199-105    Leaf       NaN  NaN   NaN     NaN  0.029424   \n",
       "87401  1199   106  1199-106    Leaf       NaN  NaN   NaN     NaN -0.034133   \n",
       "87402  1199   107  1199-107    Leaf       NaN  NaN   NaN     NaN  0.046002   \n",
       "87403  1199   108  1199-108    Leaf       NaN  NaN   NaN     NaN -0.028933   \n",
       "\n",
       "             Cover  Category  \n",
       "0      3501.093750       NaN  \n",
       "1      2850.312500       NaN  \n",
       "2       650.781250       NaN  \n",
       "3      2647.312500       NaN  \n",
       "4       203.000000       NaN  \n",
       "...            ...       ...  \n",
       "87399     1.924719       NaN  \n",
       "87400     1.856762       NaN  \n",
       "87401    22.860502       NaN  \n",
       "87402     7.923193       NaN  \n",
       "87403     3.549633       NaN  \n",
       "\n",
       "[87404 rows x 11 columns]"
      ]
     },
     "execution_count": 16,
     "metadata": {},
     "output_type": "execute_result"
    }
   ],
   "source": [
    "# Get a taste of what the trees look like\n",
    "my_model.trees_to_dataframe()"
   ]
  },
  {
   "cell_type": "markdown",
   "id": "f22560f1-02a8-435b-8eee-e2d71a451bd3",
   "metadata": {},
   "source": [
    "## Another version of XGBoost -- boost with random forests?\n",
    "\n",
    "Might be slightly computationally heavy. Gotta be slightly careful about number of trees (limit to max of 6 for now)."
   ]
  },
  {
   "cell_type": "code",
   "execution_count": 23,
   "id": "f394eef2-f952-42b6-97ef-94aacec6ec37",
   "metadata": {
    "collapsed": true,
    "jupyter": {
     "outputs_hidden": true
    },
    "tags": []
   },
   "outputs": [
    {
     "name": "stderr",
     "output_type": "stream",
     "text": [
      "\u001b[32m[I 2022-12-06 07:43:05,362]\u001b[0m A new study created in memory with name: no-name-11e66b7b-4d4d-4224-8774-d84cd822994b\u001b[0m\n",
      "\u001b[32m[I 2022-12-06 07:43:08,159]\u001b[0m Trial 0 finished with value: 2.082927430640076 and parameters: {'booster': 'gbtree', 'lambda': 2.6145413020270743e-07, 'alpha': 0.1857720257430455, 'num_parallel_tree': 1, 'max_depth': 3}. Best is trial 0 with value: 2.082927430640076.\u001b[0m\n",
      "\u001b[32m[I 2022-12-06 07:43:25,802]\u001b[0m Trial 1 finished with value: 2.0875701816124326 and parameters: {'booster': 'dart', 'lambda': 1.0052272935760201e-05, 'alpha': 0.06221407535446576}. Best is trial 0 with value: 2.082927430640076.\u001b[0m\n",
      "\u001b[32m[I 2022-12-06 07:43:43,351]\u001b[0m Trial 2 finished with value: 2.089315070467588 and parameters: {'booster': 'dart', 'lambda': 1.656045205793017e-06, 'alpha': 4.011043606595319e-06}. Best is trial 0 with value: 2.082927430640076.\u001b[0m\n",
      "\u001b[32m[I 2022-12-06 07:43:44,334]\u001b[0m Trial 3 finished with value: 2.0681248657567024 and parameters: {'booster': 'gblinear', 'lambda': 4.992174564285349e-06, 'alpha': 1.0675021962459756e-08}. Best is trial 3 with value: 2.0681248657567024.\u001b[0m\n",
      "\u001b[32m[I 2022-12-06 07:44:18,591]\u001b[0m Trial 4 finished with value: 2.1203448887348646 and parameters: {'booster': 'gbtree', 'lambda': 0.0014869066335462993, 'alpha': 8.655633336153807e-05, 'num_parallel_tree': 3, 'max_depth': 12}. Best is trial 3 with value: 2.0681248657567024.\u001b[0m\n",
      "\u001b[32m[I 2022-12-06 07:44:27,525]\u001b[0m Trial 5 finished with value: 2.0879861025297664 and parameters: {'booster': 'gbtree', 'lambda': 9.527860900527806e-05, 'alpha': 6.136431994903296e-05, 'num_parallel_tree': 2, 'max_depth': 5}. Best is trial 3 with value: 2.0681248657567024.\u001b[0m\n",
      "\u001b[32m[I 2022-12-06 07:44:28,412]\u001b[0m Trial 6 finished with value: 2.0681250057159324 and parameters: {'booster': 'gblinear', 'lambda': 1.2333088306691931e-08, 'alpha': 1.1126360711651781e-08}. Best is trial 3 with value: 2.0681248657567024.\u001b[0m\n",
      "\u001b[32m[I 2022-12-06 07:44:46,106]\u001b[0m Trial 7 finished with value: 2.089314937914852 and parameters: {'booster': 'dart', 'lambda': 3.0526375013796425e-06, 'alpha': 4.3119617970299654e-07}. Best is trial 3 with value: 2.0681248657567024.\u001b[0m\n",
      "\u001b[32m[I 2022-12-06 07:45:03,675]\u001b[0m Trial 8 finished with value: 2.0874354215651105 and parameters: {'booster': 'dart', 'lambda': 0.25662288337353956, 'alpha': 5.4807450570365444e-08}. Best is trial 3 with value: 2.0681248657567024.\u001b[0m\n",
      "\u001b[32m[I 2022-12-06 07:45:21,531]\u001b[0m Trial 9 finished with value: 2.086066828471199 and parameters: {'booster': 'dart', 'lambda': 5.923504712920681e-08, 'alpha': 0.4085837798733291}. Best is trial 3 with value: 2.0681248657567024.\u001b[0m\n",
      "\u001b[32m[I 2022-12-06 07:45:22,352]\u001b[0m Trial 10 finished with value: 2.071666072987946 and parameters: {'booster': 'gblinear', 'lambda': 0.00569943378043655, 'alpha': 0.002609630137536115}. Best is trial 3 with value: 2.0681248657567024.\u001b[0m\n",
      "\u001b[32m[I 2022-12-06 07:45:23,393]\u001b[0m Trial 11 finished with value: 2.0681209894562143 and parameters: {'booster': 'gblinear', 'lambda': 1.3156341524612198e-08, 'alpha': 1.0372161849284818e-08}. Best is trial 11 with value: 2.0681209894562143.\u001b[0m\n",
      "\u001b[32m[I 2022-12-06 07:45:24,361]\u001b[0m Trial 12 finished with value: 2.068090443839218 and parameters: {'booster': 'gblinear', 'lambda': 7.836319416868152e-05, 'alpha': 5.576574052825037e-07}. Best is trial 12 with value: 2.068090443839218.\u001b[0m\n",
      "\u001b[32m[I 2022-12-06 07:45:25,288]\u001b[0m Trial 13 finished with value: 2.069254822573483 and parameters: {'booster': 'gblinear', 'lambda': 0.16651420565134628, 'alpha': 1.1469903272939032e-06}. Best is trial 12 with value: 2.068090443839218.\u001b[0m\n",
      "\u001b[32m[I 2022-12-06 07:45:26,265]\u001b[0m Trial 14 finished with value: 2.0680712727164847 and parameters: {'booster': 'gblinear', 'lambda': 0.0002938205353445296, 'alpha': 1.4040097057230195e-07}. Best is trial 14 with value: 2.0680712727164847.\u001b[0m\n",
      "\u001b[32m[I 2022-12-06 07:45:27,114]\u001b[0m Trial 15 finished with value: 2.067976554117259 and parameters: {'booster': 'gblinear', 'lambda': 0.0004857938852277597, 'alpha': 9.076769769893892e-06}. Best is trial 15 with value: 2.067976554117259.\u001b[0m\n",
      "\u001b[32m[I 2022-12-06 07:45:28,055]\u001b[0m Trial 16 finished with value: 2.0679044878106616 and parameters: {'booster': 'gblinear', 'lambda': 0.002065540590708353, 'alpha': 1.1218944902845523e-05}. Best is trial 16 with value: 2.0679044878106616.\u001b[0m\n",
      "\u001b[32m[I 2022-12-06 07:45:28,982]\u001b[0m Trial 17 finished with value: 2.0677677154893708 and parameters: {'booster': 'gblinear', 'lambda': 0.011531496469143454, 'alpha': 1.2175236063306533e-05}. Best is trial 17 with value: 2.0677677154893708.\u001b[0m\n",
      "\u001b[32m[I 2022-12-06 07:45:29,813]\u001b[0m Trial 18 finished with value: 2.0689428852507348 and parameters: {'booster': 'gblinear', 'lambda': 0.018704106230148117, 'alpha': 0.0009183359006339736}. Best is trial 17 with value: 2.0677677154893708.\u001b[0m\n",
      "\u001b[32m[I 2022-12-06 07:45:30,673]\u001b[0m Trial 19 finished with value: 2.0693963063656695 and parameters: {'booster': 'gblinear', 'lambda': 0.032459714442248176, 'alpha': 0.0011849425219729985}. Best is trial 17 with value: 2.0677677154893708.\u001b[0m\n",
      "\u001b[32m[I 2022-12-06 07:46:27,160]\u001b[0m Trial 20 finished with value: 2.10207060643672 and parameters: {'booster': 'gbtree', 'lambda': 0.8541668422510135, 'alpha': 1.342077816523245e-05, 'num_parallel_tree': 6, 'max_depth': 10}. Best is trial 17 with value: 2.0677677154893708.\u001b[0m\n",
      "\u001b[32m[I 2022-12-06 07:46:28,093]\u001b[0m Trial 21 finished with value: 2.0678518452705483 and parameters: {'booster': 'gblinear', 'lambda': 0.0024616249434008634, 'alpha': 1.4408885719774235e-05}. Best is trial 17 with value: 2.0677677154893708.\u001b[0m\n",
      "\u001b[32m[I 2022-12-06 07:46:28,879]\u001b[0m Trial 22 finished with value: 2.0677683541525513 and parameters: {'booster': 'gblinear', 'lambda': 0.004576973460938343, 'alpha': 0.00022644038569590632}. Best is trial 17 with value: 2.0677677154893708.\u001b[0m\n",
      "\u001b[32m[I 2022-12-06 07:46:29,540]\u001b[0m Trial 23 finished with value: 2.079241122014424 and parameters: {'booster': 'gblinear', 'lambda': 0.01917800627479033, 'alpha': 0.00974423057125866}. Best is trial 17 with value: 2.0677677154893708.\u001b[0m\n",
      "\u001b[32m[I 2022-12-06 07:46:30,302]\u001b[0m Trial 24 finished with value: 2.0678405147449976 and parameters: {'booster': 'gblinear', 'lambda': 0.004490566275093727, 'alpha': 0.00027283299206188916}. Best is trial 17 with value: 2.0677677154893708.\u001b[0m\n",
      "\u001b[32m[I 2022-12-06 07:46:31,110]\u001b[0m Trial 25 finished with value: 2.0685309482631835 and parameters: {'booster': 'gblinear', 'lambda': 0.05678416358700949, 'alpha': 0.0003072803307648709}. Best is trial 17 with value: 2.0677677154893708.\u001b[0m\n",
      "\u001b[32m[I 2022-12-06 07:46:31,876]\u001b[0m Trial 26 finished with value: 2.079347024067384 and parameters: {'booster': 'gblinear', 'lambda': 0.007188931885949406, 'alpha': 0.007913721464783106}. Best is trial 17 with value: 2.0677677154893708.\u001b[0m\n",
      "\u001b[32m[I 2022-12-06 07:46:32,706]\u001b[0m Trial 27 finished with value: 2.0676322002735366 and parameters: {'booster': 'gblinear', 'lambda': 2.541611554492729e-05, 'alpha': 0.00017965619293505556}. Best is trial 27 with value: 2.0676322002735366.\u001b[0m\n",
      "\u001b[32m[I 2022-12-06 07:46:33,597]\u001b[0m Trial 28 finished with value: 2.0676293083314126 and parameters: {'booster': 'gblinear', 'lambda': 2.3499503822525715e-05, 'alpha': 5.9436024809066265e-05}. Best is trial 28 with value: 2.0676293083314126.\u001b[0m\n",
      "\u001b[32m[I 2022-12-06 07:47:17,469]\u001b[0m Trial 29 finished with value: 2.095251026061865 and parameters: {'booster': 'gbtree', 'lambda': 2.8257865350285752e-05, 'alpha': 4.078305725075038e-05, 'num_parallel_tree': 6, 'max_depth': 8}. Best is trial 28 with value: 2.0676293083314126.\u001b[0m\n",
      "\u001b[32m[I 2022-12-06 07:47:43,044]\u001b[0m Trial 30 finished with value: 2.097002527828988 and parameters: {'booster': 'gbtree', 'lambda': 5.208828496036547e-07, 'alpha': 3.3094282309268715e-06, 'num_parallel_tree': 4, 'max_depth': 7}. Best is trial 28 with value: 2.0676293083314126.\u001b[0m\n",
      "\u001b[32m[I 2022-12-06 07:47:43,911]\u001b[0m Trial 31 finished with value: 2.067609738374838 and parameters: {'booster': 'gblinear', 'lambda': 3.1434991407902975e-05, 'alpha': 0.00017811927093491967}. Best is trial 31 with value: 2.067609738374838.\u001b[0m\n",
      "\u001b[32m[I 2022-12-06 07:47:44,858]\u001b[0m Trial 32 finished with value: 2.0676619526902598 and parameters: {'booster': 'gblinear', 'lambda': 2.3549365368227224e-05, 'alpha': 4.773390810876761e-05}. Best is trial 31 with value: 2.067609738374838.\u001b[0m\n",
      "\u001b[32m[I 2022-12-06 07:47:45,769]\u001b[0m Trial 33 finished with value: 2.067685319062991 and parameters: {'booster': 'gblinear', 'lambda': 1.895948536669073e-05, 'alpha': 3.769892839174197e-05}. Best is trial 31 with value: 2.067609738374838.\u001b[0m\n",
      "\u001b[32m[I 2022-12-06 07:47:46,578]\u001b[0m Trial 34 finished with value: 2.079653447901709 and parameters: {'booster': 'gblinear', 'lambda': 7.606399142969271e-07, 'alpha': 0.0988706371365147}. Best is trial 31 with value: 2.067609738374838.\u001b[0m\n",
      "\u001b[32m[I 2022-12-06 07:48:04,901]\u001b[0m Trial 35 finished with value: 2.0901170482296916 and parameters: {'booster': 'dart', 'lambda': 1.5886011147952756e-05, 'alpha': 0.0007942268858134969}. Best is trial 31 with value: 2.067609738374838.\u001b[0m\n",
      "\u001b[32m[I 2022-12-06 07:48:05,690]\u001b[0m Trial 36 finished with value: 2.0791341454907517 and parameters: {'booster': 'gblinear', 'lambda': 7.057196424567013e-06, 'alpha': 0.007440224949398826}. Best is trial 31 with value: 2.067609738374838.\u001b[0m\n",
      "\u001b[32m[I 2022-12-06 07:48:06,570]\u001b[0m Trial 37 finished with value: 2.0675761506872536 and parameters: {'booster': 'gblinear', 'lambda': 0.00032385729597048574, 'alpha': 0.00013683346355092548}. Best is trial 37 with value: 2.0675761506872536.\u001b[0m\n",
      "\u001b[32m[I 2022-12-06 07:48:17,295]\u001b[0m Trial 38 finished with value: 2.083832368930651 and parameters: {'booster': 'gbtree', 'lambda': 0.0003885221309606302, 'alpha': 0.0001906591778335708, 'num_parallel_tree': 4, 'max_depth': 3}. Best is trial 37 with value: 2.0675761506872536.\u001b[0m\n",
      "\u001b[32m[I 2022-12-06 07:48:35,561]\u001b[0m Trial 39 finished with value: 2.0909318436943805 and parameters: {'booster': 'dart', 'lambda': 7.354296442979172e-05, 'alpha': 0.003052601057260691}. Best is trial 37 with value: 2.0675761506872536.\u001b[0m\n",
      "\u001b[32m[I 2022-12-06 07:48:36,306]\u001b[0m Trial 40 finished with value: 2.079653447901709 and parameters: {'booster': 'gblinear', 'lambda': 2.2085030007991286e-06, 'alpha': 0.04063290556782001}. Best is trial 37 with value: 2.0675761506872536.\u001b[0m\n",
      "\u001b[32m[I 2022-12-06 07:48:37,122]\u001b[0m Trial 41 finished with value: 2.0676455244980385 and parameters: {'booster': 'gblinear', 'lambda': 3.256580236517355e-05, 'alpha': 4.675974924940899e-05}. Best is trial 37 with value: 2.0675761506872536.\u001b[0m\n",
      "\u001b[32m[I 2022-12-06 07:48:37,996]\u001b[0m Trial 42 finished with value: 2.0681162599981184 and parameters: {'booster': 'gblinear', 'lambda': 0.00018545406590722075, 'alpha': 0.00048425912517103143}. Best is trial 37 with value: 2.0675761506872536.\u001b[0m\n",
      "\u001b[32m[I 2022-12-06 07:48:38,809]\u001b[0m Trial 43 finished with value: 2.0675588484111387 and parameters: {'booster': 'gblinear', 'lambda': 4.379460431685878e-05, 'alpha': 8.166861954947548e-05}. Best is trial 43 with value: 2.0675588484111387.\u001b[0m\n",
      "\u001b[32m[I 2022-12-06 07:48:39,716]\u001b[0m Trial 44 finished with value: 2.0675747670247944 and parameters: {'booster': 'gblinear', 'lambda': 6.479245317034644e-06, 'alpha': 0.00010989346080215408}. Best is trial 43 with value: 2.0675588484111387.\u001b[0m\n",
      "\u001b[32m[I 2022-12-06 07:48:58,045]\u001b[0m Trial 45 finished with value: 2.0901488349341313 and parameters: {'booster': 'dart', 'lambda': 5.298977153726351e-06, 'alpha': 0.0001108856662255085}. Best is trial 43 with value: 2.0675588484111387.\u001b[0m\n",
      "\u001b[32m[I 2022-12-06 07:48:59,041]\u001b[0m Trial 46 finished with value: 2.0680431436152147 and parameters: {'booster': 'gblinear', 'lambda': 0.0006335676958751327, 'alpha': 1.8095411610078708e-06}. Best is trial 43 with value: 2.0675588484111387.\u001b[0m\n",
      "\u001b[32m[I 2022-12-06 07:49:00,006]\u001b[0m Trial 47 finished with value: 2.0676034397980163 and parameters: {'booster': 'gblinear', 'lambda': 0.00013561967531545475, 'alpha': 9.094848450278325e-05}. Best is trial 43 with value: 2.0675588484111387.\u001b[0m\n",
      "\u001b[32m[I 2022-12-06 07:49:00,725]\u001b[0m Trial 48 finished with value: 2.0697733879794735 and parameters: {'booster': 'gblinear', 'lambda': 0.0009666097399176259, 'alpha': 0.0017066914541179158}. Best is trial 43 with value: 2.0675588484111387.\u001b[0m\n",
      "\u001b[32m[I 2022-12-06 07:49:01,609]\u001b[0m Trial 49 finished with value: 2.068041365762669 and parameters: {'booster': 'gblinear', 'lambda': 0.00010795255103292625, 'alpha': 5.195652897638848e-06}. Best is trial 43 with value: 2.0675588484111387.\u001b[0m\n"
     ]
    }
   ],
   "source": [
    "# Real training - method 2 as borrowed from this article: https://www.kaggle.com/code/mrleritaite/cnn-xgboost/notebook\n",
    "dataset_train = xgb.DMatrix(train_cnn_output, label=np.argmax(train_y, axis=1))\n",
    "dataset_val = xgb.DMatrix(validation_cnn_output, label=np.argmax(validation_y, axis=1))\n",
    "watchlist = [(dataset_train, 'train'), (dataset_val, 'validation')]\n",
    "\n",
    "best_bst = None\n",
    "best_loss = 1e5\n",
    "\n",
    "def objective(trial):\n",
    "    global best_bst\n",
    "    global best_loss\n",
    "    \n",
    "    booster_choice = trial.suggest_categorical('booster', ['gbtree', 'gblinear', 'dart'])\n",
    "    \n",
    "    params = {\n",
    "        'eta': 0.1,\n",
    "        'booster': booster_choice,\n",
    "        'num_class': 8,\n",
    "        'objective': 'multi:softmax',\n",
    "        'lambda': trial.suggest_float('lambda', 1e-8, 1.0, log=True),\n",
    "        'alpha': trial.suggest_float('alpha', 1e-8, 1.0, log=True),\n",
    "    }\n",
    "    \n",
    "    if booster_choice == \"gbtree\":\n",
    "        params.update({\n",
    "            \"num_parallel_tree\": trial.suggest_int(\"num_parallel_tree\", 1, 6),\n",
    "            'max_depth': trial.suggest_int(\"max_depth\", 3, 12),\n",
    "        })\n",
    "        \n",
    "    bst = xgb.train(params, dataset_train, num_boost_round=50, evals=watchlist, verbose_eval=False)\n",
    "    \n",
    "    val_loss = float(bst.eval(dataset_val).split(\"mlogloss:\")[-1])\n",
    "    if val_loss < best_loss:\n",
    "        best_loss = val_loss\n",
    "        best_bst = bst\n",
    "\n",
    "    return val_loss\n",
    "\n",
    "study = optuna.create_study(direction='minimize')\n",
    "study.optimize(objective, n_trials=50)"
   ]
  },
  {
   "cell_type": "code",
   "execution_count": 36,
   "id": "f7dfb789-4c32-4ead-9dbf-37d48d1920b8",
   "metadata": {
    "collapsed": true,
    "jupyter": {
     "outputs_hidden": true
    },
    "tags": []
   },
   "outputs": [
    {
     "name": "stdout",
     "output_type": "stream",
     "text": [
      "[0]\ttrain-mlogloss:2.07917\tvalidation-mlogloss:2.07794\n",
      "[1]\ttrain-mlogloss:2.07894\tvalidation-mlogloss:2.07661\n",
      "[2]\ttrain-mlogloss:2.07874\tvalidation-mlogloss:2.07545\n",
      "[3]\ttrain-mlogloss:2.07858\tvalidation-mlogloss:2.07441\n",
      "[4]\ttrain-mlogloss:2.07843\tvalidation-mlogloss:2.07352\n",
      "[5]\ttrain-mlogloss:2.07831\tvalidation-mlogloss:2.07275\n",
      "[6]\ttrain-mlogloss:2.07820\tvalidation-mlogloss:2.07207\n",
      "[7]\ttrain-mlogloss:2.07811\tvalidation-mlogloss:2.07146\n",
      "[8]\ttrain-mlogloss:2.07803\tvalidation-mlogloss:2.07094\n",
      "[9]\ttrain-mlogloss:2.07796\tvalidation-mlogloss:2.07049\n",
      "[10]\ttrain-mlogloss:2.07790\tvalidation-mlogloss:2.07009\n",
      "[11]\ttrain-mlogloss:2.07784\tvalidation-mlogloss:2.06974\n",
      "[12]\ttrain-mlogloss:2.07779\tvalidation-mlogloss:2.06943\n",
      "[13]\ttrain-mlogloss:2.07775\tvalidation-mlogloss:2.06917\n",
      "[14]\ttrain-mlogloss:2.07771\tvalidation-mlogloss:2.06894\n",
      "[15]\ttrain-mlogloss:2.07768\tvalidation-mlogloss:2.06873\n",
      "[16]\ttrain-mlogloss:2.07765\tvalidation-mlogloss:2.06854\n",
      "[17]\ttrain-mlogloss:2.07762\tvalidation-mlogloss:2.06838\n",
      "[18]\ttrain-mlogloss:2.07760\tvalidation-mlogloss:2.06824\n",
      "[19]\ttrain-mlogloss:2.07758\tvalidation-mlogloss:2.06812\n",
      "[20]\ttrain-mlogloss:2.07756\tvalidation-mlogloss:2.06801\n",
      "[21]\ttrain-mlogloss:2.07754\tvalidation-mlogloss:2.06791\n",
      "[22]\ttrain-mlogloss:2.07752\tvalidation-mlogloss:2.06783\n",
      "[23]\ttrain-mlogloss:2.07751\tvalidation-mlogloss:2.06776\n",
      "[24]\ttrain-mlogloss:2.07749\tvalidation-mlogloss:2.06770\n",
      "[25]\ttrain-mlogloss:2.07748\tvalidation-mlogloss:2.06765\n",
      "[26]\ttrain-mlogloss:2.07747\tvalidation-mlogloss:2.06761\n",
      "[27]\ttrain-mlogloss:2.07746\tvalidation-mlogloss:2.06758\n",
      "[28]\ttrain-mlogloss:2.07745\tvalidation-mlogloss:2.06755\n",
      "[29]\ttrain-mlogloss:2.07744\tvalidation-mlogloss:2.06752\n",
      "[30]\ttrain-mlogloss:2.07743\tvalidation-mlogloss:2.06750\n",
      "[31]\ttrain-mlogloss:2.07742\tvalidation-mlogloss:2.06748\n",
      "[32]\ttrain-mlogloss:2.07742\tvalidation-mlogloss:2.06747\n",
      "[33]\ttrain-mlogloss:2.07741\tvalidation-mlogloss:2.06747\n",
      "[34]\ttrain-mlogloss:2.07740\tvalidation-mlogloss:2.06747\n",
      "[35]\ttrain-mlogloss:2.07740\tvalidation-mlogloss:2.06747\n",
      "[36]\ttrain-mlogloss:2.07739\tvalidation-mlogloss:2.06746\n",
      "[37]\ttrain-mlogloss:2.07739\tvalidation-mlogloss:2.06746\n",
      "[38]\ttrain-mlogloss:2.07738\tvalidation-mlogloss:2.06746\n",
      "[39]\ttrain-mlogloss:2.07738\tvalidation-mlogloss:2.06747\n",
      "[40]\ttrain-mlogloss:2.07737\tvalidation-mlogloss:2.06749\n",
      "[41]\ttrain-mlogloss:2.07737\tvalidation-mlogloss:2.06749\n",
      "[42]\ttrain-mlogloss:2.07737\tvalidation-mlogloss:2.06750\n",
      "[43]\ttrain-mlogloss:2.07736\tvalidation-mlogloss:2.06751\n",
      "[44]\ttrain-mlogloss:2.07736\tvalidation-mlogloss:2.06752\n",
      "[45]\ttrain-mlogloss:2.07736\tvalidation-mlogloss:2.06753\n",
      "[46]\ttrain-mlogloss:2.07735\tvalidation-mlogloss:2.06755\n",
      "[47]\ttrain-mlogloss:2.07735\tvalidation-mlogloss:2.06757\n",
      "[48]\ttrain-mlogloss:2.07735\tvalidation-mlogloss:2.06758\n",
      "[49]\ttrain-mlogloss:2.07734\tvalidation-mlogloss:2.06759\n",
      "[50]\ttrain-mlogloss:2.07734\tvalidation-mlogloss:2.06760\n",
      "[51]\ttrain-mlogloss:2.07734\tvalidation-mlogloss:2.06762\n",
      "[52]\ttrain-mlogloss:2.07734\tvalidation-mlogloss:2.06764\n",
      "[53]\ttrain-mlogloss:2.07733\tvalidation-mlogloss:2.06766\n",
      "[54]\ttrain-mlogloss:2.07733\tvalidation-mlogloss:2.06767\n",
      "[55]\ttrain-mlogloss:2.07733\tvalidation-mlogloss:2.06769\n",
      "[56]\ttrain-mlogloss:2.07733\tvalidation-mlogloss:2.06771\n",
      "[57]\ttrain-mlogloss:2.07733\tvalidation-mlogloss:2.06772\n",
      "[58]\ttrain-mlogloss:2.07732\tvalidation-mlogloss:2.06774\n",
      "[59]\ttrain-mlogloss:2.07732\tvalidation-mlogloss:2.06776\n",
      "[60]\ttrain-mlogloss:2.07732\tvalidation-mlogloss:2.06777\n",
      "[61]\ttrain-mlogloss:2.07732\tvalidation-mlogloss:2.06778\n",
      "[62]\ttrain-mlogloss:2.07732\tvalidation-mlogloss:2.06780\n",
      "[63]\ttrain-mlogloss:2.07732\tvalidation-mlogloss:2.06781\n",
      "[64]\ttrain-mlogloss:2.07731\tvalidation-mlogloss:2.06782\n",
      "[65]\ttrain-mlogloss:2.07731\tvalidation-mlogloss:2.06783\n",
      "[66]\ttrain-mlogloss:2.07731\tvalidation-mlogloss:2.06784\n",
      "[67]\ttrain-mlogloss:2.07731\tvalidation-mlogloss:2.06785\n",
      "[68]\ttrain-mlogloss:2.07731\tvalidation-mlogloss:2.06786\n",
      "[69]\ttrain-mlogloss:2.07731\tvalidation-mlogloss:2.06787\n",
      "[70]\ttrain-mlogloss:2.07731\tvalidation-mlogloss:2.06788\n",
      "[71]\ttrain-mlogloss:2.07730\tvalidation-mlogloss:2.06789\n",
      "[72]\ttrain-mlogloss:2.07730\tvalidation-mlogloss:2.06790\n",
      "[73]\ttrain-mlogloss:2.07730\tvalidation-mlogloss:2.06792\n",
      "[74]\ttrain-mlogloss:2.07730\tvalidation-mlogloss:2.06792\n",
      "[75]\ttrain-mlogloss:2.07730\tvalidation-mlogloss:2.06794\n",
      "[76]\ttrain-mlogloss:2.07730\tvalidation-mlogloss:2.06795\n",
      "[77]\ttrain-mlogloss:2.07730\tvalidation-mlogloss:2.06796\n",
      "[78]\ttrain-mlogloss:2.07729\tvalidation-mlogloss:2.06797\n",
      "[79]\ttrain-mlogloss:2.07729\tvalidation-mlogloss:2.06799\n",
      "[80]\ttrain-mlogloss:2.07729\tvalidation-mlogloss:2.06799\n",
      "[81]\ttrain-mlogloss:2.07729\tvalidation-mlogloss:2.06800\n",
      "[82]\ttrain-mlogloss:2.07729\tvalidation-mlogloss:2.06802\n",
      "[83]\ttrain-mlogloss:2.07729\tvalidation-mlogloss:2.06803\n",
      "[84]\ttrain-mlogloss:2.07729\tvalidation-mlogloss:2.06803\n",
      "[85]\ttrain-mlogloss:2.07729\tvalidation-mlogloss:2.06804\n",
      "[86]\ttrain-mlogloss:2.07729\tvalidation-mlogloss:2.06805\n",
      "[87]\ttrain-mlogloss:2.07729\tvalidation-mlogloss:2.06806\n",
      "[88]\ttrain-mlogloss:2.07728\tvalidation-mlogloss:2.06807\n",
      "[89]\ttrain-mlogloss:2.07728\tvalidation-mlogloss:2.06808\n",
      "[90]\ttrain-mlogloss:2.07728\tvalidation-mlogloss:2.06809\n",
      "[91]\ttrain-mlogloss:2.07728\tvalidation-mlogloss:2.06811\n",
      "[92]\ttrain-mlogloss:2.07728\tvalidation-mlogloss:2.06811\n",
      "[93]\ttrain-mlogloss:2.07728\tvalidation-mlogloss:2.06813\n",
      "[94]\ttrain-mlogloss:2.07728\tvalidation-mlogloss:2.06814\n",
      "[95]\ttrain-mlogloss:2.07728\tvalidation-mlogloss:2.06815\n",
      "[96]\ttrain-mlogloss:2.07728\tvalidation-mlogloss:2.06816\n",
      "[97]\ttrain-mlogloss:2.07728\tvalidation-mlogloss:2.06817\n",
      "[98]\ttrain-mlogloss:2.07727\tvalidation-mlogloss:2.06818\n",
      "[99]\ttrain-mlogloss:2.07727\tvalidation-mlogloss:2.06820\n",
      "[100]\ttrain-mlogloss:2.07727\tvalidation-mlogloss:2.06821\n",
      "[101]\ttrain-mlogloss:2.07727\tvalidation-mlogloss:2.06822\n",
      "[102]\ttrain-mlogloss:2.07727\tvalidation-mlogloss:2.06824\n",
      "[103]\ttrain-mlogloss:2.07727\tvalidation-mlogloss:2.06825\n",
      "[104]\ttrain-mlogloss:2.07727\tvalidation-mlogloss:2.06826\n",
      "[105]\ttrain-mlogloss:2.07727\tvalidation-mlogloss:2.06827\n",
      "[106]\ttrain-mlogloss:2.07727\tvalidation-mlogloss:2.06828\n",
      "[107]\ttrain-mlogloss:2.07727\tvalidation-mlogloss:2.06829\n",
      "[108]\ttrain-mlogloss:2.07727\tvalidation-mlogloss:2.06830\n",
      "[109]\ttrain-mlogloss:2.07727\tvalidation-mlogloss:2.06831\n",
      "[110]\ttrain-mlogloss:2.07727\tvalidation-mlogloss:2.06832\n",
      "[111]\ttrain-mlogloss:2.07727\tvalidation-mlogloss:2.06833\n",
      "[112]\ttrain-mlogloss:2.07726\tvalidation-mlogloss:2.06834\n",
      "[113]\ttrain-mlogloss:2.07726\tvalidation-mlogloss:2.06835\n",
      "[114]\ttrain-mlogloss:2.07726\tvalidation-mlogloss:2.06836\n",
      "[115]\ttrain-mlogloss:2.07726\tvalidation-mlogloss:2.06837\n",
      "[116]\ttrain-mlogloss:2.07726\tvalidation-mlogloss:2.06838\n",
      "[117]\ttrain-mlogloss:2.07726\tvalidation-mlogloss:2.06839\n",
      "[118]\ttrain-mlogloss:2.07726\tvalidation-mlogloss:2.06840\n",
      "[119]\ttrain-mlogloss:2.07726\tvalidation-mlogloss:2.06840\n",
      "[120]\ttrain-mlogloss:2.07726\tvalidation-mlogloss:2.06841\n",
      "[121]\ttrain-mlogloss:2.07726\tvalidation-mlogloss:2.06842\n",
      "[122]\ttrain-mlogloss:2.07726\tvalidation-mlogloss:2.06843\n",
      "[123]\ttrain-mlogloss:2.07726\tvalidation-mlogloss:2.06844\n",
      "[124]\ttrain-mlogloss:2.07726\tvalidation-mlogloss:2.06845\n",
      "[125]\ttrain-mlogloss:2.07726\tvalidation-mlogloss:2.06846\n",
      "[126]\ttrain-mlogloss:2.07726\tvalidation-mlogloss:2.06847\n",
      "[127]\ttrain-mlogloss:2.07726\tvalidation-mlogloss:2.06848\n",
      "[128]\ttrain-mlogloss:2.07725\tvalidation-mlogloss:2.06849\n",
      "[129]\ttrain-mlogloss:2.07725\tvalidation-mlogloss:2.06850\n",
      "[130]\ttrain-mlogloss:2.07725\tvalidation-mlogloss:2.06851\n",
      "[131]\ttrain-mlogloss:2.07725\tvalidation-mlogloss:2.06852\n",
      "[132]\ttrain-mlogloss:2.07725\tvalidation-mlogloss:2.06853\n",
      "[133]\ttrain-mlogloss:2.07725\tvalidation-mlogloss:2.06854\n",
      "[134]\ttrain-mlogloss:2.07725\tvalidation-mlogloss:2.06855\n",
      "[135]\ttrain-mlogloss:2.07725\tvalidation-mlogloss:2.06856\n",
      "[136]\ttrain-mlogloss:2.07725\tvalidation-mlogloss:2.06856\n",
      "[137]\ttrain-mlogloss:2.07725\tvalidation-mlogloss:2.06857\n",
      "[138]\ttrain-mlogloss:2.07725\tvalidation-mlogloss:2.06858\n",
      "[139]\ttrain-mlogloss:2.07725\tvalidation-mlogloss:2.06859\n",
      "[140]\ttrain-mlogloss:2.07725\tvalidation-mlogloss:2.06860\n",
      "[141]\ttrain-mlogloss:2.07725\tvalidation-mlogloss:2.06861\n",
      "[142]\ttrain-mlogloss:2.07725\tvalidation-mlogloss:2.06861\n",
      "[143]\ttrain-mlogloss:2.07725\tvalidation-mlogloss:2.06862\n",
      "[144]\ttrain-mlogloss:2.07725\tvalidation-mlogloss:2.06863\n",
      "[145]\ttrain-mlogloss:2.07725\tvalidation-mlogloss:2.06864\n",
      "[146]\ttrain-mlogloss:2.07725\tvalidation-mlogloss:2.06864\n",
      "[147]\ttrain-mlogloss:2.07725\tvalidation-mlogloss:2.06864\n",
      "[148]\ttrain-mlogloss:2.07725\tvalidation-mlogloss:2.06864\n",
      "[149]\ttrain-mlogloss:2.07724\tvalidation-mlogloss:2.06864\n",
      "[150]\ttrain-mlogloss:2.07724\tvalidation-mlogloss:2.06865\n",
      "[151]\ttrain-mlogloss:2.07724\tvalidation-mlogloss:2.06865\n",
      "[152]\ttrain-mlogloss:2.07724\tvalidation-mlogloss:2.06865\n",
      "[153]\ttrain-mlogloss:2.07724\tvalidation-mlogloss:2.06865\n",
      "[154]\ttrain-mlogloss:2.07724\tvalidation-mlogloss:2.06866\n",
      "[155]\ttrain-mlogloss:2.07724\tvalidation-mlogloss:2.06866\n",
      "[156]\ttrain-mlogloss:2.07724\tvalidation-mlogloss:2.06866\n",
      "[157]\ttrain-mlogloss:2.07724\tvalidation-mlogloss:2.06867\n",
      "[158]\ttrain-mlogloss:2.07724\tvalidation-mlogloss:2.06867\n",
      "[159]\ttrain-mlogloss:2.07724\tvalidation-mlogloss:2.06867\n",
      "[160]\ttrain-mlogloss:2.07724\tvalidation-mlogloss:2.06868\n",
      "[161]\ttrain-mlogloss:2.07724\tvalidation-mlogloss:2.06868\n",
      "[162]\ttrain-mlogloss:2.07724\tvalidation-mlogloss:2.06868\n",
      "[163]\ttrain-mlogloss:2.07724\tvalidation-mlogloss:2.06869\n",
      "[164]\ttrain-mlogloss:2.07724\tvalidation-mlogloss:2.06869\n",
      "[165]\ttrain-mlogloss:2.07724\tvalidation-mlogloss:2.06870\n",
      "[166]\ttrain-mlogloss:2.07724\tvalidation-mlogloss:2.06870\n",
      "[167]\ttrain-mlogloss:2.07724\tvalidation-mlogloss:2.06871\n",
      "[168]\ttrain-mlogloss:2.07724\tvalidation-mlogloss:2.06871\n",
      "[169]\ttrain-mlogloss:2.07724\tvalidation-mlogloss:2.06872\n",
      "[170]\ttrain-mlogloss:2.07724\tvalidation-mlogloss:2.06872\n",
      "[171]\ttrain-mlogloss:2.07724\tvalidation-mlogloss:2.06873\n",
      "[172]\ttrain-mlogloss:2.07724\tvalidation-mlogloss:2.06873\n",
      "[173]\ttrain-mlogloss:2.07724\tvalidation-mlogloss:2.06873\n",
      "[174]\ttrain-mlogloss:2.07724\tvalidation-mlogloss:2.06874\n",
      "[175]\ttrain-mlogloss:2.07724\tvalidation-mlogloss:2.06874\n",
      "[176]\ttrain-mlogloss:2.07724\tvalidation-mlogloss:2.06875\n",
      "[177]\ttrain-mlogloss:2.07724\tvalidation-mlogloss:2.06875\n",
      "[178]\ttrain-mlogloss:2.07724\tvalidation-mlogloss:2.06875\n",
      "[179]\ttrain-mlogloss:2.07723\tvalidation-mlogloss:2.06876\n",
      "[180]\ttrain-mlogloss:2.07723\tvalidation-mlogloss:2.06876\n",
      "[181]\ttrain-mlogloss:2.07723\tvalidation-mlogloss:2.06877\n",
      "[182]\ttrain-mlogloss:2.07723\tvalidation-mlogloss:2.06877\n",
      "[183]\ttrain-mlogloss:2.07723\tvalidation-mlogloss:2.06877\n",
      "[184]\ttrain-mlogloss:2.07723\tvalidation-mlogloss:2.06878\n",
      "[185]\ttrain-mlogloss:2.07723\tvalidation-mlogloss:2.06878\n",
      "[186]\ttrain-mlogloss:2.07723\tvalidation-mlogloss:2.06879\n",
      "[187]\ttrain-mlogloss:2.07723\tvalidation-mlogloss:2.06879\n",
      "[188]\ttrain-mlogloss:2.07723\tvalidation-mlogloss:2.06879\n",
      "[189]\ttrain-mlogloss:2.07723\tvalidation-mlogloss:2.06879\n",
      "[190]\ttrain-mlogloss:2.07723\tvalidation-mlogloss:2.06880\n",
      "[191]\ttrain-mlogloss:2.07723\tvalidation-mlogloss:2.06880\n",
      "[192]\ttrain-mlogloss:2.07723\tvalidation-mlogloss:2.06880\n",
      "[193]\ttrain-mlogloss:2.07723\tvalidation-mlogloss:2.06880\n",
      "[194]\ttrain-mlogloss:2.07723\tvalidation-mlogloss:2.06881\n",
      "[195]\ttrain-mlogloss:2.07723\tvalidation-mlogloss:2.06881\n",
      "[196]\ttrain-mlogloss:2.07723\tvalidation-mlogloss:2.06881\n",
      "[197]\ttrain-mlogloss:2.07723\tvalidation-mlogloss:2.06881\n",
      "[198]\ttrain-mlogloss:2.07723\tvalidation-mlogloss:2.06882\n",
      "[199]\ttrain-mlogloss:2.07723\tvalidation-mlogloss:2.06882\n",
      "[200]\ttrain-mlogloss:2.07723\tvalidation-mlogloss:2.06882\n",
      "[201]\ttrain-mlogloss:2.07723\tvalidation-mlogloss:2.06882\n",
      "[202]\ttrain-mlogloss:2.07723\tvalidation-mlogloss:2.06883\n",
      "[203]\ttrain-mlogloss:2.07723\tvalidation-mlogloss:2.06883\n",
      "[204]\ttrain-mlogloss:2.07723\tvalidation-mlogloss:2.06883\n",
      "[205]\ttrain-mlogloss:2.07723\tvalidation-mlogloss:2.06883\n",
      "[206]\ttrain-mlogloss:2.07723\tvalidation-mlogloss:2.06883\n",
      "[207]\ttrain-mlogloss:2.07723\tvalidation-mlogloss:2.06884\n",
      "[208]\ttrain-mlogloss:2.07723\tvalidation-mlogloss:2.06884\n",
      "[209]\ttrain-mlogloss:2.07723\tvalidation-mlogloss:2.06884\n",
      "[210]\ttrain-mlogloss:2.07723\tvalidation-mlogloss:2.06884\n",
      "[211]\ttrain-mlogloss:2.07723\tvalidation-mlogloss:2.06885\n",
      "[212]\ttrain-mlogloss:2.07723\tvalidation-mlogloss:2.06885\n",
      "[213]\ttrain-mlogloss:2.07723\tvalidation-mlogloss:2.06885\n",
      "[214]\ttrain-mlogloss:2.07723\tvalidation-mlogloss:2.06885\n",
      "[215]\ttrain-mlogloss:2.07723\tvalidation-mlogloss:2.06885\n",
      "[216]\ttrain-mlogloss:2.07723\tvalidation-mlogloss:2.06885\n",
      "[217]\ttrain-mlogloss:2.07723\tvalidation-mlogloss:2.06886\n",
      "[218]\ttrain-mlogloss:2.07723\tvalidation-mlogloss:2.06886\n",
      "[219]\ttrain-mlogloss:2.07723\tvalidation-mlogloss:2.06886\n",
      "[220]\ttrain-mlogloss:2.07723\tvalidation-mlogloss:2.06886\n",
      "[221]\ttrain-mlogloss:2.07723\tvalidation-mlogloss:2.06887\n",
      "[222]\ttrain-mlogloss:2.07723\tvalidation-mlogloss:2.06887\n",
      "[223]\ttrain-mlogloss:2.07723\tvalidation-mlogloss:2.06887\n",
      "[224]\ttrain-mlogloss:2.07723\tvalidation-mlogloss:2.06888\n",
      "[225]\ttrain-mlogloss:2.07723\tvalidation-mlogloss:2.06888\n",
      "[226]\ttrain-mlogloss:2.07723\tvalidation-mlogloss:2.06888\n",
      "[227]\ttrain-mlogloss:2.07723\tvalidation-mlogloss:2.06888\n",
      "[228]\ttrain-mlogloss:2.07722\tvalidation-mlogloss:2.06888\n",
      "[229]\ttrain-mlogloss:2.07722\tvalidation-mlogloss:2.06889\n",
      "[230]\ttrain-mlogloss:2.07722\tvalidation-mlogloss:2.06889\n",
      "[231]\ttrain-mlogloss:2.07722\tvalidation-mlogloss:2.06889\n",
      "[232]\ttrain-mlogloss:2.07722\tvalidation-mlogloss:2.06889\n",
      "[233]\ttrain-mlogloss:2.07722\tvalidation-mlogloss:2.06890\n",
      "[234]\ttrain-mlogloss:2.07722\tvalidation-mlogloss:2.06890\n",
      "[235]\ttrain-mlogloss:2.07722\tvalidation-mlogloss:2.06890\n",
      "[236]\ttrain-mlogloss:2.07722\tvalidation-mlogloss:2.06890\n",
      "[237]\ttrain-mlogloss:2.07722\tvalidation-mlogloss:2.06891\n",
      "[238]\ttrain-mlogloss:2.07722\tvalidation-mlogloss:2.06891\n",
      "[239]\ttrain-mlogloss:2.07722\tvalidation-mlogloss:2.06891\n",
      "[240]\ttrain-mlogloss:2.07722\tvalidation-mlogloss:2.06891\n",
      "[241]\ttrain-mlogloss:2.07722\tvalidation-mlogloss:2.06891\n",
      "[242]\ttrain-mlogloss:2.07722\tvalidation-mlogloss:2.06892\n",
      "[243]\ttrain-mlogloss:2.07722\tvalidation-mlogloss:2.06892\n",
      "[244]\ttrain-mlogloss:2.07722\tvalidation-mlogloss:2.06892\n",
      "[245]\ttrain-mlogloss:2.07722\tvalidation-mlogloss:2.06892\n",
      "[246]\ttrain-mlogloss:2.07722\tvalidation-mlogloss:2.06892\n",
      "[247]\ttrain-mlogloss:2.07722\tvalidation-mlogloss:2.06892\n",
      "[248]\ttrain-mlogloss:2.07722\tvalidation-mlogloss:2.06893\n",
      "[249]\ttrain-mlogloss:2.07722\tvalidation-mlogloss:2.06893\n",
      "[250]\ttrain-mlogloss:2.07722\tvalidation-mlogloss:2.06893\n",
      "[251]\ttrain-mlogloss:2.07722\tvalidation-mlogloss:2.06893\n",
      "[252]\ttrain-mlogloss:2.07722\tvalidation-mlogloss:2.06893\n",
      "[253]\ttrain-mlogloss:2.07722\tvalidation-mlogloss:2.06893\n",
      "[254]\ttrain-mlogloss:2.07722\tvalidation-mlogloss:2.06893\n",
      "[255]\ttrain-mlogloss:2.07722\tvalidation-mlogloss:2.06894\n",
      "[256]\ttrain-mlogloss:2.07722\tvalidation-mlogloss:2.06894\n",
      "[257]\ttrain-mlogloss:2.07722\tvalidation-mlogloss:2.06894\n",
      "[258]\ttrain-mlogloss:2.07722\tvalidation-mlogloss:2.06894\n",
      "[259]\ttrain-mlogloss:2.07722\tvalidation-mlogloss:2.06894\n",
      "[260]\ttrain-mlogloss:2.07722\tvalidation-mlogloss:2.06894\n",
      "[261]\ttrain-mlogloss:2.07722\tvalidation-mlogloss:2.06894\n",
      "[262]\ttrain-mlogloss:2.07722\tvalidation-mlogloss:2.06895\n",
      "[263]\ttrain-mlogloss:2.07722\tvalidation-mlogloss:2.06895\n",
      "[264]\ttrain-mlogloss:2.07722\tvalidation-mlogloss:2.06895\n",
      "[265]\ttrain-mlogloss:2.07722\tvalidation-mlogloss:2.06895\n",
      "[266]\ttrain-mlogloss:2.07722\tvalidation-mlogloss:2.06895\n",
      "[267]\ttrain-mlogloss:2.07722\tvalidation-mlogloss:2.06895\n",
      "[268]\ttrain-mlogloss:2.07722\tvalidation-mlogloss:2.06895\n",
      "[269]\ttrain-mlogloss:2.07722\tvalidation-mlogloss:2.06895\n",
      "[270]\ttrain-mlogloss:2.07722\tvalidation-mlogloss:2.06896\n",
      "[271]\ttrain-mlogloss:2.07722\tvalidation-mlogloss:2.06896\n",
      "[272]\ttrain-mlogloss:2.07722\tvalidation-mlogloss:2.06896\n",
      "[273]\ttrain-mlogloss:2.07722\tvalidation-mlogloss:2.06896\n",
      "[274]\ttrain-mlogloss:2.07722\tvalidation-mlogloss:2.06896\n",
      "[275]\ttrain-mlogloss:2.07722\tvalidation-mlogloss:2.06896\n",
      "[276]\ttrain-mlogloss:2.07722\tvalidation-mlogloss:2.06896\n",
      "[277]\ttrain-mlogloss:2.07722\tvalidation-mlogloss:2.06896\n",
      "[278]\ttrain-mlogloss:2.07722\tvalidation-mlogloss:2.06896\n",
      "[279]\ttrain-mlogloss:2.07722\tvalidation-mlogloss:2.06896\n",
      "[280]\ttrain-mlogloss:2.07722\tvalidation-mlogloss:2.06896\n",
      "[281]\ttrain-mlogloss:2.07722\tvalidation-mlogloss:2.06897\n",
      "[282]\ttrain-mlogloss:2.07722\tvalidation-mlogloss:2.06897\n",
      "[283]\ttrain-mlogloss:2.07722\tvalidation-mlogloss:2.06897\n",
      "[284]\ttrain-mlogloss:2.07722\tvalidation-mlogloss:2.06897\n",
      "[285]\ttrain-mlogloss:2.07722\tvalidation-mlogloss:2.06897\n",
      "[286]\ttrain-mlogloss:2.07722\tvalidation-mlogloss:2.06897\n",
      "[287]\ttrain-mlogloss:2.07722\tvalidation-mlogloss:2.06897\n",
      "[288]\ttrain-mlogloss:2.07722\tvalidation-mlogloss:2.06897\n",
      "[289]\ttrain-mlogloss:2.07722\tvalidation-mlogloss:2.06898\n",
      "[290]\ttrain-mlogloss:2.07722\tvalidation-mlogloss:2.06898\n",
      "[291]\ttrain-mlogloss:2.07722\tvalidation-mlogloss:2.06898\n",
      "[292]\ttrain-mlogloss:2.07722\tvalidation-mlogloss:2.06898\n",
      "[293]\ttrain-mlogloss:2.07722\tvalidation-mlogloss:2.06898\n",
      "[294]\ttrain-mlogloss:2.07722\tvalidation-mlogloss:2.06898\n",
      "[295]\ttrain-mlogloss:2.07722\tvalidation-mlogloss:2.06898\n",
      "[296]\ttrain-mlogloss:2.07722\tvalidation-mlogloss:2.06898\n",
      "[297]\ttrain-mlogloss:2.07722\tvalidation-mlogloss:2.06898\n",
      "[298]\ttrain-mlogloss:2.07722\tvalidation-mlogloss:2.06899\n",
      "[299]\ttrain-mlogloss:2.07722\tvalidation-mlogloss:2.06899\n"
     ]
    }
   ],
   "source": [
    "# Real training - method 2 as borrowed from this article: https://www.kaggle.com/code/mrleritaite/cnn-xgboost/notebook\n",
    "dataset_train = xgb.DMatrix(train_cnn_output, label=np.argmax(train_y, axis=1))\n",
    "dataset_val = xgb.DMatrix(validation_cnn_output, label=np.argmax(validation_y, axis=1))\n",
    "watchlist = [(dataset_train, 'train'), (dataset_val, 'validation')]\n",
    "params = {'booster': 'gblinear', 'eta':0.1, 'num_class':8,'objective':'multi:softmax', 'lambda': 4.379460431685878e-05, 'alpha': 8.166861954947548e-05} \n",
    "my_model_linear = xgb.train(\n",
    "    params, dataset_train, num_boost_round=300, evals=watchlist,\n",
    ")"
   ]
  },
  {
   "cell_type": "code",
   "execution_count": 38,
   "id": "d90c7b0a-e962-4fc3-b992-f3db14d96f94",
   "metadata": {},
   "outputs": [
    {
     "data": {
      "image/png": "[encoded data removed]",
      "text/plain": [
       "<Figure size 432x288 with 1 Axes>"
      ]
     },
     "metadata": {
      "needs_background": "light"
     },
     "output_type": "display_data"
    }
   ],
   "source": [
    "gbtree_train_loss = [2.07161, 2.06452, 2.05812, 2.05229, 2.04631, 2.03982, 2.03461, 2.03047, 2.02546, 2.02147, 2.01719, 2.01307, 2.00746, 2.00337, 1.99862, 1.99529, 1.99155, 1.98770, 1.98397, 1.98040, 1.97760, 1.97325, 1.96979, 1.96655, 1.96370, 1.96129, 1.95845, 1.95444, 1.95041, 1.94810, 1.94539, 1.94197, 1.93969, 1.93768, 1.93467, 1.93100, 1.92866, 1.92541, 1.92263, 1.91969, 1.91741, 1.91556, 1.91392, 1.91052, 1.90773, 1.90568, 1.90224, 1.90048, 1.89799, 1.89472, 1.89277, 1.88996, 1.88688, 1.88431, 1.88201, 1.87873, 1.87686, 1.87538, 1.87312, 1.87109, 1.86751, 1.86522, 1.86216, 1.85938, 1.85728, 1.85532, 1.85155, 1.84969, 1.84628, 1.84411, 1.84106, 1.83839, 1.83648, 1.83432, 1.83190, 1.82807, 1.82598, 1.82378, 1.82161, 1.81982, 1.81784, 1.81609, 1.81408, 1.81221, 1.80990, 1.80733, 1.80465, 1.80161, 1.79871, 1.79617, 1.79356, 1.79112, 1.78939, 1.78674, 1.78506, 1.78217, 1.77918, 1.77772, 1.77584, 1.77339, 1.77138, 1.76922, 1.76742, 1.76590, 1.76361, 1.76002, 1.75847, 1.75572, 1.75339, 1.75115, 1.74976, 1.74689, 1.74369, 1.74127, 1.73921, 1.73739, 1.73549, 1.73327, 1.73226, 1.72999, 1.72790, 1.72528, 1.72265, 1.71912, 1.71701, 1.71562, 1.71410, 1.71186, 1.70833, 1.70539, 1.70207, 1.69960, 1.69752, 1.69517, 1.69330, 1.69172, 1.68845, 1.68670, 1.68456, 1.68160, 1.67937, 1.67664, 1.67456, 1.67233, 1.66951, 1.66717, 1.66597, 1.66273, 1.66051, 1.65870]\n",
    "gbtree_val_loss = [2.07929, 2.07906, 2.07951, 2.07947, 2.07931, 2.08083, 2.08060, 2.08196, 2.08258, 2.08346, 2.08340, 2.08307, 2.08345, 2.08326, 2.08311, 2.08336, 2.08394, 2.08391, 2.08366, 2.08395, 2.08436, 2.08496, 2.08451, 2.08424, 2.08419, 2.08439, 2.08498, 2.08533, 2.08520, 2.08571, 2.08622, 2.08682, 2.08713, 2.08731, 2.08702, 2.08757, 2.08790, 2.08847, 2.08863, 2.08914, 2.08956, 2.08952, 2.08929, 2.08927, 2.08998, 2.09001, 2.08971, 2.08970, 2.08971, 2.08990, 2.09043, 2.09045, 2.09044, 2.09018, 2.09042, 2.09089, 2.09120, 2.09143, 2.09138, 2.09174, 2.09217, 2.09245, 2.09223, 2.09218, 2.09246, 2.09268, 2.09267, 2.09313, 2.09252, 2.09269, 2.09289, 2.09361, 2.09372, 2.09350, 2.09389, 2.09408, 2.09470, 2.09509, 2.09513, 2.09506, 2.09535, 2.09557, 2.09529, 2.09555, 2.09596, 2.09598, 2.09586, 2.09549, 2.09330, 2.09352, 2.09382, 2.09360, 2.09380, 2.09408, 2.09489, 2.09453, 2.09316, 2.09361, 2.09323, 2.09350, 2.09335, 2.09365, 2.09351, 2.09369, 2.09380, 2.09413, 2.09425, 2.09315, 2.09359, 2.09377, 2.09384, 2.09451, 2.09487, 2.09533, 2.09568, 2.09610, 2.09619, 2.09636, 2.09646, 2.09664, 2.09705, 2.09754, 2.09837, 2.09934, 2.09981, 2.10009, 2.10028, 2.10030, 2.09932, 2.09996, 2.10008, 2.10017, 2.10051, 2.10047, 2.10086, 2.10142, 2.10178, 2.10177, 2.10310, 2.10375, 2.10346, 2.10387, 2.10416, 2.10407, 2.10427, 2.10501, 2.10469, 2.10469, 2.10487, 2.10500]\n",
    "gblinear_train_loss = [2.07917, 2.07894, 2.07874, 2.07858, 2.07843, 2.07831, 2.07820, 2.07811, 2.07803, 2.07796, 2.07790, 2.07784, 2.07779, 2.07775, 2.07771, 2.07768, 2.07765, 2.07762, 2.07760, 2.07758, 2.07756, 2.07754, 2.07752, 2.07751, 2.07749, 2.07748, 2.07747, 2.07746, 2.07745, 2.07744, 2.07743, 2.07742, 2.07742, 2.07741, 2.07740, 2.07740, 2.07739, 2.07739, 2.07738, 2.07738, 2.07737, 2.07737, 2.07737, 2.07736, 2.07736, 2.07736, 2.07735, 2.07735, 2.07735, 2.07734, 2.07734, 2.07734, 2.07734, 2.07733, 2.07733, 2.07733, 2.07733, 2.07733, 2.07732, 2.07732, 2.07732, 2.07732, 2.07732, 2.07732, 2.07731, 2.07731, 2.07731, 2.07731, 2.07731, 2.07731, 2.07731, 2.07730, 2.07730, 2.07730, 2.07730, 2.07730, 2.07730, 2.07730, 2.07729, 2.07729, 2.07729, 2.07729, 2.07729, 2.07729, 2.07729, 2.07729, 2.07729, 2.07729, 2.07728, 2.07728, 2.07728, 2.07728, 2.07728, 2.07728, 2.07728, 2.07728, 2.07728, 2.07728, 2.07727, 2.07727, 2.07727, 2.07727, 2.07727, 2.07727, 2.07727, 2.07727, 2.07727, 2.07727, 2.07727, 2.07727, 2.07727, 2.07727, 2.07726, 2.07726, 2.07726, 2.07726, 2.07726, 2.07726, 2.07726, 2.07726, 2.07726, 2.07726, 2.07726, 2.07726, 2.07726, 2.07726, 2.07726, 2.07726, 2.07725, 2.07725, 2.07725, 2.07725, 2.07725, 2.07725, 2.07725, 2.07725, 2.07725, 2.07725, 2.07725, 2.07725, 2.07725, 2.07725, 2.07725, 2.07725, 2.07725, 2.07725, 2.07725, 2.07725, 2.07725, 2.07724, 2.07724, 2.07724, 2.07724, 2.07724, 2.07724, 2.07724, 2.07724, 2.07724, 2.07724, 2.07724, 2.07724, 2.07724, 2.07724, 2.07724, 2.07724, 2.07724, 2.07724, 2.07724, 2.07724, 2.07724, 2.07724, 2.07724, 2.07724, 2.07724, 2.07724, 2.07724, 2.07724, 2.07724, 2.07724, 2.07723, 2.07723, 2.07723, 2.07723, 2.07723, 2.07723, 2.07723, 2.07723, 2.07723, 2.07723, 2.07723, 2.07723, 2.07723, 2.07723, 2.07723, 2.07723, 2.07723, 2.07723, 2.07723, 2.07723, 2.07723, 2.07723, 2.07723, 2.07723, 2.07723, 2.07723, 2.07723, 2.07723, 2.07723, 2.07723, 2.07723, 2.07723, 2.07723, 2.07723, 2.07723, 2.07723, 2.07723, 2.07723, 2.07723, 2.07723, 2.07723, 2.07723, 2.07723, 2.07723, 2.07723, 2.07723, 2.07723, 2.07723, 2.07723, 2.07722, 2.07722, 2.07722, 2.07722, 2.07722, 2.07722, 2.07722, 2.07722, 2.07722, 2.07722, 2.07722, 2.07722, 2.07722, 2.07722, 2.07722, 2.07722, 2.07722, 2.07722, 2.07722, 2.07722, 2.07722, 2.07722, 2.07722, 2.07722, 2.07722, 2.07722, 2.07722, 2.07722, 2.07722, 2.07722, 2.07722, 2.07722, 2.07722, 2.07722, 2.07722, 2.07722, 2.07722, 2.07722, 2.07722, 2.07722, 2.07722, 2.07722, 2.07722, 2.07722, 2.07722, 2.07722, 2.07722, 2.07722, 2.07722, 2.07722, 2.07722, 2.07722, 2.07722, 2.07722, 2.07722, 2.07722, 2.07722, 2.07722, 2.07722, 2.07722, 2.07722, 2.07722, 2.07722, 2.07722, 2.07722, 2.07722, 2.07722, 2.07722, 2.07722, 2.07722, 2.07722, 2.07722]\n",
    "gblinear_val_loss = [2.07794, 2.07661, 2.07545, 2.07441, 2.07352, 2.07275, 2.07207, 2.07146, 2.07094, 2.07049, 2.07009, 2.06974, 2.06943, 2.06917, 2.06894, 2.06873, 2.06854, 2.06838, 2.06824, 2.06812, 2.06801, 2.06791, 2.06783, 2.06776, 2.06770, 2.06765, 2.06761, 2.06758, 2.06755, 2.06752, 2.06750, 2.06748, 2.06747, 2.06747, 2.06747, 2.06747, 2.06746, 2.06746, 2.06746, 2.06747, 2.06749, 2.06749, 2.06750, 2.06751, 2.06752, 2.06753, 2.06755, 2.06757, 2.06758, 2.06759, 2.06760, 2.06762, 2.06764, 2.06766, 2.06767, 2.06769, 2.06771, 2.06772, 2.06774, 2.06776, 2.06777, 2.06778, 2.06780, 2.06781, 2.06782, 2.06783, 2.06784, 2.06785, 2.06786, 2.06787, 2.06788, 2.06789, 2.06790, 2.06792, 2.06792, 2.06794, 2.06795, 2.06796, 2.06797, 2.06799, 2.06799, 2.06800, 2.06802, 2.06803, 2.06803, 2.06804, 2.06805, 2.06806, 2.06807, 2.06808, 2.06809, 2.06811, 2.06811, 2.06813, 2.06814, 2.06815, 2.06816, 2.06817, 2.06818, 2.06820, 2.06821, 2.06822, 2.06824, 2.06825, 2.06826, 2.06827, 2.06828, 2.06829, 2.06830, 2.06831, 2.06832, 2.06833, 2.06834, 2.06835, 2.06836, 2.06837, 2.06838, 2.06839, 2.06840, 2.06840, 2.06841, 2.06842, 2.06843, 2.06844, 2.06845, 2.06846, 2.06847, 2.06848, 2.06849, 2.06850, 2.06851, 2.06852, 2.06853, 2.06854, 2.06855, 2.06856, 2.06856, 2.06857, 2.06858, 2.06859, 2.06860, 2.06861, 2.06861, 2.06862, 2.06863, 2.06864, 2.06864, 2.06864, 2.06864, 2.06864, 2.06865, 2.06865, 2.06865, 2.06865, 2.06866, 2.06866, 2.06866, 2.06867, 2.06867, 2.06867, 2.06868, 2.06868, 2.06868, 2.06869, 2.06869, 2.06870, 2.06870, 2.06871, 2.06871, 2.06872, 2.06872, 2.06873, 2.06873, 2.06873, 2.06874, 2.06874, 2.06875, 2.06875, 2.06875, 2.06876, 2.06876, 2.06877, 2.06877, 2.06877, 2.06878, 2.06878, 2.06879, 2.06879, 2.06879, 2.06879, 2.06880, 2.06880, 2.06880, 2.06880, 2.06881, 2.06881, 2.06881, 2.06881, 2.06882, 2.06882, 2.06882, 2.06882, 2.06883, 2.06883, 2.06883, 2.06883, 2.06883, 2.06884, 2.06884, 2.06884, 2.06884, 2.06885, 2.06885, 2.06885, 2.06885, 2.06885, 2.06885, 2.06886, 2.06886, 2.06886, 2.06886, 2.06887, 2.06887, 2.06887, 2.06888, 2.06888, 2.06888, 2.06888, 2.06888, 2.06889, 2.06889, 2.06889, 2.06889, 2.06890, 2.06890, 2.06890, 2.06890, 2.06891, 2.06891, 2.06891, 2.06891, 2.06891, 2.06892, 2.06892, 2.06892, 2.06892, 2.06892, 2.06892, 2.06893, 2.06893, 2.06893, 2.06893, 2.06893, 2.06893, 2.06893, 2.06894, 2.06894, 2.06894, 2.06894, 2.06894, 2.06894, 2.06894, 2.06895, 2.06895, 2.06895, 2.06895, 2.06895, 2.06895, 2.06895, 2.06895, 2.06896, 2.06896, 2.06896, 2.06896, 2.06896, 2.06896, 2.06896, 2.06896, 2.06896, 2.06896, 2.06896, 2.06897, 2.06897, 2.06897, 2.06897, 2.06897, 2.06897, 2.06897, 2.06897, 2.06898, 2.06898, 2.06898, 2.06898, 2.06898, 2.06898, 2.06898, 2.06898, 2.06898, 2.06899, 2.06899]\n",
    "\n",
    "plt.plot(gbtree_train_loss, \"b-\", label=\"gbtree_train\")\n",
    "plt.plot(gbtree_val_loss, \"b--\", label=\"gbtree_val\")\n",
    "plt.plot(gblinear_train_loss, \"r-\", label=\"gblinear_train\")\n",
    "plt.plot(gblinear_val_loss, \"r--\", label=\"gblinear_val\")\n",
    "\n",
    "plt.xlabel(\"Boost rounds\")\n",
    "plt.ylabel(\"Multiclass log loss\")\n",
    "plt.legend();\n"
   ]
  },
  {
   "cell_type": "code",
   "execution_count": 27,
   "id": "4ff054b1-a64e-407d-b3e3-18b79e3246c5",
   "metadata": {},
   "outputs": [
    {
     "data": {
      "text/plain": [
       "FrozenTrial(number=43, values=[2.0675588484111387], datetime_start=datetime.datetime(2022, 12, 6, 7, 48, 37, 999700), datetime_complete=datetime.datetime(2022, 12, 6, 7, 48, 38, 809173), params={'booster': 'gblinear', 'lambda': 4.379460431685878e-05, 'alpha': 8.166861954947548e-05}, distributions={'booster': CategoricalDistribution(choices=('gbtree', 'gblinear', 'dart')), 'lambda': FloatDistribution(high=1.0, log=True, low=1e-08, step=None), 'alpha': FloatDistribution(high=1.0, log=True, low=1e-08, step=None)}, user_attrs={}, system_attrs={}, intermediate_values={}, trial_id=43, state=TrialState.COMPLETE, value=None)"
      ]
     },
     "execution_count": 27,
     "metadata": {},
     "output_type": "execute_result"
    }
   ],
   "source": [
    "study.best_trial"
   ]
  },
  {
   "cell_type": "code",
   "execution_count": 28,
   "id": "87eee684-c4e1-4bbb-afb2-8222f643ebec",
   "metadata": {},
   "outputs": [
    {
     "data": {
      "application/vnd.plotly.v1+json": {
       "config": {
        "plotlyServerURL": "https://plot.ly"
       },
       "data": [
        {
         "mode": "markers",
         "name": "Objective Value",
         "type": "scatter",
         "x": [
          0,
          1,
          2,
          3,
          4,
          5,
          6,
          7,
          8,
          9,
          10,
          11,
          12,
          13,
          14,
          15,
          16,
          17,
          18,
          19,
          20,
          21,
          22,
          23,
          24,
          25,
          26,
          27,
          28,
          29,
          30,
          31,
          32,
          33,
          34,
          35,
          36,
          37,
          38,
          39,
          40,
          41,
          42,
          43,
          44,
          45,
          46,
          47,
          48,
          49
         ],
         "y": [
          2.082927430640076,
          2.0875701816124326,
          2.089315070467588,
          2.0681248657567024,
          2.1203448887348646,
          2.0879861025297664,
          2.0681250057159324,
          2.089314937914852,
          2.0874354215651105,
          2.086066828471199,
          2.071666072987946,
          2.0681209894562143,
          2.068090443839218,
          2.069254822573483,
          2.0680712727164847,
          2.067976554117259,
          2.0679044878106616,
          2.0677677154893708,
          2.0689428852507348,
          2.0693963063656695,
          2.10207060643672,
          2.0678518452705483,
          2.0677683541525513,
          2.079241122014424,
          2.0678405147449976,
          2.0685309482631835,
          2.079347024067384,
          2.0676322002735366,
          2.0676293083314126,
          2.095251026061865,
          2.097002527828988,
          2.067609738374838,
          2.0676619526902598,
          2.067685319062991,
          2.079653447901709,
          2.0901170482296916,
          2.0791341454907517,
          2.0675761506872536,
          2.083832368930651,
          2.0909318436943805,
          2.079653447901709,
          2.0676455244980385,
          2.0681162599981184,
          2.0675588484111387,
          2.0675747670247944,
          2.0901488349341313,
          2.0680431436152147,
          2.0676034397980163,
          2.0697733879794735,
          2.068041365762669
         ]
        },
        {
         "name": "Best Value",
         "type": "scatter",
         "x": [
          0,
          1,
          2,
          3,
          4,
          5,
          6,
          7,
          8,
          9,
          10,
          11,
          12,
          13,
          14,
          15,
          16,
          17,
          18,
          19,
          20,
          21,
          22,
          23,
          24,
          25,
          26,
          27,
          28,
          29,
          30,
          31,
          32,
          33,
          34,
          35,
          36,
          37,
          38,
          39,
          40,
          41,
          42,
          43,
          44,
          45,
          46,
          47,
          48,
          49
         ],
         "y": [
          2.082927430640076,
          2.082927430640076,
          2.082927430640076,
          2.0681248657567024,
          2.0681248657567024,
          2.0681248657567024,
          2.0681248657567024,
          2.0681248657567024,
          2.0681248657567024,
          2.0681248657567024,
          2.0681248657567024,
          2.0681209894562143,
          2.068090443839218,
          2.068090443839218,
          2.0680712727164847,
          2.067976554117259,
          2.0679044878106616,
          2.0677677154893708,
          2.0677677154893708,
          2.0677677154893708,
          2.0677677154893708,
          2.0677677154893708,
          2.0677677154893708,
          2.0677677154893708,
          2.0677677154893708,
          2.0677677154893708,
          2.0677677154893708,
          2.0676322002735366,
          2.0676293083314126,
          2.0676293083314126,
          2.0676293083314126,
          2.067609738374838,
          2.067609738374838,
          2.067609738374838,
          2.067609738374838,
          2.067609738374838,
          2.067609738374838,
          2.0675761506872536,
          2.0675761506872536,
          2.0675761506872536,
          2.0675761506872536,
          2.0675761506872536,
          2.0675761506872536,
          2.0675588484111387,
          2.0675588484111387,
          2.0675588484111387,
          2.0675588484111387,
          2.0675588484111387,
          2.0675588484111387,
          2.0675588484111387
         ]
        }
       ],
       "layout": {
        "autosize": true,
        "template": {
         "data": {
          "bar": [
           {
            "error_x": {
             "color": "#2a3f5f"
            },
            "error_y": {
             "color": "#2a3f5f"
            },
            "marker": {
             "line": {
              "color": "#E5ECF6",
              "width": 0.5
             },
             "pattern": {
              "fillmode": "overlay",
              "size": 10,
              "solidity": 0.2
             }
            },
            "type": "bar"
           }
          ],
          "barpolar": [
           {
            "marker": {
             "line": {
              "color": "#E5ECF6",
              "width": 0.5
             },
             "pattern": {
              "fillmode": "overlay",
              "size": 10,
              "solidity": 0.2
             }
            },
            "type": "barpolar"
           }
          ],
          "carpet": [
           {
            "aaxis": {
             "endlinecolor": "#2a3f5f",
             "gridcolor": "white",
             "linecolor": "white",
             "minorgridcolor": "white",
             "startlinecolor": "#2a3f5f"
            },
            "baxis": {
             "endlinecolor": "#2a3f5f",
             "gridcolor": "white",
             "linecolor": "white",
             "minorgridcolor": "white",
             "startlinecolor": "#2a3f5f"
            },
            "type": "carpet"
           }
          ],
          "choropleth": [
           {
            "colorbar": {
             "outlinewidth": 0,
             "ticks": ""
            },
            "type": "choropleth"
           }
          ],
          "contour": [
           {
            "colorbar": {
             "outlinewidth": 0,
             "ticks": ""
            },
            "colorscale": [
             [
              0,
              "#0d0887"
             ],
             [
              0.1111111111111111,
              "#46039f"
             ],
             [
              0.2222222222222222,
              "#7201a8"
             ],
             [
              0.3333333333333333,
              "#9c179e"
             ],
             [
              0.4444444444444444,
              "#bd3786"
             ],
             [
              0.5555555555555556,
              "#d8576b"
             ],
             [
              0.6666666666666666,
              "#ed7953"
             ],
             [
              0.7777777777777778,
              "#fb9f3a"
             ],
             [
              0.8888888888888888,
              "#fdca26"
             ],
             [
              1,
              "#f0f921"
             ]
            ],
            "type": "contour"
           }
          ],
          "contourcarpet": [
           {
            "colorbar": {
             "outlinewidth": 0,
             "ticks": ""
            },
            "type": "contourcarpet"
           }
          ],
          "heatmap": [
           {
            "colorbar": {
             "outlinewidth": 0,
             "ticks": ""
            },
            "colorscale": [
             [
              0,
              "#0d0887"
             ],
             [
              0.1111111111111111,
              "#46039f"
             ],
             [
              0.2222222222222222,
              "#7201a8"
             ],
             [
              0.3333333333333333,
              "#9c179e"
             ],
             [
              0.4444444444444444,
              "#bd3786"
             ],
             [
              0.5555555555555556,
              "#d8576b"
             ],
             [
              0.6666666666666666,
              "#ed7953"
             ],
             [
              0.7777777777777778,
              "#fb9f3a"
             ],
             [
              0.8888888888888888,
              "#fdca26"
             ],
             [
              1,
              "#f0f921"
             ]
            ],
            "type": "heatmap"
           }
          ],
          "heatmapgl": [
           {
            "colorbar": {
             "outlinewidth": 0,
             "ticks": ""
            },
            "colorscale": [
             [
              0,
              "#0d0887"
             ],
             [
              0.1111111111111111,
              "#46039f"
             ],
             [
              0.2222222222222222,
              "#7201a8"
             ],
             [
              0.3333333333333333,
              "#9c179e"
             ],
             [
              0.4444444444444444,
              "#bd3786"
             ],
             [
              0.5555555555555556,
              "#d8576b"
             ],
             [
              0.6666666666666666,
              "#ed7953"
             ],
             [
              0.7777777777777778,
              "#fb9f3a"
             ],
             [
              0.8888888888888888,
              "#fdca26"
             ],
             [
              1,
              "#f0f921"
             ]
            ],
            "type": "heatmapgl"
           }
          ],
          "histogram": [
           {
            "marker": {
             "pattern": {
              "fillmode": "overlay",
              "size": 10,
              "solidity": 0.2
             }
            },
            "type": "histogram"
           }
          ],
          "histogram2d": [
           {
            "colorbar": {
             "outlinewidth": 0,
             "ticks": ""
            },
            "colorscale": [
             [
              0,
              "#0d0887"
             ],
             [
              0.1111111111111111,
              "#46039f"
             ],
             [
              0.2222222222222222,
              "#7201a8"
             ],
             [
              0.3333333333333333,
              "#9c179e"
             ],
             [
              0.4444444444444444,
              "#bd3786"
             ],
             [
              0.5555555555555556,
              "#d8576b"
             ],
             [
              0.6666666666666666,
              "#ed7953"
             ],
             [
              0.7777777777777778,
              "#fb9f3a"
             ],
             [
              0.8888888888888888,
              "#fdca26"
             ],
             [
              1,
              "#f0f921"
             ]
            ],
            "type": "histogram2d"
           }
          ],
          "histogram2dcontour": [
           {
            "colorbar": {
             "outlinewidth": 0,
             "ticks": ""
            },
            "colorscale": [
             [
              0,
              "#0d0887"
             ],
             [
              0.1111111111111111,
              "#46039f"
             ],
             [
              0.2222222222222222,
              "#7201a8"
             ],
             [
              0.3333333333333333,
              "#9c179e"
             ],
             [
              0.4444444444444444,
              "#bd3786"
             ],
             [
              0.5555555555555556,
              "#d8576b"
             ],
             [
              0.6666666666666666,
              "#ed7953"
             ],
             [
              0.7777777777777778,
              "#fb9f3a"
             ],
             [
              0.8888888888888888,
              "#fdca26"
             ],
             [
              1,
              "#f0f921"
             ]
            ],
            "type": "histogram2dcontour"
           }
          ],
          "mesh3d": [
           {
            "colorbar": {
             "outlinewidth": 0,
             "ticks": ""
            },
            "type": "mesh3d"
           }
          ],
          "parcoords": [
           {
            "line": {
             "colorbar": {
              "outlinewidth": 0,
              "ticks": ""
             }
            },
            "type": "parcoords"
           }
          ],
          "pie": [
           {
            "automargin": true,
            "type": "pie"
           }
          ],
          "scatter": [
           {
            "marker": {
             "colorbar": {
              "outlinewidth": 0,
              "ticks": ""
             }
            },
            "type": "scatter"
           }
          ],
          "scatter3d": [
           {
            "line": {
             "colorbar": {
              "outlinewidth": 0,
              "ticks": ""
             }
            },
            "marker": {
             "colorbar": {
              "outlinewidth": 0,
              "ticks": ""
             }
            },
            "type": "scatter3d"
           }
          ],
          "scattercarpet": [
           {
            "marker": {
             "colorbar": {
              "outlinewidth": 0,
              "ticks": ""
             }
            },
            "type": "scattercarpet"
           }
          ],
          "scattergeo": [
           {
            "marker": {
             "colorbar": {
              "outlinewidth": 0,
              "ticks": ""
             }
            },
            "type": "scattergeo"
           }
          ],
          "scattergl": [
           {
            "marker": {
             "colorbar": {
              "outlinewidth": 0,
              "ticks": ""
             }
            },
            "type": "scattergl"
           }
          ],
          "scattermapbox": [
           {
            "marker": {
             "colorbar": {
              "outlinewidth": 0,
              "ticks": ""
             }
            },
            "type": "scattermapbox"
           }
          ],
          "scatterpolar": [
           {
            "marker": {
             "colorbar": {
              "outlinewidth": 0,
              "ticks": ""
             }
            },
            "type": "scatterpolar"
           }
          ],
          "scatterpolargl": [
           {
            "marker": {
             "colorbar": {
              "outlinewidth": 0,
              "ticks": ""
             }
            },
            "type": "scatterpolargl"
           }
          ],
          "scatterternary": [
           {
            "marker": {
             "colorbar": {
              "outlinewidth": 0,
              "ticks": ""
             }
            },
            "type": "scatterternary"
           }
          ],
          "surface": [
           {
            "colorbar": {
             "outlinewidth": 0,
             "ticks": ""
            },
            "colorscale": [
             [
              0,
              "#0d0887"
             ],
             [
              0.1111111111111111,
              "#46039f"
             ],
             [
              0.2222222222222222,
              "#7201a8"
             ],
             [
              0.3333333333333333,
              "#9c179e"
             ],
             [
              0.4444444444444444,
              "#bd3786"
             ],
             [
              0.5555555555555556,
              "#d8576b"
             ],
             [
              0.6666666666666666,
              "#ed7953"
             ],
             [
              0.7777777777777778,
              "#fb9f3a"
             ],
             [
              0.8888888888888888,
              "#fdca26"
             ],
             [
              1,
              "#f0f921"
             ]
            ],
            "type": "surface"
           }
          ],
          "table": [
           {
            "cells": {
             "fill": {
              "color": "#EBF0F8"
             },
             "line": {
              "color": "white"
             }
            },
            "header": {
             "fill": {
              "color": "#C8D4E3"
             },
             "line": {
              "color": "white"
             }
            },
            "type": "table"
           }
          ]
         },
         "layout": {
          "annotationdefaults": {
           "arrowcolor": "#2a3f5f",
           "arrowhead": 0,
           "arrowwidth": 1
          },
          "autotypenumbers": "strict",
          "coloraxis": {
           "colorbar": {
            "outlinewidth": 0,
            "ticks": ""
           }
          },
          "colorscale": {
           "diverging": [
            [
             0,
             "#8e0152"
            ],
            [
             0.1,
             "#c51b7d"
            ],
            [
             0.2,
             "#de77ae"
            ],
            [
             0.3,
             "#f1b6da"
            ],
            [
             0.4,
             "#fde0ef"
            ],
            [
             0.5,
             "#f7f7f7"
            ],
            [
             0.6,
             "#e6f5d0"
            ],
            [
             0.7,
             "#b8e186"
            ],
            [
             0.8,
             "#7fbc41"
            ],
            [
             0.9,
             "#4d9221"
            ],
            [
             1,
             "#276419"
            ]
           ],
           "sequential": [
            [
             0,
             "#0d0887"
            ],
            [
             0.1111111111111111,
             "#46039f"
            ],
            [
             0.2222222222222222,
             "#7201a8"
            ],
            [
             0.3333333333333333,
             "#9c179e"
            ],
            [
             0.4444444444444444,
             "#bd3786"
            ],
            [
             0.5555555555555556,
             "#d8576b"
            ],
            [
             0.6666666666666666,
             "#ed7953"
            ],
            [
             0.7777777777777778,
             "#fb9f3a"
            ],
            [
             0.8888888888888888,
             "#fdca26"
            ],
            [
             1,
             "#f0f921"
            ]
           ],
           "sequentialminus": [
            [
             0,
             "#0d0887"
            ],
            [
             0.1111111111111111,
             "#46039f"
            ],
            [
             0.2222222222222222,
             "#7201a8"
            ],
            [
             0.3333333333333333,
             "#9c179e"
            ],
            [
             0.4444444444444444,
             "#bd3786"
            ],
            [
             0.5555555555555556,
             "#d8576b"
            ],
            [
             0.6666666666666666,
             "#ed7953"
            ],
            [
             0.7777777777777778,
             "#fb9f3a"
            ],
            [
             0.8888888888888888,
             "#fdca26"
            ],
            [
             1,
             "#f0f921"
            ]
           ]
          },
          "colorway": [
           "#636efa",
           "#EF553B",
           "#00cc96",
           "#ab63fa",
           "#FFA15A",
           "#19d3f3",
           "#FF6692",
           "#B6E880",
           "#FF97FF",
           "#FECB52"
          ],
          "font": {
           "color": "#2a3f5f"
          },
          "geo": {
           "bgcolor": "white",
           "lakecolor": "white",
           "landcolor": "#E5ECF6",
           "showlakes": true,
           "showland": true,
           "subunitcolor": "white"
          },
          "hoverlabel": {
           "align": "left"
          },
          "hovermode": "closest",
          "mapbox": {
           "style": "light"
          },
          "paper_bgcolor": "white",
          "plot_bgcolor": "#E5ECF6",
          "polar": {
           "angularaxis": {
            "gridcolor": "white",
            "linecolor": "white",
            "ticks": ""
           },
           "bgcolor": "#E5ECF6",
           "radialaxis": {
            "gridcolor": "white",
            "linecolor": "white",
            "ticks": ""
           }
          },
          "scene": {
           "xaxis": {
            "backgroundcolor": "#E5ECF6",
            "gridcolor": "white",
            "gridwidth": 2,
            "linecolor": "white",
            "showbackground": true,
            "ticks": "",
            "zerolinecolor": "white"
           },
           "yaxis": {
            "backgroundcolor": "#E5ECF6",
            "gridcolor": "white",
            "gridwidth": 2,
            "linecolor": "white",
            "showbackground": true,
            "ticks": "",
            "zerolinecolor": "white"
           },
           "zaxis": {
            "backgroundcolor": "#E5ECF6",
            "gridcolor": "white",
            "gridwidth": 2,
            "linecolor": "white",
            "showbackground": true,
            "ticks": "",
            "zerolinecolor": "white"
           }
          },
          "shapedefaults": {
           "line": {
            "color": "#2a3f5f"
           }
          },
          "ternary": {
           "aaxis": {
            "gridcolor": "white",
            "linecolor": "white",
            "ticks": ""
           },
           "baxis": {
            "gridcolor": "white",
            "linecolor": "white",
            "ticks": ""
           },
           "bgcolor": "#E5ECF6",
           "caxis": {
            "gridcolor": "white",
            "linecolor": "white",
            "ticks": ""
           }
          },
          "title": {
           "x": 0.05
          },
          "xaxis": {
           "automargin": true,
           "gridcolor": "white",
           "linecolor": "white",
           "ticks": "",
           "title": {
            "standoff": 15
           },
           "zerolinecolor": "white",
           "zerolinewidth": 2
          },
          "yaxis": {
           "automargin": true,
           "gridcolor": "white",
           "linecolor": "white",
           "ticks": "",
           "title": {
            "standoff": 15
           },
           "zerolinecolor": "white",
           "zerolinewidth": 2
          }
         }
        },
        "title": {
         "text": "Optimization History Plot"
        },
        "xaxis": {
         "autorange": true,
         "range": [
          -2.966236404924107,
          51.9662364049241
         ],
         "title": {
          "text": "Trial"
         },
         "type": "linear"
        },
        "yaxis": {
         "autorange": true,
         "range": [
          2.0632027188698605,
          2.1247010182761428
         ],
         "title": {
          "text": "Objective Value"
         },
         "type": "linear"
        }
       }
      },
      "image/png": "[encoded data removed]",
      "text/html": [
       "<div>                            <div id=\"5aa6f789-da14-4e59-8adb-2f96f76b1372\" class=\"plotly-graph-div\" style=\"height:525px; width:100%;\"></div>            <script type=\"text/javascript\">                require([\"plotly\"], function(Plotly) {                    window.PLOTLYENV=window.PLOTLYENV || {};                                    if (document.getElementById(\"5aa6f789-da14-4e59-8adb-2f96f76b1372\")) {                    Plotly.newPlot(                        \"5aa6f789-da14-4e59-8adb-2f96f76b1372\",                        [{\"mode\":\"markers\",\"name\":\"Objective Value\",\"x\":[0,1,2,3,4,5,6,7,8,9,10,11,12,13,14,15,16,17,18,19,20,21,22,23,24,25,26,27,28,29,30,31,32,33,34,35,36,37,38,39,40,41,42,43,44,45,46,47,48,49],\"y\":[2.082927430640076,2.0875701816124326,2.089315070467588,2.0681248657567024,2.1203448887348646,2.0879861025297664,2.0681250057159324,2.089314937914852,2.0874354215651105,2.086066828471199,2.071666072987946,2.0681209894562143,2.068090443839218,2.069254822573483,2.0680712727164847,2.067976554117259,2.0679044878106616,2.0677677154893708,2.0689428852507348,2.0693963063656695,2.10207060643672,2.0678518452705483,2.0677683541525513,2.079241122014424,2.0678405147449976,2.0685309482631835,2.079347024067384,2.0676322002735366,2.0676293083314126,2.095251026061865,2.097002527828988,2.067609738374838,2.0676619526902598,2.067685319062991,2.079653447901709,2.0901170482296916,2.0791341454907517,2.0675761506872536,2.083832368930651,2.0909318436943805,2.079653447901709,2.0676455244980385,2.0681162599981184,2.0675588484111387,2.0675747670247944,2.0901488349341313,2.0680431436152147,2.0676034397980163,2.0697733879794735,2.068041365762669],\"type\":\"scatter\"},{\"name\":\"Best Value\",\"x\":[0,1,2,3,4,5,6,7,8,9,10,11,12,13,14,15,16,17,18,19,20,21,22,23,24,25,26,27,28,29,30,31,32,33,34,35,36,37,38,39,40,41,42,43,44,45,46,47,48,49],\"y\":[2.082927430640076,2.082927430640076,2.082927430640076,2.0681248657567024,2.0681248657567024,2.0681248657567024,2.0681248657567024,2.0681248657567024,2.0681248657567024,2.0681248657567024,2.0681248657567024,2.0681209894562143,2.068090443839218,2.068090443839218,2.0680712727164847,2.067976554117259,2.0679044878106616,2.0677677154893708,2.0677677154893708,2.0677677154893708,2.0677677154893708,2.0677677154893708,2.0677677154893708,2.0677677154893708,2.0677677154893708,2.0677677154893708,2.0677677154893708,2.0676322002735366,2.0676293083314126,2.0676293083314126,2.0676293083314126,2.067609738374838,2.067609738374838,2.067609738374838,2.067609738374838,2.067609738374838,2.067609738374838,2.0675761506872536,2.0675761506872536,2.0675761506872536,2.0675761506872536,2.0675761506872536,2.0675761506872536,2.0675588484111387,2.0675588484111387,2.0675588484111387,2.0675588484111387,2.0675588484111387,2.0675588484111387,2.0675588484111387],\"type\":\"scatter\"}],                        {\"title\":{\"text\":\"Optimization History Plot\"},\"xaxis\":{\"title\":{\"text\":\"Trial\"}},\"yaxis\":{\"title\":{\"text\":\"Objective Value\"}},\"template\":{\"data\":{\"bar\":[{\"error_x\":{\"color\":\"#2a3f5f\"},\"error_y\":{\"color\":\"#2a3f5f\"},\"marker\":{\"line\":{\"color\":\"#E5ECF6\",\"width\":0.5},\"pattern\":{\"fillmode\":\"overlay\",\"size\":10,\"solidity\":0.2}},\"type\":\"bar\"}],\"barpolar\":[{\"marker\":{\"line\":{\"color\":\"#E5ECF6\",\"width\":0.5},\"pattern\":{\"fillmode\":\"overlay\",\"size\":10,\"solidity\":0.2}},\"type\":\"barpolar\"}],\"carpet\":[{\"aaxis\":{\"endlinecolor\":\"#2a3f5f\",\"gridcolor\":\"white\",\"linecolor\":\"white\",\"minorgridcolor\":\"white\",\"startlinecolor\":\"#2a3f5f\"},\"baxis\":{\"endlinecolor\":\"#2a3f5f\",\"gridcolor\":\"white\",\"linecolor\":\"white\",\"minorgridcolor\":\"white\",\"startlinecolor\":\"#2a3f5f\"},\"type\":\"carpet\"}],\"choropleth\":[{\"colorbar\":{\"outlinewidth\":0,\"ticks\":\"\"},\"type\":\"choropleth\"}],\"contour\":[{\"colorbar\":{\"outlinewidth\":0,\"ticks\":\"\"},\"colorscale\":[[0.0,\"#0d0887\"],[0.1111111111111111,\"#46039f\"],[0.2222222222222222,\"#7201a8\"],[0.3333333333333333,\"#9c179e\"],[0.4444444444444444,\"#bd3786\"],[0.5555555555555556,\"#d8576b\"],[0.6666666666666666,\"#ed7953\"],[0.7777777777777778,\"#fb9f3a\"],[0.8888888888888888,\"#fdca26\"],[1.0,\"#f0f921\"]],\"type\":\"contour\"}],\"contourcarpet\":[{\"colorbar\":{\"outlinewidth\":0,\"ticks\":\"\"},\"type\":\"contourcarpet\"}],\"heatmap\":[{\"colorbar\":{\"outlinewidth\":0,\"ticks\":\"\"},\"colorscale\":[[0.0,\"#0d0887\"],[0.1111111111111111,\"#46039f\"],[0.2222222222222222,\"#7201a8\"],[0.3333333333333333,\"#9c179e\"],[0.4444444444444444,\"#bd3786\"],[0.5555555555555556,\"#d8576b\"],[0.6666666666666666,\"#ed7953\"],[0.7777777777777778,\"#fb9f3a\"],[0.8888888888888888,\"#fdca26\"],[1.0,\"#f0f921\"]],\"type\":\"heatmap\"}],\"heatmapgl\":[{\"colorbar\":{\"outlinewidth\":0,\"ticks\":\"\"},\"colorscale\":[[0.0,\"#0d0887\"],[0.1111111111111111,\"#46039f\"],[0.2222222222222222,\"#7201a8\"],[0.3333333333333333,\"#9c179e\"],[0.4444444444444444,\"#bd3786\"],[0.5555555555555556,\"#d8576b\"],[0.6666666666666666,\"#ed7953\"],[0.7777777777777778,\"#fb9f3a\"],[0.8888888888888888,\"#fdca26\"],[1.0,\"#f0f921\"]],\"type\":\"heatmapgl\"}],\"histogram\":[{\"marker\":{\"pattern\":{\"fillmode\":\"overlay\",\"size\":10,\"solidity\":0.2}},\"type\":\"histogram\"}],\"histogram2d\":[{\"colorbar\":{\"outlinewidth\":0,\"ticks\":\"\"},\"colorscale\":[[0.0,\"#0d0887\"],[0.1111111111111111,\"#46039f\"],[0.2222222222222222,\"#7201a8\"],[0.3333333333333333,\"#9c179e\"],[0.4444444444444444,\"#bd3786\"],[0.5555555555555556,\"#d8576b\"],[0.6666666666666666,\"#ed7953\"],[0.7777777777777778,\"#fb9f3a\"],[0.8888888888888888,\"#fdca26\"],[1.0,\"#f0f921\"]],\"type\":\"histogram2d\"}],\"histogram2dcontour\":[{\"colorbar\":{\"outlinewidth\":0,\"ticks\":\"\"},\"colorscale\":[[0.0,\"#0d0887\"],[0.1111111111111111,\"#46039f\"],[0.2222222222222222,\"#7201a8\"],[0.3333333333333333,\"#9c179e\"],[0.4444444444444444,\"#bd3786\"],[0.5555555555555556,\"#d8576b\"],[0.6666666666666666,\"#ed7953\"],[0.7777777777777778,\"#fb9f3a\"],[0.8888888888888888,\"#fdca26\"],[1.0,\"#f0f921\"]],\"type\":\"histogram2dcontour\"}],\"mesh3d\":[{\"colorbar\":{\"outlinewidth\":0,\"ticks\":\"\"},\"type\":\"mesh3d\"}],\"parcoords\":[{\"line\":{\"colorbar\":{\"outlinewidth\":0,\"ticks\":\"\"}},\"type\":\"parcoords\"}],\"pie\":[{\"automargin\":true,\"type\":\"pie\"}],\"scatter\":[{\"marker\":{\"colorbar\":{\"outlinewidth\":0,\"ticks\":\"\"}},\"type\":\"scatter\"}],\"scatter3d\":[{\"line\":{\"colorbar\":{\"outlinewidth\":0,\"ticks\":\"\"}},\"marker\":{\"colorbar\":{\"outlinewidth\":0,\"ticks\":\"\"}},\"type\":\"scatter3d\"}],\"scattercarpet\":[{\"marker\":{\"colorbar\":{\"outlinewidth\":0,\"ticks\":\"\"}},\"type\":\"scattercarpet\"}],\"scattergeo\":[{\"marker\":{\"colorbar\":{\"outlinewidth\":0,\"ticks\":\"\"}},\"type\":\"scattergeo\"}],\"scattergl\":[{\"marker\":{\"colorbar\":{\"outlinewidth\":0,\"ticks\":\"\"}},\"type\":\"scattergl\"}],\"scattermapbox\":[{\"marker\":{\"colorbar\":{\"outlinewidth\":0,\"ticks\":\"\"}},\"type\":\"scattermapbox\"}],\"scatterpolar\":[{\"marker\":{\"colorbar\":{\"outlinewidth\":0,\"ticks\":\"\"}},\"type\":\"scatterpolar\"}],\"scatterpolargl\":[{\"marker\":{\"colorbar\":{\"outlinewidth\":0,\"ticks\":\"\"}},\"type\":\"scatterpolargl\"}],\"scatterternary\":[{\"marker\":{\"colorbar\":{\"outlinewidth\":0,\"ticks\":\"\"}},\"type\":\"scatterternary\"}],\"surface\":[{\"colorbar\":{\"outlinewidth\":0,\"ticks\":\"\"},\"colorscale\":[[0.0,\"#0d0887\"],[0.1111111111111111,\"#46039f\"],[0.2222222222222222,\"#7201a8\"],[0.3333333333333333,\"#9c179e\"],[0.4444444444444444,\"#bd3786\"],[0.5555555555555556,\"#d8576b\"],[0.6666666666666666,\"#ed7953\"],[0.7777777777777778,\"#fb9f3a\"],[0.8888888888888888,\"#fdca26\"],[1.0,\"#f0f921\"]],\"type\":\"surface\"}],\"table\":[{\"cells\":{\"fill\":{\"color\":\"#EBF0F8\"},\"line\":{\"color\":\"white\"}},\"header\":{\"fill\":{\"color\":\"#C8D4E3\"},\"line\":{\"color\":\"white\"}},\"type\":\"table\"}]},\"layout\":{\"annotationdefaults\":{\"arrowcolor\":\"#2a3f5f\",\"arrowhead\":0,\"arrowwidth\":1},\"autotypenumbers\":\"strict\",\"coloraxis\":{\"colorbar\":{\"outlinewidth\":0,\"ticks\":\"\"}},\"colorscale\":{\"diverging\":[[0,\"#8e0152\"],[0.1,\"#c51b7d\"],[0.2,\"#de77ae\"],[0.3,\"#f1b6da\"],[0.4,\"#fde0ef\"],[0.5,\"#f7f7f7\"],[0.6,\"#e6f5d0\"],[0.7,\"#b8e186\"],[0.8,\"#7fbc41\"],[0.9,\"#4d9221\"],[1,\"#276419\"]],\"sequential\":[[0.0,\"#0d0887\"],[0.1111111111111111,\"#46039f\"],[0.2222222222222222,\"#7201a8\"],[0.3333333333333333,\"#9c179e\"],[0.4444444444444444,\"#bd3786\"],[0.5555555555555556,\"#d8576b\"],[0.6666666666666666,\"#ed7953\"],[0.7777777777777778,\"#fb9f3a\"],[0.8888888888888888,\"#fdca26\"],[1.0,\"#f0f921\"]],\"sequentialminus\":[[0.0,\"#0d0887\"],[0.1111111111111111,\"#46039f\"],[0.2222222222222222,\"#7201a8\"],[0.3333333333333333,\"#9c179e\"],[0.4444444444444444,\"#bd3786\"],[0.5555555555555556,\"#d8576b\"],[0.6666666666666666,\"#ed7953\"],[0.7777777777777778,\"#fb9f3a\"],[0.8888888888888888,\"#fdca26\"],[1.0,\"#f0f921\"]]},\"colorway\":[\"#636efa\",\"#EF553B\",\"#00cc96\",\"#ab63fa\",\"#FFA15A\",\"#19d3f3\",\"#FF6692\",\"#B6E880\",\"#FF97FF\",\"#FECB52\"],\"font\":{\"color\":\"#2a3f5f\"},\"geo\":{\"bgcolor\":\"white\",\"lakecolor\":\"white\",\"landcolor\":\"#E5ECF6\",\"showlakes\":true,\"showland\":true,\"subunitcolor\":\"white\"},\"hoverlabel\":{\"align\":\"left\"},\"hovermode\":\"closest\",\"mapbox\":{\"style\":\"light\"},\"paper_bgcolor\":\"white\",\"plot_bgcolor\":\"#E5ECF6\",\"polar\":{\"angularaxis\":{\"gridcolor\":\"white\",\"linecolor\":\"white\",\"ticks\":\"\"},\"bgcolor\":\"#E5ECF6\",\"radialaxis\":{\"gridcolor\":\"white\",\"linecolor\":\"white\",\"ticks\":\"\"}},\"scene\":{\"xaxis\":{\"backgroundcolor\":\"#E5ECF6\",\"gridcolor\":\"white\",\"gridwidth\":2,\"linecolor\":\"white\",\"showbackground\":true,\"ticks\":\"\",\"zerolinecolor\":\"white\"},\"yaxis\":{\"backgroundcolor\":\"#E5ECF6\",\"gridcolor\":\"white\",\"gridwidth\":2,\"linecolor\":\"white\",\"showbackground\":true,\"ticks\":\"\",\"zerolinecolor\":\"white\"},\"zaxis\":{\"backgroundcolor\":\"#E5ECF6\",\"gridcolor\":\"white\",\"gridwidth\":2,\"linecolor\":\"white\",\"showbackground\":true,\"ticks\":\"\",\"zerolinecolor\":\"white\"}},\"shapedefaults\":{\"line\":{\"color\":\"#2a3f5f\"}},\"ternary\":{\"aaxis\":{\"gridcolor\":\"white\",\"linecolor\":\"white\",\"ticks\":\"\"},\"baxis\":{\"gridcolor\":\"white\",\"linecolor\":\"white\",\"ticks\":\"\"},\"bgcolor\":\"#E5ECF6\",\"caxis\":{\"gridcolor\":\"white\",\"linecolor\":\"white\",\"ticks\":\"\"}},\"title\":{\"x\":0.05},\"xaxis\":{\"automargin\":true,\"gridcolor\":\"white\",\"linecolor\":\"white\",\"ticks\":\"\",\"title\":{\"standoff\":15},\"zerolinecolor\":\"white\",\"zerolinewidth\":2},\"yaxis\":{\"automargin\":true,\"gridcolor\":\"white\",\"linecolor\":\"white\",\"ticks\":\"\",\"title\":{\"standoff\":15},\"zerolinecolor\":\"white\",\"zerolinewidth\":2}}}},                        {\"responsive\": true}                    ).then(function(){\n",
       "                            \n",
       "var gd = document.getElementById('5aa6f789-da14-4e59-8adb-2f96f76b1372');\n",
       "var x = new MutationObserver(function (mutations, observer) {{\n",
       "        var display = window.getComputedStyle(gd).display;\n",
       "        if (!display || display === 'none') {{\n",
       "            console.log([gd, 'removed!']);\n",
       "            Plotly.purge(gd);\n",
       "            observer.disconnect();\n",
       "        }}\n",
       "}});\n",
       "\n",
       "// Listen for the removal of the full notebook cells\n",
       "var notebookContainer = gd.closest('#notebook-container');\n",
       "if (notebookContainer) {{\n",
       "    x.observe(notebookContainer, {childList: true});\n",
       "}}\n",
       "\n",
       "// Listen for the clearing of the current output cell\n",
       "var outputEl = gd.closest('.output');\n",
       "if (outputEl) {{\n",
       "    x.observe(outputEl, {childList: true});\n",
       "}}\n",
       "\n",
       "                        })                };                });            </script>        </div>"
      ]
     },
     "metadata": {},
     "output_type": "display_data"
    }
   ],
   "source": [
    "fig = optuna.visualization.plot_optimization_history(study)\n",
    "display(fig)"
   ]
  },
  {
   "attachments": {
    "2b42865a-0d6f-4d0f-978b-1cefd5a723d2.png": {
     "image/png": "[encoded data removed]"
    }
   },
   "cell_type": "markdown",
   "id": "da81ffbd-68f6-4341-8192-53e7f9171aec",
   "metadata": {},
   "source": [
    "(screenshot for GitHub)\n",
    "![image.png](attachment:2b42865a-0d6f-4d0f-978b-1cefd5a723d2.png)"
   ]
  },
  {
   "cell_type": "code",
   "execution_count": 29,
   "id": "4d253abb-41dd-4bf3-8742-097b2c52c0ef",
   "metadata": {},
   "outputs": [
    {
     "data": {
      "text/plain": [
       "['saved_models/xgboost/xgboost_study.pkl']"
      ]
     },
     "execution_count": 29,
     "metadata": {},
     "output_type": "execute_result"
    }
   ],
   "source": [
    "import joblib\n",
    "joblib.dump(study, \"saved_models/xgboost/xgboost_study.pkl\")"
   ]
  },
  {
   "cell_type": "code",
   "execution_count": 30,
   "id": "fa94b801-09f5-4b4b-853d-5646938faa83",
   "metadata": {},
   "outputs": [],
   "source": [
    "best_bst.save_model(\"saved_models/xgboost/xgboost.model\")"
   ]
  },
  {
   "cell_type": "code",
   "execution_count": 10,
   "id": "fad327e6-49b4-4385-80e3-18679289ba4a",
   "metadata": {},
   "outputs": [],
   "source": [
    "# Reloading model\n",
    "best_bst = xgb.Booster()\n",
    "best_bst.load_model(\"saved_models/xgboost/xgboost.model\")"
   ]
  },
  {
   "cell_type": "code",
   "execution_count": 33,
   "id": "0b8997eb-7fd8-460a-9c78-e5a49c0a56d1",
   "metadata": {},
   "outputs": [
    {
     "name": "stdout",
     "output_type": "stream",
     "text": [
      "Accuracy: 0.206\n",
      "Precision (micro): 0.206\n",
      "Precision (macro): 0.115\n",
      "Recall (micro): 0.206\n",
      "Recall (macro): 0.134\n",
      "F1 (micro): 0.206\n",
      "F1 (macro): 0.086\n",
      "ROC-AUC: 0.5047102979702176\n"
     ]
    },
    {
     "data": {
      "image/png": "[encoded data removed]",
      "text/plain": [
       "<Figure size 432x288 with 2 Axes>"
      ]
     },
     "metadata": {
      "needs_background": "light"
     },
     "output_type": "display_data"
    }
   ],
   "source": [
    "# Predicting the validation set results\n",
    "dataset_val = xgb.DMatrix(validation_cnn_output, label=np.argmax(validation_y, axis=1))\n",
    "y_pred = best_bst.predict(dataset_val)\n",
    "\n",
    "# Evaluating\n",
    "\n",
    "y_test = np.argmax(validation_y, axis=1)\n",
    "cm = confusion_matrix(y_test, y_pred)\n",
    "\n",
    "onehotencoder = OneHotEncoder()\n",
    "y_test_onehot = onehotencoder.fit_transform([[y] for y in y_test]).toarray()\n",
    "y_pred_onehot = onehotencoder.fit_transform([[y] for y in y_pred]).toarray()\n",
    "\n",
    "print(f'Accuracy: {accuracy_score(y_test, y_pred):.3f}')\n",
    "print(f'Precision (micro): {precision_score(y_test, y_pred, average=\"micro\"):.3f}')\n",
    "print(f'Precision (macro): {precision_score(y_test, y_pred, average=\"macro\"):.3f}')\n",
    "print(f'Recall (micro): {recall_score(y_test, y_pred, average=\"micro\"):.3f}')\n",
    "print(f'Recall (macro): {recall_score(y_test, y_pred, average=\"macro\"):.3f}')\n",
    "print(f'F1 (micro): {f1_score(y_test, y_pred, average=\"micro\"):.3f}')\n",
    "print(f'F1 (macro): {f1_score(y_test, y_pred, average=\"macro\"):.3f}')\n",
    "print(f'ROC-AUC: {roc_auc_score(y_test_onehot, y_pred_onehot, multi_class=\"ovo\")}')\n",
    "\n",
    "#Confusion matrix: \n",
    "labels=[\"MEL\", \"NV\", \"BCC\", \"AK\", \"BKL\", \"DF\", \"VASC\", \"SCC\"]\n",
    "labels_sorted = sorted(labels)\n",
    "\n",
    "# Rearrange\n",
    "sorted_to_real_idx = {labels_sorted.index(l): labels.index(l) for l in labels_sorted}\n",
    "sorted_to_real_fn = lambda y_sorted: np.array([sorted_to_real_idx[i] for i in y_sorted])\n",
    "cm = confusion_matrix(\n",
    "    sorted_to_real_fn(y_test),\n",
    "    sorted_to_real_fn(y_pred),\n",
    ")\n",
    "disp = sklearn.metrics.ConfusionMatrixDisplay(confusion_matrix = cm, display_labels = labels)\n",
    "disp.plot(cmap=plt.cm.Blues)\n",
    "plt.show()\n"
   ]
  },
  {
   "cell_type": "code",
   "execution_count": 31,
   "id": "5a087de2-41e1-406b-9569-31890da02c08",
   "metadata": {},
   "outputs": [],
   "source": [
    "# Predicting the test set results\n",
    "dataset_test = xgb.DMatrix(test_cnn_output, label=np.argmax(test_y, axis=1))\n",
    "y_pred = best_bst.predict(dataset_test)\n",
    "\n",
    "# Evaluating\n",
    "\n",
    "y_test = np.argmax(test_y, axis=1)\n",
    "cm = confusion_matrix(y_test, y_pred)\n",
    "\n",
    "onehotencoder = OneHotEncoder()\n",
    "y_test_onehot = onehotencoder.fit_transform([[y] for y in y_test]).toarray()\n",
    "y_pred_onehot = onehotencoder.fit_transform([[y] for y in y_pred]).toarray()\n",
    "\n",
    "# print(f'Accuracy: {accuracy_score(y_test, y_pred):.3f}')\n",
    "# print(f'Precision (micro): {precision_score(y_test, y_pred, average=\"micro\"):.3f}')\n",
    "# print(f'Precision (macro): {precision_score(y_test, y_pred, average=\"macro\"):.3f}')\n",
    "# print(f'Recall (micro): {recall_score(y_test, y_pred, average=\"micro\"):.3f}')\n",
    "# print(f'Recall (macro): {recall_score(y_test, y_pred, average=\"macro\"):.3f}')\n",
    "# print(f'F1 (micro): {f1_score(y_test, y_pred, average=\"micro\"):.3f}')\n",
    "# print(f'F1 (macro): {f1_score(y_test, y_pred, average=\"macro\"):.3f}')\n",
    "# print(f'ROC-AUC: {roc_auc_score(y_test_onehot, y_pred_onehot, multi_class=\"ovo\")}')\n",
    "\n",
    "#Confusion matrix: \n",
    "labels=[\"MEL\", \"NV\", \"BCC\", \"AK\", \"BKL\", \"DF\", \"VASC\", \"SCC\"]\n",
    "labels_sorted = sorted(labels)\n",
    "\n",
    "# Rearrange\n",
    "sorted_to_real_idx = {labels_sorted.index(l): labels.index(l) for l in labels_sorted}\n",
    "sorted_to_real_fn = lambda y_sorted: np.array([sorted_to_real_idx[i] for i in y_sorted])\n",
    "y_true = sorted_to_real_fn(y_test)\n",
    "y_pred = sorted_to_real_fn(y_pred)\n"
   ]
  },
  {
   "cell_type": "code",
   "execution_count": 32,
   "id": "198264da-43ff-40a9-9586-c11fd3862293",
   "metadata": {},
   "outputs": [
    {
     "name": "stdout",
     "output_type": "stream",
     "text": [
      "Classification Report\n",
      "              precision    recall  f1-score   support\n",
      "\n",
      "         MEL      0.165     0.059     0.087       895\n",
      "          NV      0.500     0.333     0.400      2592\n",
      "         BCC      0.209     0.034     0.058       684\n",
      "          AK      0.047     0.050     0.049       160\n",
      "         BKL      0.128     0.044     0.065       502\n",
      "          DF      0.009     0.091     0.016        44\n",
      "        VASC      0.014     0.170     0.025        47\n",
      "         SCC      0.030     0.324     0.055       142\n",
      "\n",
      "    accuracy                          0.203      5066\n",
      "   macro avg      0.138     0.138     0.094      5066\n",
      "weighted avg      0.328     0.203     0.238      5066\n",
      "\n",
      "Accuracy: 0.2027\n",
      "ROC AUC: 0.5063\n"
     ]
    },
    {
     "data": {
      "image/png": "[encoded data removed]",
      "text/plain": [
       "<Figure size 432x288 with 2 Axes>"
      ]
     },
     "metadata": {
      "needs_background": "light"
     },
     "output_type": "display_data"
    }
   ],
   "source": [
    "print (\"Classification Report\")\n",
    "print(sklearn_metrics.classification_report(y_true, y_pred, labels=range(8), target_names=labels, digits=3))\n",
    "print(f\"Accuracy: {sklearn_metrics.accuracy_score(y_true, y_pred):.4f}\")\n",
    "#'ovr' Stands for One-vs-rest. Computes the AUC of each class against the rest\n",
    "print(f\"ROC AUC: {sklearn_metrics.roc_auc_score(y_test_onehot, y_pred_onehot, multi_class='ovr'):.4f}\")\n",
    "\n",
    "cm = sklearn_metrics.confusion_matrix(y_true, y_pred)\n",
    "disp = sklearn_metrics.ConfusionMatrixDisplay(confusion_matrix=cm, display_labels=labels)\n",
    "disp.plot(cmap=plt.cm.Blues)\n",
    "plt.show()"
   ]
  }
 ],
 "metadata": {
  "instance_type": "ml.g4dn.xlarge",
  "kernelspec": {
   "display_name": "Python 3 (TensorFlow 2.6 Python 3.8 GPU Optimized)",
   "language": "python",
   "name": "python3__SAGEMAKER_INTERNAL__arn:aws:sagemaker:us-east-1:081325390199:image/tensorflow-2.6-gpu-py38-cu112-ubuntu20.04-v1"
  },
  "language_info": {
   "codemirror_mode": {
    "name": "ipython",
    "version": 3
   },
   "file_extension": ".py",
   "mimetype": "text/x-python",
   "name": "python",
   "nbconvert_exporter": "python",
   "pygments_lexer": "ipython3",
   "version": "3.8.2"
  }
 },
 "nbformat": 4,
 "nbformat_minor": 5
}
