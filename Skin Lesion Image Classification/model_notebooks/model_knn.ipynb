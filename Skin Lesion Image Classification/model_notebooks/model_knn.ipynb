{
 "cells": [
  {
   "cell_type": "markdown",
   "id": "1977bd70-0bd9-4525-9250-fd3167e66255",
   "metadata": {},
   "source": [
    "# Basic K Nearest Neighbors\n",
    "\n",
    "About this notebook: \n",
    "- Initial modeel built using the balanced dataset of 1912 images representing 239 images from each of the 8 classes.  \n",
    "- Will utilize same model on future augmented dataset. \n",
    "- Model build inspired by week 07 demos which showed KNN on iris image dataset. "
   ]
  },
  {
   "cell_type": "code",
   "execution_count": 2,
   "id": "b41c5965-a310-4a69-8dfd-265604469882",
   "metadata": {},
   "outputs": [],
   "source": [
    "#importing the libraries\n",
    "import pandas as pd\n",
    "import numpy as np\n",
    "import matplotlib.pyplot as plt \n",
    "import tensorflow as tf\n",
    "from sklearn import preprocessing\n",
    "from sklearn import metrics\n",
    "\n",
    "from sklearn.neighbors import KNeighborsClassifier\n",
    "from sklearn.model_selection import train_test_split\n",
    "from sklearn.metrics import classification_report\n",
    "from sklearn.metrics import classification_report, confusion_matrix, ConfusionMatrixDisplay\n",
    "\n",
    "from importlib import reload\n",
    "import constants\n",
    "import lesion_data\n",
    "import augmentor\n",
    "from augmentor import Augmentor\n",
    "from importlib import reload\n",
    "\n",
    "reload(augmentor);"
   ]
  },
  {
   "cell_type": "markdown",
   "id": "20bfa9ce-1e19-4c93-b0a2-d44129b28c1e",
   "metadata": {},
   "source": [
    "## Load Dataset using the balanced dataset"
   ]
  },
  {
   "cell_type": "code",
   "execution_count": 3,
   "id": "f7862e61-e050-4f34-953e-2617a92c427d",
   "metadata": {},
   "outputs": [
    {
     "name": "stdout",
     "output_type": "stream",
     "text": [
      "Cleaning up isic_data/ISIC_2019_Training_Augmented_250\n",
      "Start processing class: MEL\n",
      "Start processing class: NVStart processing class: BCC\n",
      "\n",
      "Start processing class: AK\n",
      "(MEL) --> len(all_images)=3261, count=250, subsetting without augmentation.\n",
      "(BCC) --> len(all_images)=2383, count=250, subsetting without augmentation.\n",
      "(AK) --> len(all_images)=635, count=250, subsetting without augmentation.\n",
      "(NV) --> len(all_images)=9251, count=250, subsetting without augmentation.\n",
      "(NV) --> Done with downsampling class NV.\n",
      "Start processing class: BKL\n",
      "(BKL) --> len(all_images)=1902, count=250, subsetting without augmentation.\n",
      "(AK) --> Done with downsampling class AK.\n",
      "Start processing class: DF\n",
      "(DF) --> len(all_images)=178, count=250, augmenting up to required count.\n",
      "(BCC) --> Done with downsampling class BCC.\n",
      "Start processing class: VASC\n",
      "(VASC) --> len(all_images)=185, count=250, augmenting up to required count.\n",
      "(MEL) --> Done with downsampling class MEL.\n",
      "Start processing class: SCC\n",
      "(SCC) --> len(all_images)=444, count=250, subsetting without augmentation.\n",
      "(BKL) --> Done with downsampling class BKL.\n",
      "Skipping UNK\n",
      "(SCC) --> Done with downsampling class SCC.\n",
      "(VASC) --> Done with augmenting class VASC.\n",
      "(DF) --> Done with augmenting class DF.\n"
     ]
    }
   ],
   "source": [
    "count = 250\n",
    "path = constants.get_training_augmented_path_with_count_suffix(count=count)\n",
    "aug = augmentor.Augmentor(dir_path=path)\n",
    "aug.augment(count)\n",
    "\n",
    "# Return all images in a np.Array \n",
    "x_train, y_train = aug.get_numpy_data()\n",
    "\n",
    "# Load validation data in np.Array. \n",
    "x_val, y_val  = constants.load_validation_split_data_with_labels(limit = 850, resize=(244,244))\n",
    "\n",
    "# Load Test data in np.Array.  To limit the num of images loaded pass limit=250\n",
    "x_test, y_test = constants.load_testing_split_data_with_labels(limit = 2000, resize=(244,244))\n",
    "\n",
    "x_train = x_train / 255\n",
    "x_val = x_val / 255\n",
    "x_test = x_test/ 255"
   ]
  },
  {
   "cell_type": "code",
   "execution_count": 4,
   "id": "b65dcb8a-6c30-48df-9727-e01fcbf9f584",
   "metadata": {},
   "outputs": [
    {
     "name": "stdout",
     "output_type": "stream",
     "text": [
      "x_train.len=2000\n",
      "y_train.len=2000\n",
      "x_train.shape=(2000, 244, 244, 3)\n",
      "y_train.shape=(2000, 8)\n",
      "x_test.len=2000\n",
      "y_test.len=2000\n",
      "x_test.shape=(2000, 244, 244, 3)\n",
      "y_test.shape=(2000, 1, 8)\n",
      "x_val.len=850\n",
      "y_val.len=850\n",
      "x_val.shape=(850, 244, 244, 3)\n",
      "y_val.shape=(850, 1, 8)\n"
     ]
    }
   ],
   "source": [
    "print(\"x_train.len=\" + str(len(x_train)))\n",
    "print(\"y_train.len=\" + str(len(y_train)))\n",
    "\n",
    "print(\"x_train.shape=\" + str(x_train.shape))\n",
    "print(\"y_train.shape=\" + str(y_train.shape))\n",
    "\n",
    "print(\"x_test.len=\" + str(len(x_test)))\n",
    "print(\"y_test.len=\" + str(len(y_test)))\n",
    "\n",
    "print(\"x_test.shape=\" + str(x_test.shape))\n",
    "print(\"y_test.shape=\" + str(y_test.shape))\n",
    "\n",
    "print(\"x_val.len=\" + str(len(x_val)))\n",
    "print(\"y_val.len=\" + str(len(y_val)))\n",
    "\n",
    "print(\"x_val.shape=\" + str(x_val.shape))\n",
    "print(\"y_val.shape=\" + str(y_val.shape))"
   ]
  },
  {
   "cell_type": "code",
   "execution_count": 5,
   "id": "176df98e-f165-47bb-8e1d-29009f25c2af",
   "metadata": {},
   "outputs": [
    {
     "name": "stdout",
     "output_type": "stream",
     "text": [
      "x_train.shape=(2000, 178608)\n",
      "y_train.shape=(2000, 8)\n",
      "x_val.shape=(850, 178608)\n",
      "y_val.shape=(850, 8)\n",
      "x_test.shape=(2000, 178608)\n",
      "y_test.shape=(2000, 8)\n"
     ]
    }
   ],
   "source": [
    "# Flatten to a single vector. x_train goes from (<Rows>, 244, 244, 3) to <Rows> x (244 * 244 * 3) \n",
    "x_train = x_train.reshape(x_train.shape[0], 244 * 244 * 3) \n",
    "x_val = x_val.reshape(x_val.shape[0], 244 * 244 * 3) \n",
    "x_test = x_test.reshape(x_test.shape[0], 244 * 244 * 3) \n",
    "\n",
    "# Flatten y\n",
    "nsamples, nx = y_train.shape\n",
    "y_train = y_train.reshape((nsamples, nx*1))\n",
    "\n",
    "nsamples, nx, ny = y_val.shape\n",
    "y_val = y_val.reshape((nsamples, nx*ny))\n",
    "\n",
    "nsamples, nx, ny = y_test.shape\n",
    "y_test = y_test.reshape((nsamples, nx*ny))\n",
    "\n",
    "\n",
    "print(\"x_train.shape=\" + str(x_train.shape))\n",
    "print(\"y_train.shape=\" + str(y_train.shape))\n",
    "print(\"x_val.shape=\" + str(x_val.shape))\n",
    "print(\"y_val.shape=\" + str(y_val.shape))\n",
    "print(\"x_test.shape=\" + str(x_test.shape))\n",
    "print(\"y_test.shape=\" + str(y_test.shape))"
   ]
  },
  {
   "cell_type": "code",
   "execution_count": 6,
   "id": "ba409553-f94b-4f21-a71c-ea39fa65bba6",
   "metadata": {},
   "outputs": [
    {
     "name": "stdout",
     "output_type": "stream",
     "text": [
      "Sum y_train: [250 250 250 250 250 250 250 250]\n",
      "Sum y_val: [161. 445.  90.  29.  89.   5.  13.  18.]\n",
      "Sum y_test: [ 355. 1017.  260.   62.  212.   18.   14.   62.]\n"
     ]
    }
   ],
   "source": [
    "# Check Balance\n",
    "print(\"Sum y_train: \" + str(y_train.sum(axis=0)))\n",
    "print(\"Sum y_val: \" + str(y_val.sum(axis=0)))\n",
    "print(\"Sum y_test: \" + str(y_test.sum(axis=0)))"
   ]
  },
  {
   "cell_type": "code",
   "execution_count": 7,
   "id": "34dd7982-d80a-45a7-9478-c449c08e6f6a",
   "metadata": {},
   "outputs": [],
   "source": [
    "# Trying KNN with k=5\n",
    "# model = KNeighborsClassifier(n_neighbors=5, n_jobs=-1)\n",
    "# model.fit(x_train, y_train)\n",
    "\n",
    "# y_val_pred = model.predict(x_val)\n",
    "\n",
    "# print(f\"Accuracy: {metrics.accuracy_score(y_val, y_val_pred)}\")\n",
    "# print(f\"Recall: {metrics.recall_score(y_val, y_val_pred, average=None, zero_division=1)}\")\n",
    "# print(f\"Precision: {metrics.precision_score(y_val, y_val_pred, average=None, zero_division=1)}\")"
   ]
  },
  {
   "cell_type": "code",
   "execution_count": 8,
   "id": "d148b450-a63a-4b43-be9f-d831f698bc72",
   "metadata": {},
   "outputs": [],
   "source": [
    "# Run KNN for different Ks and evaluate using Validation data \n",
    "validation_accuracies = []\n",
    "for k in range(1,50): \n",
    "    model = KNeighborsClassifier(n_neighbors=k, n_jobs=-1)\n",
    "    model.fit(x_train, y_train)\n",
    "    y_val_pred = model.predict(x_val)\n",
    "    validation_accuracies.append((k, metrics.accuracy_score(y_val, y_val_pred)))"
   ]
  },
  {
   "cell_type": "code",
   "execution_count": 9,
   "id": "b7d11d18-dc68-42c0-a6ae-e385a8596e16",
   "metadata": {},
   "outputs": [
    {
     "data": {
      "text/plain": [
       "[(1, 0.31176470588235294),\n",
       " (2, 0.1188235294117647),\n",
       " (3, 0.20352941176470588),\n",
       " (4, 0.12823529411764706),\n",
       " (5, 0.17882352941176471),\n",
       " (6, 0.10941176470588235),\n",
       " (7, 0.1423529411764706),\n",
       " (8, 0.09411764705882353),\n",
       " (9, 0.11647058823529412),\n",
       " (10, 0.09176470588235294),\n",
       " (11, 0.1188235294117647),\n",
       " (12, 0.08823529411764706),\n",
       " (13, 0.0976470588235294),\n",
       " (14, 0.07176470588235294),\n",
       " (15, 0.08588235294117647),\n",
       " (16, 0.06),\n",
       " (17, 0.07647058823529412),\n",
       " (18, 0.052941176470588235),\n",
       " (19, 0.07058823529411765),\n",
       " (20, 0.05176470588235294),\n",
       " (21, 0.0611764705882353),\n",
       " (22, 0.04941176470588235),\n",
       " (23, 0.052941176470588235),\n",
       " (24, 0.04352941176470588),\n",
       " (25, 0.05411764705882353),\n",
       " (26, 0.03529411764705882),\n",
       " (27, 0.04352941176470588),\n",
       " (28, 0.03176470588235294),\n",
       " (29, 0.03882352941176471),\n",
       " (30, 0.03529411764705882),\n",
       " (31, 0.03529411764705882),\n",
       " (32, 0.027058823529411764),\n",
       " (33, 0.03058823529411765),\n",
       " (34, 0.027058823529411764),\n",
       " (35, 0.03058823529411765),\n",
       " (36, 0.023529411764705882),\n",
       " (37, 0.02588235294117647),\n",
       " (38, 0.01764705882352941),\n",
       " (39, 0.023529411764705882),\n",
       " (40, 0.015294117647058824),\n",
       " (41, 0.02),\n",
       " (42, 0.015294117647058824),\n",
       " (43, 0.01647058823529412),\n",
       " (44, 0.011764705882352941),\n",
       " (45, 0.01411764705882353),\n",
       " (46, 0.011764705882352941),\n",
       " (47, 0.01411764705882353),\n",
       " (48, 0.010588235294117647),\n",
       " (49, 0.015294117647058824)]"
      ]
     },
     "execution_count": 9,
     "metadata": {},
     "output_type": "execute_result"
    }
   ],
   "source": [
    "# Accuracies for each K \n",
    "validation_accuracies"
   ]
  },
  {
   "cell_type": "code",
   "execution_count": 10,
   "id": "5757cbcb-5b2b-4660-965b-294c227102a0",
   "metadata": {},
   "outputs": [
    {
     "data": {
      "image/png": "[encoded data removed]",
      "text/plain": [
       "<Figure size 432x288 with 1 Axes>"
      ]
     },
     "metadata": {
      "needs_background": "light"
     },
     "output_type": "display_data"
    }
   ],
   "source": [
    "# Plotting validation_accuracies\n",
    "x_val_plt = [x[0] for x in validation_accuracies]\n",
    "y_val_plt = [x[1] for x in validation_accuracies]\n",
    "plt.plot(x_val_plt,y_val_plt)\n",
    "plt.plot(x_val_plt,y_val_plt,'or')\n",
    "plt.show()"
   ]
  },
  {
   "cell_type": "code",
   "execution_count": 11,
   "id": "0db6a5ac-637e-4823-b4a2-30038697ee49",
   "metadata": {},
   "outputs": [
    {
     "name": "stdout",
     "output_type": "stream",
     "text": [
      "Accuracy: 0.21\n",
      "Recall: [0.07605634 0.28023599 0.14230769 0.27419355 0.16037736 0.55555556\n",
      " 0.35714286 0.08064516]\n",
      "Precision: [0.54       0.83577713 0.25694444 0.17894737 0.23776224 0.04672897\n",
      " 0.0310559  0.125     ]\n"
     ]
    }
   ],
   "source": [
    "# Use K = 3 \n",
    "model = KNeighborsClassifier(n_neighbors=3, n_jobs=-1)\n",
    "model.fit(x_train, y_train)\n",
    "\n",
    "y_test_pred = model.predict(x_test)\n",
    "\n",
    "print(f\"Accuracy: {metrics.accuracy_score(y_test, y_test_pred)}\")\n",
    "print(f\"Recall: {metrics.recall_score(y_test, y_test_pred, average=None, zero_division=1)}\")\n",
    "print(f\"Precision: {metrics.precision_score(y_test, y_test_pred, average=None, zero_division=1)}\")"
   ]
  },
  {
   "cell_type": "code",
   "execution_count": 12,
   "id": "9eb2add9-a642-4953-afe0-970a89b98ee9",
   "metadata": {},
   "outputs": [
    {
     "data": {
      "image/png": "[encoded data removed]",
      "text/plain": [
       "<Figure size 432x288 with 2 Axes>"
      ]
     },
     "metadata": {
      "needs_background": "light"
     },
     "output_type": "display_data"
    }
   ],
   "source": [
    "#Confusion matrix: \n",
    "labels=[\"MEL\", \"NV\", \"BCC\", \"AK\", \"BKL\", \"DF\", \"VASC\", \"SCC\"]\n",
    "cm = confusion_matrix(y_test.argmax(axis=1), y_test_pred.argmax(axis=1))\n",
    "cm\n",
    "disp = ConfusionMatrixDisplay(confusion_matrix = cm, display_labels = labels)\n",
    "disp.plot(cmap=plt.cm.Blues)\n",
    "plt.show()"
   ]
  },
  {
   "cell_type": "code",
   "execution_count": null,
   "id": "9c0a9d7b-7b88-43e8-8e59-5789c37ea3cc",
   "metadata": {},
   "outputs": [],
   "source": []
  }
 ],
 "metadata": {
  "instance_type": "ml.g4dn.xlarge",
  "kernelspec": {
   "display_name": "Python 3 (TensorFlow 2.6 Python 3.8 GPU Optimized)",
   "language": "python",
   "name": "python3__SAGEMAKER_INTERNAL__arn:aws:sagemaker:us-east-1:081325390199:image/tensorflow-2.6-gpu-py38-cu112-ubuntu20.04-v1"
  },
  "language_info": {
   "codemirror_mode": {
    "name": "ipython",
    "version": 3
   },
   "file_extension": ".py",
   "mimetype": "text/x-python",
   "name": "python",
   "nbconvert_exporter": "python",
   "pygments_lexer": "ipython3",
   "version": "3.8.2"
  }
 },
 "nbformat": 4,
 "nbformat_minor": 5
}
