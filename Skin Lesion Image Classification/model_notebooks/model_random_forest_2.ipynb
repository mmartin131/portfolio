{
 "cells": [
  {
   "cell_type": "markdown",
   "id": "39bc68b9-bf9c-4714-8a2d-717030c7776f",
   "metadata": {},
   "source": [
    "# Random Forest \n",
    "About this notebook:\n",
    "\n",
    "- Initial model built using the balanced dataset of 2,000 images representing 250 augmented images from each of the 8 classes.\n",
    "- Using SkLearn RandomForestClassifier\n",
    "- Note that random forest does not require pixel normalization. "
   ]
  },
  {
   "cell_type": "code",
   "execution_count": 2,
   "id": "1abd7f47-f7d6-4856-8253-eeabfa0f9e01",
   "metadata": {},
   "outputs": [],
   "source": [
    "import numpy as np \n",
    "import pandas as pd \n",
    "import matplotlib.pyplot as plt  \n",
    "import seaborn as sns\n",
    "from sklearn.ensemble import RandomForestClassifier  #Random Forest algorithm\n",
    "from sklearn.model_selection import train_test_split\n",
    "from sklearn.metrics import classification_report, confusion_matrix, ConfusionMatrixDisplay\n",
    "from sklearn.model_selection import cross_val_score\n",
    "from sklearn.metrics import accuracy_score\n",
    "from sklearn.metrics import roc_auc_score\n",
    "\n",
    "import augmentor\n",
    "import constants"
   ]
  },
  {
   "cell_type": "code",
   "execution_count": 3,
   "id": "49ea06af-7a17-418a-ad89-4b1731f765d1",
   "metadata": {
    "tags": []
   },
   "outputs": [
    {
     "name": "stdout",
     "output_type": "stream",
     "text": [
      "Cleaning up isic_data/ISIC_2019_Training_Augmented_250\n",
      "Start processing class: MELStart processing class: NV\n",
      "\n",
      "Start processing class: BCC\n",
      "Start processing class: AK\n",
      "(NV) --> len(all_images)=9251, count=250, subsetting without augmentation.\n",
      "(BCC) --> len(all_images)=2383, count=250, subsetting without augmentation.\n",
      "(MEL) --> len(all_images)=3261, count=250, subsetting without augmentation.\n",
      "(AK) --> len(all_images)=635, count=250, subsetting without augmentation.\n",
      "(NV) --> Done with downsampling class NV.\n",
      "Start processing class: BKL\n",
      "(BKL) --> len(all_images)=1902, count=250, subsetting without augmentation.\n",
      "(AK) --> Done with downsampling class AK.\n",
      "Start processing class: DF\n",
      "(DF) --> len(all_images)=178, count=250, augmenting up to required count.\n",
      "(BCC) --> Done with downsampling class BCC.\n",
      "Start processing class: VASC\n",
      "(VASC) --> len(all_images)=185, count=250, augmenting up to required count.\n",
      "(MEL) --> Done with downsampling class MEL.\n",
      "Start processing class: SCC\n",
      "(SCC) --> len(all_images)=444, count=250, subsetting without augmentation.\n",
      "(BKL) --> Done with downsampling class BKL.\n",
      "Skipping UNK\n",
      "(SCC) --> Done with downsampling class SCC.\n",
      "(VASC) --> Done with augmenting class VASC.\n",
      "(DF) --> Done with augmenting class DF.\n"
     ]
    }
   ],
   "source": [
    "# Load Training augmented data for Count 250 \n",
    "count = 250\n",
    "path = constants.get_training_augmented_path_with_count_suffix(count=count)\n",
    "aug = augmentor.Augmentor(dir_path=path)\n",
    "aug.augment(count)\n",
    "\n",
    "# Return all images in a np.Array \n",
    "x_train, y_train = aug.get_numpy_data()\n",
    "\n",
    "# Load validation data in np.Array. To limit the num of images loaded pass limit=250\n",
    "x_val, y_val  = constants.load_validation_split_data_with_labels(limit = 850, resize=(244,244))\n",
    "\n",
    "# Load Test data in np.Array.  To limit the num of images loaded pass limit=250\n",
    "x_test, y_test = constants.load_testing_split_data_with_labels(resize=(244,244))"
   ]
  },
  {
   "cell_type": "code",
   "execution_count": 4,
   "id": "ce9855d3-fc6b-4ce3-ba42-87437f62157d",
   "metadata": {
    "tags": []
   },
   "outputs": [
    {
     "name": "stdout",
     "output_type": "stream",
     "text": [
      "x_train.len=2000\n",
      "y_train.len=2000\n",
      "x_train.shape=(2000, 244, 244, 3)\n",
      "y_train.shape=(2000, 8)\n",
      "x_test.len=5066\n",
      "y_test.len=5066\n",
      "x_test.shape=(5066, 244, 244, 3)\n",
      "y_test.shape=(5066, 1, 8)\n",
      "x_val.len=850\n",
      "y_val.len=850\n",
      "x_val.shape=(850, 244, 244, 3)\n",
      "y_val.shape=(850, 1, 8)\n"
     ]
    }
   ],
   "source": [
    "print(\"x_train.len=\" + str(len(x_train)))\n",
    "print(\"y_train.len=\" + str(len(y_train)))\n",
    "\n",
    "print(\"x_train.shape=\" + str(x_train.shape))\n",
    "print(\"y_train.shape=\" + str(y_train.shape))\n",
    "\n",
    "print(\"x_test.len=\" + str(len(x_test)))\n",
    "print(\"y_test.len=\" + str(len(y_test)))\n",
    "\n",
    "print(\"x_test.shape=\" + str(x_test.shape))\n",
    "print(\"y_test.shape=\" + str(y_test.shape))\n",
    "\n",
    "print(\"x_val.len=\" + str(len(x_val)))\n",
    "print(\"y_val.len=\" + str(len(y_val)))\n",
    "\n",
    "print(\"x_val.shape=\" + str(x_val.shape))\n",
    "print(\"y_val.shape=\" + str(y_val.shape))"
   ]
  },
  {
   "cell_type": "code",
   "execution_count": 5,
   "id": "12e2cf55-59f3-4da9-a5da-3207344b4eba",
   "metadata": {
    "tags": []
   },
   "outputs": [
    {
     "name": "stdout",
     "output_type": "stream",
     "text": [
      "x_train.shape=(2000, 178608)\n",
      "y_train.shape=(2000, 8)\n",
      "x_val.shape=(850, 178608)\n",
      "y_val.shape=(850, 8)\n",
      "x_test.shape=(5066, 178608)\n",
      "y_test.shape=(5066, 8)\n"
     ]
    }
   ],
   "source": [
    "# Flatten to a single vector. x_train goes from (<Rows>, 244, 244, 3) to <Rows> x (244 * 244 * 3) \n",
    "x_train = x_train.reshape(x_train.shape[0], 244 * 244 * 3) \n",
    "x_val = x_val.reshape(x_val.shape[0], 244 * 244 * 3) \n",
    "x_test = x_test.reshape(x_test.shape[0], 244 * 244 * 3) \n",
    "\n",
    "# Flatten y\n",
    "# nsamples, nx, ny = y_train.shape\n",
    "# y_train = y_train.reshape((nsamples, nx*ny))\n",
    "\n",
    "nsamples, nx, ny = y_val.shape\n",
    "y_val = y_val.reshape((nsamples, nx*ny))\n",
    "\n",
    "nsamples, nx, ny = y_test.shape\n",
    "y_test = y_test.reshape((nsamples, nx*ny))\n",
    "\n",
    "\n",
    "print(\"x_train.shape=\" + str(x_train.shape))\n",
    "print(\"y_train.shape=\" + str(y_train.shape))\n",
    "print(\"x_val.shape=\" + str(x_val.shape))\n",
    "print(\"y_val.shape=\" + str(y_val.shape))\n",
    "print(\"x_test.shape=\" + str(x_test.shape))\n",
    "print(\"y_test.shape=\" + str(y_test.shape))"
   ]
  },
  {
   "cell_type": "code",
   "execution_count": 6,
   "id": "1079374d-5c44-416b-9b17-e7d0e94ec8a1",
   "metadata": {
    "tags": []
   },
   "outputs": [
    {
     "data": {
      "text/plain": [
       "RandomForestClassifier()"
      ]
     },
     "execution_count": 6,
     "metadata": {},
     "output_type": "execute_result"
    }
   ],
   "source": [
    "#training random Forest; n_estimators set at default 100. \n",
    "random_forest = RandomForestClassifier(n_estimators=100)\n",
    "random_forest.fit(x_train, y_train)"
   ]
  },
  {
   "cell_type": "code",
   "execution_count": 7,
   "id": "22e5a47e-1a1e-4b70-9df1-17490b47dd1a",
   "metadata": {
    "tags": []
   },
   "outputs": [
    {
     "name": "stdout",
     "output_type": "stream",
     "text": [
      "Classification Report\n",
      "              precision    recall  f1-score   support\n",
      "\n",
      "           0       0.70      0.04      0.08       161\n",
      "           1       0.96      0.18      0.30       445\n",
      "           2       0.00      0.00      0.00        90\n",
      "           3       0.00      0.00      0.00        29\n",
      "           4       0.00      0.00      0.00        89\n",
      "           5       0.00      0.00      0.00         5\n",
      "           6       0.29      0.15      0.20        13\n",
      "           7       0.00      0.00      0.00        18\n",
      "\n",
      "   micro avg       0.86      0.10      0.19       850\n",
      "   macro avg       0.24      0.05      0.07       850\n",
      "weighted avg       0.64      0.10      0.18       850\n",
      " samples avg       0.10      0.10      0.10       850\n",
      "\n"
     ]
    },
    {
     "name": "stderr",
     "output_type": "stream",
     "text": [
      "/usr/local/lib/python3.8/site-packages/sklearn/metrics/_classification.py:1248: UndefinedMetricWarning: Precision and F-score are ill-defined and being set to 0.0 in labels with no predicted samples. Use `zero_division` parameter to control this behavior.\n",
      "  _warn_prf(average, modifier, msg_start, len(result))\n",
      "/usr/local/lib/python3.8/site-packages/sklearn/metrics/_classification.py:1248: UndefinedMetricWarning: Precision and F-score are ill-defined and being set to 0.0 in samples with no predicted labels. Use `zero_division` parameter to control this behavior.\n",
      "  _warn_prf(average, modifier, msg_start, len(result))\n"
     ]
    }
   ],
   "source": [
    "#Random Forest predictions\n",
    "pred = random_forest.predict(x_val)\n",
    "labels=[\"MEL\", \"NV\", \"BCC\", \"AK\", \"BKL\", \"DF\", \"VASC\", \"SCC\"]\n",
    "print (\"Classification Report\")\n",
    "print(classification_report(y_val, pred))"
   ]
  },
  {
   "cell_type": "code",
   "execution_count": 8,
   "id": "602d2dad-9287-4e0f-9a60-53bf3c62b182",
   "metadata": {
    "tags": []
   },
   "outputs": [
    {
     "data": {
      "text/plain": [
       "Text(0, 0.5, 'Testing Accuracy')"
      ]
     },
     "execution_count": 8,
     "metadata": {},
     "output_type": "execute_result"
    },
    {
     "data": {
      "image/png": "[encoded data removed]",
      "text/plain": [
       "<Figure size 432x288 with 1 Axes>"
      ]
     },
     "metadata": {
      "needs_background": "light"
     },
     "output_type": "display_data"
    }
   ],
   "source": [
    "#Assessing performance of different n_estimators\n",
    "#\n",
    "scores =[]\n",
    "for k in range(1, 200, 20):\n",
    "    rfc = RandomForestClassifier(n_estimators=k)\n",
    "    rfc.fit(x_train, y_train)\n",
    "    y_pred = rfc.predict(x_val)\n",
    "    scores.append(accuracy_score(y_val, y_pred))\n",
    "\n",
    "import matplotlib.pyplot as plt\n",
    "%matplotlib inline\n",
    "\n",
    "# plot the relationship between K and testing accuracy\n",
    "# plt.plot(x_axis, y_axis)\n",
    "plt.plot(range(1, 200, 20), scores)\n",
    "plt.xlabel('Value of n_estimators for Random Forest Classifier')\n",
    "plt.ylabel('Testing Accuracy')"
   ]
  },
  {
   "cell_type": "code",
   "execution_count": 9,
   "id": "5ec8a50c-cd66-4df8-a6b7-40681d5ec247",
   "metadata": {},
   "outputs": [],
   "source": [
    "#observing significant drop in accuracy with increased estimators. Will try to find ideal number:"
   ]
  },
  {
   "cell_type": "code",
   "execution_count": 10,
   "id": "b7fb8fe4-a896-42d3-a15e-dbb2ae155a18",
   "metadata": {
    "tags": []
   },
   "outputs": [
    {
     "name": "stdout",
     "output_type": "stream",
     "text": [
      "accuracy score:  0.23647058823529413 k: 1\n",
      "accuracy score:  0.08352941176470588 k: 2\n",
      "accuracy score:  0.1952941176470588 k: 3\n",
      "accuracy score:  0.08588235294117647 k: 4\n",
      "accuracy score:  0.1623529411764706 k: 5\n",
      "accuracy score:  0.11058823529411765 k: 6\n",
      "accuracy score:  0.1588235294117647 k: 7\n",
      "accuracy score:  0.09647058823529411 k: 8\n",
      "accuracy score:  0.15176470588235294 k: 9\n",
      "accuracy score:  0.11647058823529412 k: 10\n",
      "accuracy score:  0.12352941176470589 k: 11\n",
      "accuracy score:  0.12352941176470589 k: 12\n",
      "accuracy score:  0.13529411764705881 k: 13\n",
      "accuracy score:  0.11058823529411765 k: 14\n",
      "accuracy score:  0.13411764705882354 k: 15\n",
      "accuracy score:  0.10588235294117647 k: 16\n",
      "accuracy score:  0.12705882352941175 k: 17\n",
      "accuracy score:  0.11764705882352941 k: 18\n",
      "accuracy score:  0.13294117647058823 k: 19\n"
     ]
    },
    {
     "data": {
      "text/plain": [
       "Text(0.5, 1.0, 'Test Accuracy across n_estimator trials')"
      ]
     },
     "execution_count": 10,
     "metadata": {},
     "output_type": "execute_result"
    },
    {
     "data": {
      "image/png": "[encoded data removed]",
      "text/plain": [
       "<Figure size 432x288 with 1 Axes>"
      ]
     },
     "metadata": {
      "needs_background": "light"
     },
     "output_type": "display_data"
    }
   ],
   "source": [
    "#Assessing performance of different n_estimators\n",
    "#\n",
    "scores =[]\n",
    "for k in range(1, 20):\n",
    "    rfc = RandomForestClassifier(n_estimators=k)\n",
    "    rfc.fit(x_train, y_train)\n",
    "    y_pred = rfc.predict(x_val)\n",
    "    scores.append(accuracy_score(y_val, y_pred))\n",
    "    print('accuracy score: ', accuracy_score(y_val, y_pred), 'k:', k)\n",
    "\n",
    "import matplotlib.pyplot as plt\n",
    "%matplotlib inline\n",
    "\n",
    "# plot the relationship between K and testing accuracy\n",
    "# plt.plot(x_axis, y_axis)\n",
    "plt.plot(range(1, 20), scores)\n",
    "plt.xlabel('Value of n_estimators for Random Forest Classifier')\n",
    "plt.ylabel('Testing Accuracy')\n",
    "plt.title('Test Accuracy across n_estimator trials')"
   ]
  },
  {
   "cell_type": "code",
   "execution_count": 11,
   "id": "9f724e2e-8b08-4422-8308-23f56f8e003d",
   "metadata": {
    "tags": []
   },
   "outputs": [
    {
     "name": "stdout",
     "output_type": "stream",
     "text": [
      "[0.23647058823529413, 0.08352941176470588, 0.1952941176470588, 0.08588235294117647, 0.1623529411764706, 0.11058823529411765, 0.1588235294117647, 0.09647058823529411, 0.15176470588235294, 0.11647058823529412, 0.12352941176470589, 0.12352941176470589, 0.13529411764705881, 0.11058823529411765, 0.13411764705882354, 0.10588235294117647, 0.12705882352941175, 0.11764705882352941, 0.13294117647058823]\n"
     ]
    }
   ],
   "source": [
    "print(scores)"
   ]
  },
  {
   "cell_type": "code",
   "execution_count": 12,
   "id": "dc761b25-f073-491f-89f4-990aa6102702",
   "metadata": {
    "tags": []
   },
   "outputs": [
    {
     "name": "stdout",
     "output_type": "stream",
     "text": [
      "Random Forest Classification Report\n",
      "              precision    recall  f1-score   support\n",
      "\n",
      "         MEL      0.435     0.186     0.261       161\n",
      "          NV      0.865     0.245     0.382       445\n",
      "         BCC      0.222     0.067     0.103        90\n",
      "          AK      0.077     0.103     0.088        29\n",
      "         BKL      0.143     0.079     0.101        89\n",
      "          DF      0.057     0.400     0.100         5\n",
      "        VASC      0.098     0.308     0.148        13\n",
      "         SCC      0.057     0.111     0.075        18\n",
      "\n",
      "   micro avg      0.387     0.192     0.256       850\n",
      "   macro avg      0.244     0.187     0.157       850\n",
      "weighted avg      0.579     0.192     0.278       850\n",
      " samples avg      0.192     0.192     0.192       850\n",
      "\n",
      "Accuracy:  0.19176470588235295\n",
      "ROC AUC:  0.5719173058916158\n"
     ]
    },
    {
     "name": "stderr",
     "output_type": "stream",
     "text": [
      "/usr/local/lib/python3.8/site-packages/sklearn/metrics/_classification.py:1248: UndefinedMetricWarning: Precision and F-score are ill-defined and being set to 0.0 in samples with no predicted labels. Use `zero_division` parameter to control this behavior.\n",
      "  _warn_prf(average, modifier, msg_start, len(result))\n"
     ]
    }
   ],
   "source": [
    "#Trying with 3 estimators: \n",
    "#training random Forest; n_estimators set at 3, based on above performance\n",
    "random_forest_2 = RandomForestClassifier(n_estimators=3)\n",
    "random_forest_2.fit(x_train, y_train)\n",
    "\n",
    "pred_2 = random_forest_2.predict(x_val)\n",
    "print (\"Random Forest Classification Report\")\n",
    "print(classification_report(y_val, pred_2, labels=range(8), target_names=labels, digits = 3))\n",
    "print(\"Accuracy: \", accuracy_score(y_val, pred_2))\n",
    "#'ovr' Stands for One-vs-rest. Computes the AUC of each class against the rest\n",
    "print(\"ROC AUC: \", roc_auc_score(y_val, pred_2, multi_class='ovr'))"
   ]
  },
  {
   "cell_type": "code",
   "execution_count": 13,
   "id": "f7b36ab7-967d-4132-9653-47bf0d8dd972",
   "metadata": {},
   "outputs": [
    {
     "name": "stdout",
     "output_type": "stream",
     "text": [
      "Random Forest Classification Report\n",
      "              precision    recall  f1-score   support\n",
      "\n",
      "         MEL      0.336     0.164     0.221       895\n",
      "          NV      0.832     0.281     0.420      2592\n",
      "         BCC      0.295     0.094     0.142       684\n",
      "          AK      0.132     0.169     0.148       160\n",
      "         BKL      0.138     0.076     0.098       502\n",
      "          DF      0.043     0.205     0.071        44\n",
      "        VASC      0.062     0.319     0.105        47\n",
      "         SCC      0.107     0.141     0.122       142\n",
      "\n",
      "   micro avg      0.396     0.207     0.272      5066\n",
      "   macro avg      0.243     0.181     0.166      5066\n",
      "weighted avg      0.547     0.207     0.293      5066\n",
      " samples avg      0.207     0.207     0.207      5066\n",
      "\n",
      "Accuracy:  0.20706671930517173\n",
      "ROC AUC:  0.5672968987988957\n"
     ]
    },
    {
     "name": "stderr",
     "output_type": "stream",
     "text": [
      "/usr/local/lib/python3.8/site-packages/sklearn/metrics/_classification.py:1248: UndefinedMetricWarning: Precision and F-score are ill-defined and being set to 0.0 in samples with no predicted labels. Use `zero_division` parameter to control this behavior.\n",
      "  _warn_prf(average, modifier, msg_start, len(result))\n"
     ]
    }
   ],
   "source": [
    "#Predicting on test data using 2nd model with n_estimators = 3\n",
    "pred_3 = random_forest_2.predict(x_test)\n",
    "print (\"Random Forest Classification Report\")\n",
    "print(classification_report(y_test, pred_3, labels=range(8), target_names=labels, digits = 3))\n",
    "print(\"Accuracy: \", accuracy_score(y_test, pred_3))\n",
    "#'ovr' Stands for One-vs-rest. Computes the AUC of each class against the rest\n",
    "print(\"ROC AUC: \", roc_auc_score(y_test, pred_3, multi_class='ovr'))"
   ]
  },
  {
   "cell_type": "code",
   "execution_count": 14,
   "id": "512b9783-239d-46b5-b094-53edc54bf32f",
   "metadata": {
    "tags": []
   },
   "outputs": [
    {
     "data": {
      "image/png": "[encoded data removed]",
      "text/plain": [
       "<Figure size 432x288 with 2 Axes>"
      ]
     },
     "metadata": {
      "needs_background": "light"
     },
     "output_type": "display_data"
    }
   ],
   "source": [
    "#Confusion matrix: \n",
    "cm = confusion_matrix(y_test.argmax(axis=1), pred_3.argmax(axis=1))\n",
    "cm\n",
    "disp = ConfusionMatrixDisplay(confusion_matrix = cm, display_labels = labels)\n",
    "disp.plot(cmap=plt.cm.Blues)\n",
    "plt.title('Random Forest Confusion Matrix')\n",
    "plt.show(); "
   ]
  },
  {
   "cell_type": "markdown",
   "id": "706d2455-2111-4708-b251-8d2f25de4749",
   "metadata": {},
   "source": [
    "### Appears that model is incorrectly predicting benign moles (N)V as melanoma. This is a poor performing model in this context as this would lead to a lot of false positives for patient biopsy. "
   ]
  },
  {
   "cell_type": "code",
   "execution_count": null,
   "id": "d6c86f22-87f0-4dd8-8ec4-6e1793bdc850",
   "metadata": {},
   "outputs": [],
   "source": [
    " "
   ]
  }
 ],
 "metadata": {
  "instance_type": "ml.g4dn.xlarge",
  "kernelspec": {
   "display_name": "Python 3 (TensorFlow 2.6 Python 3.8 GPU Optimized)",
   "language": "python",
   "name": "python3__SAGEMAKER_INTERNAL__arn:aws:sagemaker:us-east-1:081325390199:image/tensorflow-2.6-gpu-py38-cu112-ubuntu20.04-v1"
  },
  "language_info": {
   "codemirror_mode": {
    "name": "ipython",
    "version": 3
   },
   "file_extension": ".py",
   "mimetype": "text/x-python",
   "name": "python",
   "nbconvert_exporter": "python",
   "pygments_lexer": "ipython3",
   "version": "3.8.2"
  }
 },
 "nbformat": 4,
 "nbformat_minor": 5
}
